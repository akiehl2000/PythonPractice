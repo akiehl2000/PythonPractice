{
 "cells": [
  {
   "attachments": {},
   "cell_type": "markdown",
   "metadata": {},
   "source": [
    "# Job Placement Dataset"
   ]
  },
  {
   "cell_type": "code",
   "execution_count": 2,
   "metadata": {},
   "outputs": [],
   "source": [
    "# import packages\n",
    "import keras\n",
    "from keras.callbacks import EarlyStopping\n",
    "from keras import layers\n",
    "from keras.layers import Conv2D, Flatten, Dense, Dropout\n",
    "from keras import models\n",
    "from keras.regularizers import l2\n",
    "from keras.utils import to_categorical\n",
    "import matplotlib.pyplot as plt\n",
    "import numpy as np\n",
    "import pandas as pd\n",
    "import plotly.express as px\n",
    "import random\n",
    "import researchpy as rp\n",
    "import scipy.stats as stats\n",
    "import sklearn\n",
    "from sklearn import compose\n",
    "from sklearn.compose import make_column_selector\n",
    "from sklearn.compose import make_column_transformer\n",
    "from sklearn import discriminant_analysis\n",
    "from sklearn.discriminant_analysis import LinearDiscriminantAnalysis\n",
    "from sklearn import ensemble\n",
    "from sklearn.ensemble import AdaBoostClassifier\n",
    "from sklearn.ensemble import RandomForestClassifier\n",
    "from sklearn import linear_model\n",
    "from sklearn.linear_model import LogisticRegression\n",
    "from sklearn import metrics\n",
    "from sklearn.metrics import accuracy_score\n",
    "from sklearn import model_selection\n",
    "from sklearn.model_selection import cross_val_score\n",
    "from sklearn.model_selection import GridSearchCV\n",
    "from sklearn.model_selection import train_test_split\n",
    "from sklearn import neighbors\n",
    "from sklearn.neighbors import KNeighborsClassifier\n",
    "from sklearn import preprocessing\n",
    "from sklearn.preprocessing import StandardScaler\n",
    "from sklearn.preprocessing import OneHotEncoder\n",
    "from sklearn import svm\n",
    "from sklearn.svm import SVC\n",
    "import tensorflow as tf"
   ]
  },
  {
   "attachments": {},
   "cell_type": "markdown",
   "metadata": {},
   "source": [
    "## Data Exploration"
   ]
  },
  {
   "attachments": {},
   "cell_type": "markdown",
   "metadata": {},
   "source": [
    "Data for this analysis were sourced from Kaggle (https://www.kaggle.com/datasets/ahsan81/job-placement-dataset). The objective of this analysis is to predict job placement status using various attributes of candidate's educational and professional history. The data dictionary supplied by the original poster is given below:\n",
    "\n",
    "**Data Dictionary**  \n",
    "gender : Gender of the candidate  \n",
    "ssc_percentage : Senior secondary exams percentage (10th Grade)  \n",
    "ssc_board : Board of education for ssc exams  \n",
    "hsc_percentage : Higher secondary exams percentage (12th Grade)  \n",
    "hsc_borad : Board of education for hsc exams  \n",
    "hsc_subject : Subject of study for hsc  \n",
    "degree_percentage : Percentage of marks in undergrad degree  \n",
    "undergrad_degree : Undergrad degree majors  \n",
    "work_experience : Past work experience  \n",
    "emp_test_percentage : Aptitude test percentage  \n",
    "specialization : Postgrad degree majors - (MBA specialization)  \n",
    "mba_percent : Percentage of marks in MBA degree  \n",
    "status (TARGET) : Status of placement. Placed / Not Placed"
   ]
  },
  {
   "cell_type": "code",
   "execution_count": 3,
   "metadata": {},
   "outputs": [
    {
     "data": {
      "text/html": [
       "<div>\n",
       "<style scoped>\n",
       "    .dataframe tbody tr th:only-of-type {\n",
       "        vertical-align: middle;\n",
       "    }\n",
       "\n",
       "    .dataframe tbody tr th {\n",
       "        vertical-align: top;\n",
       "    }\n",
       "\n",
       "    .dataframe thead th {\n",
       "        text-align: right;\n",
       "    }\n",
       "</style>\n",
       "<table border=\"1\" class=\"dataframe\">\n",
       "  <thead>\n",
       "    <tr style=\"text-align: right;\">\n",
       "      <th></th>\n",
       "      <th>gender</th>\n",
       "      <th>ssc_percentage</th>\n",
       "      <th>ssc_board</th>\n",
       "      <th>hsc_percentage</th>\n",
       "      <th>hsc_board</th>\n",
       "      <th>hsc_subject</th>\n",
       "      <th>degree_percentage</th>\n",
       "      <th>undergrad_degree</th>\n",
       "      <th>work_experience</th>\n",
       "      <th>emp_test_percentage</th>\n",
       "      <th>specialisation</th>\n",
       "      <th>mba_percent</th>\n",
       "      <th>status</th>\n",
       "    </tr>\n",
       "  </thead>\n",
       "  <tbody>\n",
       "    <tr>\n",
       "      <th>0</th>\n",
       "      <td>M</td>\n",
       "      <td>67.00</td>\n",
       "      <td>Others</td>\n",
       "      <td>91.00</td>\n",
       "      <td>Others</td>\n",
       "      <td>Commerce</td>\n",
       "      <td>58.00</td>\n",
       "      <td>Sci&amp;Tech</td>\n",
       "      <td>No</td>\n",
       "      <td>55.0</td>\n",
       "      <td>Mkt&amp;HR</td>\n",
       "      <td>58.80</td>\n",
       "      <td>Placed</td>\n",
       "    </tr>\n",
       "    <tr>\n",
       "      <th>1</th>\n",
       "      <td>M</td>\n",
       "      <td>79.33</td>\n",
       "      <td>Central</td>\n",
       "      <td>78.33</td>\n",
       "      <td>Others</td>\n",
       "      <td>Science</td>\n",
       "      <td>77.48</td>\n",
       "      <td>Sci&amp;Tech</td>\n",
       "      <td>Yes</td>\n",
       "      <td>86.5</td>\n",
       "      <td>Mkt&amp;Fin</td>\n",
       "      <td>66.28</td>\n",
       "      <td>Placed</td>\n",
       "    </tr>\n",
       "    <tr>\n",
       "      <th>2</th>\n",
       "      <td>M</td>\n",
       "      <td>65.00</td>\n",
       "      <td>Central</td>\n",
       "      <td>68.00</td>\n",
       "      <td>Central</td>\n",
       "      <td>Arts</td>\n",
       "      <td>64.00</td>\n",
       "      <td>Comm&amp;Mgmt</td>\n",
       "      <td>No</td>\n",
       "      <td>75.0</td>\n",
       "      <td>Mkt&amp;Fin</td>\n",
       "      <td>57.80</td>\n",
       "      <td>Placed</td>\n",
       "    </tr>\n",
       "    <tr>\n",
       "      <th>3</th>\n",
       "      <td>M</td>\n",
       "      <td>56.00</td>\n",
       "      <td>Central</td>\n",
       "      <td>52.00</td>\n",
       "      <td>Central</td>\n",
       "      <td>Science</td>\n",
       "      <td>52.00</td>\n",
       "      <td>Sci&amp;Tech</td>\n",
       "      <td>No</td>\n",
       "      <td>66.0</td>\n",
       "      <td>Mkt&amp;HR</td>\n",
       "      <td>59.43</td>\n",
       "      <td>Not Placed</td>\n",
       "    </tr>\n",
       "    <tr>\n",
       "      <th>4</th>\n",
       "      <td>M</td>\n",
       "      <td>85.80</td>\n",
       "      <td>Central</td>\n",
       "      <td>73.60</td>\n",
       "      <td>Central</td>\n",
       "      <td>Commerce</td>\n",
       "      <td>73.30</td>\n",
       "      <td>Comm&amp;Mgmt</td>\n",
       "      <td>No</td>\n",
       "      <td>96.8</td>\n",
       "      <td>Mkt&amp;Fin</td>\n",
       "      <td>55.50</td>\n",
       "      <td>Placed</td>\n",
       "    </tr>\n",
       "  </tbody>\n",
       "</table>\n",
       "</div>"
      ],
      "text/plain": [
       "  gender  ssc_percentage ssc_board  ...  specialisation mba_percent      status\n",
       "0      M           67.00    Others  ...          Mkt&HR       58.80      Placed\n",
       "1      M           79.33   Central  ...         Mkt&Fin       66.28      Placed\n",
       "2      M           65.00   Central  ...         Mkt&Fin       57.80      Placed\n",
       "3      M           56.00   Central  ...          Mkt&HR       59.43  Not Placed\n",
       "4      M           85.80   Central  ...         Mkt&Fin       55.50      Placed\n",
       "\n",
       "[5 rows x 13 columns]"
      ]
     },
     "metadata": {},
     "output_type": "display_data"
    },
    {
     "data": {
      "text/plain": [
       "(215, 13)"
      ]
     },
     "metadata": {},
     "output_type": "display_data"
    }
   ],
   "source": [
    "# read data from .csv file\n",
    "data = pd.read_csv('Job_Placement_Data.csv')\n",
    "\n",
    "# peek at data\n",
    "display(data.head())\n",
    "\n",
    "# check data set dimensions\n",
    "display(data.shape)"
   ]
  },
  {
   "cell_type": "code",
   "execution_count": 4,
   "metadata": {},
   "outputs": [
    {
     "name": "stdout",
     "output_type": "stream",
     "text": [
      "<class 'pandas.core.frame.DataFrame'>\n",
      "RangeIndex: 215 entries, 0 to 214\n",
      "Data columns (total 13 columns):\n",
      " #   Column               Non-Null Count  Dtype  \n",
      "---  ------               --------------  -----  \n",
      " 0   gender               215 non-null    object \n",
      " 1   ssc_percentage       215 non-null    float64\n",
      " 2   ssc_board            215 non-null    object \n",
      " 3   hsc_percentage       215 non-null    float64\n",
      " 4   hsc_board            215 non-null    object \n",
      " 5   hsc_subject          215 non-null    object \n",
      " 6   degree_percentage    215 non-null    float64\n",
      " 7   undergrad_degree     215 non-null    object \n",
      " 8   work_experience      215 non-null    object \n",
      " 9   emp_test_percentage  215 non-null    float64\n",
      " 10  specialisation       215 non-null    object \n",
      " 11  mba_percent          215 non-null    float64\n",
      " 12  status               215 non-null    object \n",
      "dtypes: float64(5), object(8)\n",
      "memory usage: 22.0+ KB\n"
     ]
    },
    {
     "data": {
      "text/plain": [
       "None"
      ]
     },
     "metadata": {},
     "output_type": "display_data"
    },
    {
     "data": {
      "text/plain": [
       "gender                 0\n",
       "ssc_percentage         0\n",
       "ssc_board              0\n",
       "hsc_percentage         0\n",
       "hsc_board              0\n",
       "hsc_subject            0\n",
       "degree_percentage      0\n",
       "undergrad_degree       0\n",
       "work_experience        0\n",
       "emp_test_percentage    0\n",
       "specialisation         0\n",
       "mba_percent            0\n",
       "status                 0\n",
       "dtype: int64"
      ]
     },
     "metadata": {},
     "output_type": "display_data"
    }
   ],
   "source": [
    "# check data types\n",
    "display(data.info())\n",
    "\n",
    "# check for missing values\n",
    "display(data.isna().sum())"
   ]
  },
  {
   "cell_type": "code",
   "execution_count": 5,
   "metadata": {},
   "outputs": [
    {
     "data": {
      "text/plain": [
       "Placed        148\n",
       "Not Placed     67\n",
       "Name: status, dtype: int64"
      ]
     },
     "metadata": {},
     "output_type": "display_data"
    },
    {
     "name": "stdout",
     "output_type": "stream",
     "text": [
      "Placement Rate: 0.688\n"
     ]
    }
   ],
   "source": [
    "# calculate job placement rate\n",
    "display(data['status'].value_counts())\n",
    "print(f\"Placement Rate: {np.mean(data['status'] == 'Placed').round(3)}\")"
   ]
  },
  {
   "attachments": {},
   "cell_type": "markdown",
   "metadata": {},
   "source": [
    "### Numeric Predictors\n",
    "\n",
    "A brief analysis of the numeric predictors in the dataset using visualizations and likelihood ratio tests concluded that *ssc_percentage*, *hsc_percentage*, and *degree_percentage* should likely be included in the final model. Additionally, there was some evidence to suggest that *emp_test_percentage* is associated with placement status so it will be included in future models as well"
   ]
  },
  {
   "cell_type": "code",
   "execution_count": 7,
   "metadata": {},
   "outputs": [
    {
     "data": {
      "text/html": [
       "<div>\n",
       "<style scoped>\n",
       "    .dataframe tbody tr th:only-of-type {\n",
       "        vertical-align: middle;\n",
       "    }\n",
       "\n",
       "    .dataframe tbody tr th {\n",
       "        vertical-align: top;\n",
       "    }\n",
       "\n",
       "    .dataframe thead th {\n",
       "        text-align: right;\n",
       "    }\n",
       "</style>\n",
       "<table border=\"1\" class=\"dataframe\">\n",
       "  <thead>\n",
       "    <tr style=\"text-align: right;\">\n",
       "      <th></th>\n",
       "      <th>ssc_percentage</th>\n",
       "      <th>hsc_percentage</th>\n",
       "      <th>degree_percentage</th>\n",
       "      <th>emp_test_percentage</th>\n",
       "      <th>mba_percent</th>\n",
       "    </tr>\n",
       "  </thead>\n",
       "  <tbody>\n",
       "    <tr>\n",
       "      <th>count</th>\n",
       "      <td>215.000000</td>\n",
       "      <td>215.000000</td>\n",
       "      <td>215.000000</td>\n",
       "      <td>215.000000</td>\n",
       "      <td>215.000000</td>\n",
       "    </tr>\n",
       "    <tr>\n",
       "      <th>mean</th>\n",
       "      <td>67.303395</td>\n",
       "      <td>66.333163</td>\n",
       "      <td>66.370186</td>\n",
       "      <td>72.100558</td>\n",
       "      <td>62.278186</td>\n",
       "    </tr>\n",
       "    <tr>\n",
       "      <th>std</th>\n",
       "      <td>10.827205</td>\n",
       "      <td>10.897509</td>\n",
       "      <td>7.358743</td>\n",
       "      <td>13.275956</td>\n",
       "      <td>5.833385</td>\n",
       "    </tr>\n",
       "    <tr>\n",
       "      <th>min</th>\n",
       "      <td>40.890000</td>\n",
       "      <td>37.000000</td>\n",
       "      <td>50.000000</td>\n",
       "      <td>50.000000</td>\n",
       "      <td>51.210000</td>\n",
       "    </tr>\n",
       "    <tr>\n",
       "      <th>25%</th>\n",
       "      <td>60.600000</td>\n",
       "      <td>60.900000</td>\n",
       "      <td>61.000000</td>\n",
       "      <td>60.000000</td>\n",
       "      <td>57.945000</td>\n",
       "    </tr>\n",
       "    <tr>\n",
       "      <th>50%</th>\n",
       "      <td>67.000000</td>\n",
       "      <td>65.000000</td>\n",
       "      <td>66.000000</td>\n",
       "      <td>71.000000</td>\n",
       "      <td>62.000000</td>\n",
       "    </tr>\n",
       "    <tr>\n",
       "      <th>75%</th>\n",
       "      <td>75.700000</td>\n",
       "      <td>73.000000</td>\n",
       "      <td>72.000000</td>\n",
       "      <td>83.500000</td>\n",
       "      <td>66.255000</td>\n",
       "    </tr>\n",
       "    <tr>\n",
       "      <th>max</th>\n",
       "      <td>89.400000</td>\n",
       "      <td>97.700000</td>\n",
       "      <td>91.000000</td>\n",
       "      <td>98.000000</td>\n",
       "      <td>77.890000</td>\n",
       "    </tr>\n",
       "  </tbody>\n",
       "</table>\n",
       "</div>"
      ],
      "text/plain": [
       "       ssc_percentage  hsc_percentage  degree_percentage  emp_test_percentage  \\\n",
       "count      215.000000      215.000000         215.000000           215.000000   \n",
       "mean        67.303395       66.333163          66.370186            72.100558   \n",
       "std         10.827205       10.897509           7.358743            13.275956   \n",
       "min         40.890000       37.000000          50.000000            50.000000   \n",
       "25%         60.600000       60.900000          61.000000            60.000000   \n",
       "50%         67.000000       65.000000          66.000000            71.000000   \n",
       "75%         75.700000       73.000000          72.000000            83.500000   \n",
       "max         89.400000       97.700000          91.000000            98.000000   \n",
       "\n",
       "       mba_percent  \n",
       "count   215.000000  \n",
       "mean     62.278186  \n",
       "std       5.833385  \n",
       "min      51.210000  \n",
       "25%      57.945000  \n",
       "50%      62.000000  \n",
       "75%      66.255000  \n",
       "max      77.890000  "
      ]
     },
     "execution_count": 7,
     "metadata": {},
     "output_type": "execute_result"
    }
   ],
   "source": [
    "# summarize numeric predictors\n",
    "data.describe()"
   ]
  },
  {
   "cell_type": "code",
   "execution_count": 35,
   "metadata": {},
   "outputs": [],
   "source": [
    "# likelihood ratio test function from http://rnowling.github.io/machine/learning/2017/10/07/likelihood-ratio-test.html\n",
    "def likelihood_ratio_test(features_alternate, labels, lr_model, features_null=None):\n",
    "    \"\"\"\n",
    "    Compute the likelihood ratio test for a model trained on the set of features in\n",
    "    `features_alternate` vs a null model.  If `features_null` is not defined, then\n",
    "    the null model simply uses the intercept (class probabilities).  Note that\n",
    "    `features_null` must be a subset of `features_alternative` -- it can not contain\n",
    "    features that are not in `features_alternate`.\n",
    "    Returns the p-value, which can be used to accept or reject the null hypothesis.\n",
    "    \"\"\"\n",
    "    labels = np.array(labels)\n",
    "    features_alternate = np.array(features_alternate)\n",
    "    \n",
    "    if features_null:\n",
    "        features_null = np.array(features_null)\n",
    "        \n",
    "        if features_null.shape[1] >= features_alternate.shape[1]:\n",
    "            raise (ValueError, \"Alternate features must have more features than null features\")\n",
    "        \n",
    "        lr_model.fit(features_null, labels)\n",
    "        null_prob = lr_model.predict_proba(features_null)[:, 1]\n",
    "        df = features_alternate.shape[1] - features_null.shape[1]\n",
    "    else:\n",
    "        null_prob = sum(labels) / float(labels.shape[0]) * \\\n",
    "                    np.ones(labels.shape)\n",
    "        df = features_alternate.shape[1]\n",
    "    \n",
    "    lr_model.fit(features_alternate, labels)\n",
    "    alt_prob = lr_model.predict_proba(features_alternate)\n",
    "\n",
    "    alt_log_likelihood = -sklearn.metrics.log_loss(labels,\n",
    "                                   alt_prob,\n",
    "                                   normalize=False)\n",
    "    null_log_likelihood = -sklearn.metrics.log_loss(labels,\n",
    "                                    null_prob,\n",
    "                                    normalize=False)\n",
    "\n",
    "    G = 2 * (alt_log_likelihood - null_log_likelihood)\n",
    "    p_value = stats.chi2.sf(G, df)\n",
    "\n",
    "    return p_value"
   ]
  },
  {
   "cell_type": "code",
   "execution_count": 36,
   "metadata": {},
   "outputs": [
    {
     "data": {
      "application/vnd.plotly.v1+json": {
       "config": {
        "plotlyServerURL": "https://plot.ly"
       },
       "data": [
        {
         "alignmentgroup": "True",
         "hovertemplate": "Placement Status=%{x}<br>SSC Percentage=%{y}<extra></extra>",
         "legendgroup": "",
         "marker": {
          "color": "#636efa"
         },
         "name": "",
         "notched": false,
         "offsetgroup": "",
         "orientation": "v",
         "showlegend": false,
         "type": "box",
         "x": [
          "Placed",
          "Placed",
          "Placed",
          "Not Placed",
          "Placed",
          "Not Placed",
          "Not Placed",
          "Placed",
          "Placed",
          "Not Placed",
          "Placed",
          "Placed",
          "Not Placed",
          "Placed",
          "Not Placed",
          "Placed",
          "Placed",
          "Not Placed",
          "Not Placed",
          "Placed",
          "Placed",
          "Placed",
          "Placed",
          "Placed",
          "Placed",
          "Not Placed",
          "Placed",
          "Placed",
          "Placed",
          "Not Placed",
          "Placed",
          "Not Placed",
          "Placed",
          "Placed",
          "Not Placed",
          "Placed",
          "Not Placed",
          "Placed",
          "Placed",
          "Placed",
          "Placed",
          "Not Placed",
          "Not Placed",
          "Placed",
          "Placed",
          "Not Placed",
          "Not Placed",
          "Placed",
          "Placed",
          "Not Placed",
          "Placed",
          "Not Placed",
          "Not Placed",
          "Placed",
          "Placed",
          "Placed",
          "Placed",
          "Placed",
          "Placed",
          "Placed",
          "Placed",
          "Placed",
          "Placed",
          "Not Placed",
          "Placed",
          "Not Placed",
          "Placed",
          "Placed",
          "Not Placed",
          "Placed",
          "Placed",
          "Placed",
          "Placed",
          "Placed",
          "Placed",
          "Not Placed",
          "Placed",
          "Placed",
          "Placed",
          "Not Placed",
          "Placed",
          "Placed",
          "Not Placed",
          "Placed",
          "Placed",
          "Placed",
          "Placed",
          "Not Placed",
          "Placed",
          "Placed",
          "Placed",
          "Not Placed",
          "Placed",
          "Not Placed",
          "Placed",
          "Placed",
          "Placed",
          "Not Placed",
          "Placed",
          "Not Placed",
          "Not Placed",
          "Placed",
          "Placed",
          "Placed",
          "Placed",
          "Not Placed",
          "Not Placed",
          "Placed",
          "Placed",
          "Not Placed",
          "Placed",
          "Not Placed",
          "Placed",
          "Placed",
          "Placed",
          "Placed",
          "Placed",
          "Placed",
          "Placed",
          "Placed",
          "Not Placed",
          "Placed",
          "Placed",
          "Placed",
          "Placed",
          "Placed",
          "Placed",
          "Placed",
          "Placed",
          "Placed",
          "Not Placed",
          "Placed",
          "Placed",
          "Placed",
          "Placed",
          "Placed",
          "Not Placed",
          "Placed",
          "Placed",
          "Placed",
          "Placed",
          "Not Placed",
          "Placed",
          "Placed",
          "Not Placed",
          "Placed",
          "Placed",
          "Placed",
          "Placed",
          "Not Placed",
          "Placed",
          "Placed",
          "Placed",
          "Placed",
          "Placed",
          "Not Placed",
          "Placed",
          "Placed",
          "Not Placed",
          "Not Placed",
          "Placed",
          "Not Placed",
          "Placed",
          "Placed",
          "Placed",
          "Not Placed",
          "Placed",
          "Not Placed",
          "Not Placed",
          "Not Placed",
          "Not Placed",
          "Placed",
          "Placed",
          "Not Placed",
          "Placed",
          "Not Placed",
          "Placed",
          "Placed",
          "Placed",
          "Not Placed",
          "Placed",
          "Not Placed",
          "Not Placed",
          "Placed",
          "Not Placed",
          "Placed",
          "Not Placed",
          "Placed",
          "Not Placed",
          "Not Placed",
          "Not Placed",
          "Placed",
          "Placed",
          "Placed",
          "Not Placed",
          "Placed",
          "Placed",
          "Placed",
          "Not Placed",
          "Placed",
          "Placed",
          "Not Placed",
          "Placed",
          "Placed",
          "Placed",
          "Placed",
          "Not Placed",
          "Placed",
          "Not Placed",
          "Placed",
          "Placed",
          "Placed",
          "Placed",
          "Placed",
          "Not Placed"
         ],
         "x0": " ",
         "xaxis": "x",
         "y": [
          67,
          79.33,
          65,
          56,
          85.8,
          55,
          46,
          82,
          73,
          58,
          58,
          69.6,
          47,
          77,
          62,
          65,
          63,
          55,
          63,
          60,
          62,
          79,
          69.8,
          77.4,
          76.5,
          52.58,
          71,
          63,
          76.76,
          62,
          64,
          67,
          61,
          87,
          62,
          69,
          51,
          79,
          73,
          81,
          78,
          74,
          49,
          87,
          77,
          76,
          70.89,
          63,
          63,
          50,
          75.2,
          54.4,
          40.89,
          80,
          74,
          60.4,
          63,
          68,
          74,
          52.6,
          74,
          84.2,
          86.5,
          61,
          80,
          54,
          83,
          80.92,
          69.7,
          73,
          82,
          75,
          84.86,
          64.6,
          56.6,
          59,
          66.5,
          64,
          84,
          69,
          69,
          81.7,
          63,
          84,
          70,
          83.84,
          62,
          59.6,
          66,
          84,
          85,
          52,
          60.23,
          52,
          58,
          73,
          76,
          70.5,
          69,
          54,
          45,
          63,
          77,
          73,
          69,
          59,
          61.08,
          82,
          61,
          52,
          69.5,
          51,
          58,
          73.96,
          65,
          73,
          68.2,
          77,
          76,
          60.8,
          58,
          64,
          66.5,
          74,
          67,
          84,
          79,
          72,
          80.4,
          76.7,
          62,
          74.9,
          67,
          73,
          77.44,
          72,
          47,
          67,
          82,
          77,
          65,
          66,
          85,
          77.67,
          52,
          89.4,
          62,
          70,
          77,
          44,
          71,
          65,
          75.4,
          49,
          53,
          51.57,
          84.2,
          66.5,
          67,
          52,
          87,
          55.6,
          74.2,
          63,
          67.16,
          63.3,
          62,
          67.9,
          48,
          59.96,
          63.4,
          80,
          73,
          52,
          73.24,
          63,
          59,
          73,
          68,
          77.8,
          65,
          62,
          52,
          65,
          56.28,
          88,
          52,
          78.5,
          61.8,
          54,
          64,
          67,
          65.2,
          60,
          52,
          66,
          72,
          83.96,
          67,
          69,
          69,
          54.2,
          70,
          55.68,
          74,
          61,
          41,
          83.33,
          43,
          62,
          80.6,
          58,
          67,
          74,
          62
         ],
         "y0": " ",
         "yaxis": "y"
        }
       ],
       "layout": {
        "boxmode": "group",
        "legend": {
         "tracegroupgap": 0
        },
        "template": {
         "data": {
          "bar": [
           {
            "error_x": {
             "color": "#2a3f5f"
            },
            "error_y": {
             "color": "#2a3f5f"
            },
            "marker": {
             "line": {
              "color": "#E5ECF6",
              "width": 0.5
             },
             "pattern": {
              "fillmode": "overlay",
              "size": 10,
              "solidity": 0.2
             }
            },
            "type": "bar"
           }
          ],
          "barpolar": [
           {
            "marker": {
             "line": {
              "color": "#E5ECF6",
              "width": 0.5
             },
             "pattern": {
              "fillmode": "overlay",
              "size": 10,
              "solidity": 0.2
             }
            },
            "type": "barpolar"
           }
          ],
          "carpet": [
           {
            "aaxis": {
             "endlinecolor": "#2a3f5f",
             "gridcolor": "white",
             "linecolor": "white",
             "minorgridcolor": "white",
             "startlinecolor": "#2a3f5f"
            },
            "baxis": {
             "endlinecolor": "#2a3f5f",
             "gridcolor": "white",
             "linecolor": "white",
             "minorgridcolor": "white",
             "startlinecolor": "#2a3f5f"
            },
            "type": "carpet"
           }
          ],
          "choropleth": [
           {
            "colorbar": {
             "outlinewidth": 0,
             "ticks": ""
            },
            "type": "choropleth"
           }
          ],
          "contour": [
           {
            "colorbar": {
             "outlinewidth": 0,
             "ticks": ""
            },
            "colorscale": [
             [
              0,
              "#0d0887"
             ],
             [
              0.1111111111111111,
              "#46039f"
             ],
             [
              0.2222222222222222,
              "#7201a8"
             ],
             [
              0.3333333333333333,
              "#9c179e"
             ],
             [
              0.4444444444444444,
              "#bd3786"
             ],
             [
              0.5555555555555556,
              "#d8576b"
             ],
             [
              0.6666666666666666,
              "#ed7953"
             ],
             [
              0.7777777777777778,
              "#fb9f3a"
             ],
             [
              0.8888888888888888,
              "#fdca26"
             ],
             [
              1,
              "#f0f921"
             ]
            ],
            "type": "contour"
           }
          ],
          "contourcarpet": [
           {
            "colorbar": {
             "outlinewidth": 0,
             "ticks": ""
            },
            "type": "contourcarpet"
           }
          ],
          "heatmap": [
           {
            "colorbar": {
             "outlinewidth": 0,
             "ticks": ""
            },
            "colorscale": [
             [
              0,
              "#0d0887"
             ],
             [
              0.1111111111111111,
              "#46039f"
             ],
             [
              0.2222222222222222,
              "#7201a8"
             ],
             [
              0.3333333333333333,
              "#9c179e"
             ],
             [
              0.4444444444444444,
              "#bd3786"
             ],
             [
              0.5555555555555556,
              "#d8576b"
             ],
             [
              0.6666666666666666,
              "#ed7953"
             ],
             [
              0.7777777777777778,
              "#fb9f3a"
             ],
             [
              0.8888888888888888,
              "#fdca26"
             ],
             [
              1,
              "#f0f921"
             ]
            ],
            "type": "heatmap"
           }
          ],
          "heatmapgl": [
           {
            "colorbar": {
             "outlinewidth": 0,
             "ticks": ""
            },
            "colorscale": [
             [
              0,
              "#0d0887"
             ],
             [
              0.1111111111111111,
              "#46039f"
             ],
             [
              0.2222222222222222,
              "#7201a8"
             ],
             [
              0.3333333333333333,
              "#9c179e"
             ],
             [
              0.4444444444444444,
              "#bd3786"
             ],
             [
              0.5555555555555556,
              "#d8576b"
             ],
             [
              0.6666666666666666,
              "#ed7953"
             ],
             [
              0.7777777777777778,
              "#fb9f3a"
             ],
             [
              0.8888888888888888,
              "#fdca26"
             ],
             [
              1,
              "#f0f921"
             ]
            ],
            "type": "heatmapgl"
           }
          ],
          "histogram": [
           {
            "marker": {
             "pattern": {
              "fillmode": "overlay",
              "size": 10,
              "solidity": 0.2
             }
            },
            "type": "histogram"
           }
          ],
          "histogram2d": [
           {
            "colorbar": {
             "outlinewidth": 0,
             "ticks": ""
            },
            "colorscale": [
             [
              0,
              "#0d0887"
             ],
             [
              0.1111111111111111,
              "#46039f"
             ],
             [
              0.2222222222222222,
              "#7201a8"
             ],
             [
              0.3333333333333333,
              "#9c179e"
             ],
             [
              0.4444444444444444,
              "#bd3786"
             ],
             [
              0.5555555555555556,
              "#d8576b"
             ],
             [
              0.6666666666666666,
              "#ed7953"
             ],
             [
              0.7777777777777778,
              "#fb9f3a"
             ],
             [
              0.8888888888888888,
              "#fdca26"
             ],
             [
              1,
              "#f0f921"
             ]
            ],
            "type": "histogram2d"
           }
          ],
          "histogram2dcontour": [
           {
            "colorbar": {
             "outlinewidth": 0,
             "ticks": ""
            },
            "colorscale": [
             [
              0,
              "#0d0887"
             ],
             [
              0.1111111111111111,
              "#46039f"
             ],
             [
              0.2222222222222222,
              "#7201a8"
             ],
             [
              0.3333333333333333,
              "#9c179e"
             ],
             [
              0.4444444444444444,
              "#bd3786"
             ],
             [
              0.5555555555555556,
              "#d8576b"
             ],
             [
              0.6666666666666666,
              "#ed7953"
             ],
             [
              0.7777777777777778,
              "#fb9f3a"
             ],
             [
              0.8888888888888888,
              "#fdca26"
             ],
             [
              1,
              "#f0f921"
             ]
            ],
            "type": "histogram2dcontour"
           }
          ],
          "mesh3d": [
           {
            "colorbar": {
             "outlinewidth": 0,
             "ticks": ""
            },
            "type": "mesh3d"
           }
          ],
          "parcoords": [
           {
            "line": {
             "colorbar": {
              "outlinewidth": 0,
              "ticks": ""
             }
            },
            "type": "parcoords"
           }
          ],
          "pie": [
           {
            "automargin": true,
            "type": "pie"
           }
          ],
          "scatter": [
           {
            "fillpattern": {
             "fillmode": "overlay",
             "size": 10,
             "solidity": 0.2
            },
            "type": "scatter"
           }
          ],
          "scatter3d": [
           {
            "line": {
             "colorbar": {
              "outlinewidth": 0,
              "ticks": ""
             }
            },
            "marker": {
             "colorbar": {
              "outlinewidth": 0,
              "ticks": ""
             }
            },
            "type": "scatter3d"
           }
          ],
          "scattercarpet": [
           {
            "marker": {
             "colorbar": {
              "outlinewidth": 0,
              "ticks": ""
             }
            },
            "type": "scattercarpet"
           }
          ],
          "scattergeo": [
           {
            "marker": {
             "colorbar": {
              "outlinewidth": 0,
              "ticks": ""
             }
            },
            "type": "scattergeo"
           }
          ],
          "scattergl": [
           {
            "marker": {
             "colorbar": {
              "outlinewidth": 0,
              "ticks": ""
             }
            },
            "type": "scattergl"
           }
          ],
          "scattermapbox": [
           {
            "marker": {
             "colorbar": {
              "outlinewidth": 0,
              "ticks": ""
             }
            },
            "type": "scattermapbox"
           }
          ],
          "scatterpolar": [
           {
            "marker": {
             "colorbar": {
              "outlinewidth": 0,
              "ticks": ""
             }
            },
            "type": "scatterpolar"
           }
          ],
          "scatterpolargl": [
           {
            "marker": {
             "colorbar": {
              "outlinewidth": 0,
              "ticks": ""
             }
            },
            "type": "scatterpolargl"
           }
          ],
          "scatterternary": [
           {
            "marker": {
             "colorbar": {
              "outlinewidth": 0,
              "ticks": ""
             }
            },
            "type": "scatterternary"
           }
          ],
          "surface": [
           {
            "colorbar": {
             "outlinewidth": 0,
             "ticks": ""
            },
            "colorscale": [
             [
              0,
              "#0d0887"
             ],
             [
              0.1111111111111111,
              "#46039f"
             ],
             [
              0.2222222222222222,
              "#7201a8"
             ],
             [
              0.3333333333333333,
              "#9c179e"
             ],
             [
              0.4444444444444444,
              "#bd3786"
             ],
             [
              0.5555555555555556,
              "#d8576b"
             ],
             [
              0.6666666666666666,
              "#ed7953"
             ],
             [
              0.7777777777777778,
              "#fb9f3a"
             ],
             [
              0.8888888888888888,
              "#fdca26"
             ],
             [
              1,
              "#f0f921"
             ]
            ],
            "type": "surface"
           }
          ],
          "table": [
           {
            "cells": {
             "fill": {
              "color": "#EBF0F8"
             },
             "line": {
              "color": "white"
             }
            },
            "header": {
             "fill": {
              "color": "#C8D4E3"
             },
             "line": {
              "color": "white"
             }
            },
            "type": "table"
           }
          ]
         },
         "layout": {
          "annotationdefaults": {
           "arrowcolor": "#2a3f5f",
           "arrowhead": 0,
           "arrowwidth": 1
          },
          "autotypenumbers": "strict",
          "coloraxis": {
           "colorbar": {
            "outlinewidth": 0,
            "ticks": ""
           }
          },
          "colorscale": {
           "diverging": [
            [
             0,
             "#8e0152"
            ],
            [
             0.1,
             "#c51b7d"
            ],
            [
             0.2,
             "#de77ae"
            ],
            [
             0.3,
             "#f1b6da"
            ],
            [
             0.4,
             "#fde0ef"
            ],
            [
             0.5,
             "#f7f7f7"
            ],
            [
             0.6,
             "#e6f5d0"
            ],
            [
             0.7,
             "#b8e186"
            ],
            [
             0.8,
             "#7fbc41"
            ],
            [
             0.9,
             "#4d9221"
            ],
            [
             1,
             "#276419"
            ]
           ],
           "sequential": [
            [
             0,
             "#0d0887"
            ],
            [
             0.1111111111111111,
             "#46039f"
            ],
            [
             0.2222222222222222,
             "#7201a8"
            ],
            [
             0.3333333333333333,
             "#9c179e"
            ],
            [
             0.4444444444444444,
             "#bd3786"
            ],
            [
             0.5555555555555556,
             "#d8576b"
            ],
            [
             0.6666666666666666,
             "#ed7953"
            ],
            [
             0.7777777777777778,
             "#fb9f3a"
            ],
            [
             0.8888888888888888,
             "#fdca26"
            ],
            [
             1,
             "#f0f921"
            ]
           ],
           "sequentialminus": [
            [
             0,
             "#0d0887"
            ],
            [
             0.1111111111111111,
             "#46039f"
            ],
            [
             0.2222222222222222,
             "#7201a8"
            ],
            [
             0.3333333333333333,
             "#9c179e"
            ],
            [
             0.4444444444444444,
             "#bd3786"
            ],
            [
             0.5555555555555556,
             "#d8576b"
            ],
            [
             0.6666666666666666,
             "#ed7953"
            ],
            [
             0.7777777777777778,
             "#fb9f3a"
            ],
            [
             0.8888888888888888,
             "#fdca26"
            ],
            [
             1,
             "#f0f921"
            ]
           ]
          },
          "colorway": [
           "#636efa",
           "#EF553B",
           "#00cc96",
           "#ab63fa",
           "#FFA15A",
           "#19d3f3",
           "#FF6692",
           "#B6E880",
           "#FF97FF",
           "#FECB52"
          ],
          "font": {
           "color": "#2a3f5f"
          },
          "geo": {
           "bgcolor": "white",
           "lakecolor": "white",
           "landcolor": "#E5ECF6",
           "showlakes": true,
           "showland": true,
           "subunitcolor": "white"
          },
          "hoverlabel": {
           "align": "left"
          },
          "hovermode": "closest",
          "mapbox": {
           "style": "light"
          },
          "paper_bgcolor": "white",
          "plot_bgcolor": "#E5ECF6",
          "polar": {
           "angularaxis": {
            "gridcolor": "white",
            "linecolor": "white",
            "ticks": ""
           },
           "bgcolor": "#E5ECF6",
           "radialaxis": {
            "gridcolor": "white",
            "linecolor": "white",
            "ticks": ""
           }
          },
          "scene": {
           "xaxis": {
            "backgroundcolor": "#E5ECF6",
            "gridcolor": "white",
            "gridwidth": 2,
            "linecolor": "white",
            "showbackground": true,
            "ticks": "",
            "zerolinecolor": "white"
           },
           "yaxis": {
            "backgroundcolor": "#E5ECF6",
            "gridcolor": "white",
            "gridwidth": 2,
            "linecolor": "white",
            "showbackground": true,
            "ticks": "",
            "zerolinecolor": "white"
           },
           "zaxis": {
            "backgroundcolor": "#E5ECF6",
            "gridcolor": "white",
            "gridwidth": 2,
            "linecolor": "white",
            "showbackground": true,
            "ticks": "",
            "zerolinecolor": "white"
           }
          },
          "shapedefaults": {
           "line": {
            "color": "#2a3f5f"
           }
          },
          "ternary": {
           "aaxis": {
            "gridcolor": "white",
            "linecolor": "white",
            "ticks": ""
           },
           "baxis": {
            "gridcolor": "white",
            "linecolor": "white",
            "ticks": ""
           },
           "bgcolor": "#E5ECF6",
           "caxis": {
            "gridcolor": "white",
            "linecolor": "white",
            "ticks": ""
           }
          },
          "title": {
           "x": 0.05
          },
          "xaxis": {
           "automargin": true,
           "gridcolor": "white",
           "linecolor": "white",
           "ticks": "",
           "title": {
            "standoff": 15
           },
           "zerolinecolor": "white",
           "zerolinewidth": 2
          },
          "yaxis": {
           "automargin": true,
           "gridcolor": "white",
           "linecolor": "white",
           "ticks": "",
           "title": {
            "standoff": 15
           },
           "zerolinecolor": "white",
           "zerolinewidth": 2
          }
         }
        },
        "title": {
         "text": "SSC Percentage Comparison"
        },
        "xaxis": {
         "anchor": "y",
         "domain": [
          0,
          1
         ],
         "title": {
          "text": "Placement Status"
         }
        },
        "yaxis": {
         "anchor": "x",
         "domain": [
          0,
          1
         ],
         "title": {
          "text": "SSC Percentage"
         }
        }
       }
      }
     },
     "metadata": {},
     "output_type": "display_data"
    },
    {
     "name": "stdout",
     "output_type": "stream",
     "text": [
      "LRT p-value: 8.939383353715161e-23\n"
     ]
    }
   ],
   "source": [
    "# boxplot factored by status\n",
    "px.box(x = data['status'], \n",
    "       y = data['ssc_percentage'],\n",
    "       labels = {\n",
    "            'x': 'Placement Status',\n",
    "            'y': 'SSC Percentage'\n",
    "       },\n",
    "       title = 'SSC Percentage Comparison').show()\n",
    "\n",
    "# fit logistic regression model on single predictor\n",
    "logFit = LogisticRegression().fit(np.array(data['ssc_percentage']).reshape(-1, 1), \n",
    "                                  data['status'])\n",
    "\n",
    "# perform likelihood ratio test for independence\n",
    "lrtPval = likelihood_ratio_test(np.array(data['ssc_percentage']).reshape(-1, 1), \n",
    "                                (data['status'] == 'Placed').astype(int), \n",
    "                                logFit)\n",
    "print(f\"LRT p-value: {lrtPval}\")"
   ]
  },
  {
   "cell_type": "code",
   "execution_count": 791,
   "metadata": {},
   "outputs": [
    {
     "data": {
      "application/vnd.plotly.v1+json": {
       "config": {
        "plotlyServerURL": "https://plot.ly"
       },
       "data": [
        {
         "alignmentgroup": "True",
         "hovertemplate": "Placement Status=%{x}<br>HSC Percentage=%{y}<extra></extra>",
         "legendgroup": "",
         "marker": {
          "color": "#636efa"
         },
         "name": "",
         "notched": false,
         "offsetgroup": "",
         "orientation": "v",
         "showlegend": false,
         "type": "box",
         "x": [
          "Placed",
          "Placed",
          "Placed",
          "Not Placed",
          "Placed",
          "Not Placed",
          "Not Placed",
          "Placed",
          "Placed",
          "Not Placed",
          "Placed",
          "Placed",
          "Not Placed",
          "Placed",
          "Not Placed",
          "Placed",
          "Placed",
          "Not Placed",
          "Not Placed",
          "Placed",
          "Placed",
          "Placed",
          "Placed",
          "Placed",
          "Placed",
          "Not Placed",
          "Placed",
          "Placed",
          "Placed",
          "Not Placed",
          "Placed",
          "Not Placed",
          "Placed",
          "Placed",
          "Not Placed",
          "Placed",
          "Not Placed",
          "Placed",
          "Placed",
          "Placed",
          "Placed",
          "Not Placed",
          "Not Placed",
          "Placed",
          "Placed",
          "Not Placed",
          "Not Placed",
          "Placed",
          "Placed",
          "Not Placed",
          "Placed",
          "Not Placed",
          "Not Placed",
          "Placed",
          "Placed",
          "Placed",
          "Placed",
          "Placed",
          "Placed",
          "Placed",
          "Placed",
          "Placed",
          "Placed",
          "Not Placed",
          "Placed",
          "Not Placed",
          "Placed",
          "Placed",
          "Not Placed",
          "Placed",
          "Placed",
          "Placed",
          "Placed",
          "Placed",
          "Placed",
          "Not Placed",
          "Placed",
          "Placed",
          "Placed",
          "Not Placed",
          "Placed",
          "Placed",
          "Not Placed",
          "Placed",
          "Placed",
          "Placed",
          "Placed",
          "Not Placed",
          "Placed",
          "Placed",
          "Placed",
          "Not Placed",
          "Placed",
          "Not Placed",
          "Placed",
          "Placed",
          "Placed",
          "Not Placed",
          "Placed",
          "Not Placed",
          "Not Placed",
          "Placed",
          "Placed",
          "Placed",
          "Placed",
          "Not Placed",
          "Not Placed",
          "Placed",
          "Placed",
          "Not Placed",
          "Placed",
          "Not Placed",
          "Placed",
          "Placed",
          "Placed",
          "Placed",
          "Placed",
          "Placed",
          "Placed",
          "Placed",
          "Not Placed",
          "Placed",
          "Placed",
          "Placed",
          "Placed",
          "Placed",
          "Placed",
          "Placed",
          "Placed",
          "Placed",
          "Not Placed",
          "Placed",
          "Placed",
          "Placed",
          "Placed",
          "Placed",
          "Not Placed",
          "Placed",
          "Placed",
          "Placed",
          "Placed",
          "Not Placed",
          "Placed",
          "Placed",
          "Not Placed",
          "Placed",
          "Placed",
          "Placed",
          "Placed",
          "Not Placed",
          "Placed",
          "Placed",
          "Placed",
          "Placed",
          "Placed",
          "Not Placed",
          "Placed",
          "Placed",
          "Not Placed",
          "Not Placed",
          "Placed",
          "Not Placed",
          "Placed",
          "Placed",
          "Placed",
          "Not Placed",
          "Placed",
          "Not Placed",
          "Not Placed",
          "Not Placed",
          "Not Placed",
          "Placed",
          "Placed",
          "Not Placed",
          "Placed",
          "Not Placed",
          "Placed",
          "Placed",
          "Placed",
          "Not Placed",
          "Placed",
          "Not Placed",
          "Not Placed",
          "Placed",
          "Not Placed",
          "Placed",
          "Not Placed",
          "Placed",
          "Not Placed",
          "Not Placed",
          "Not Placed",
          "Placed",
          "Placed",
          "Placed",
          "Not Placed",
          "Placed",
          "Placed",
          "Placed",
          "Not Placed",
          "Placed",
          "Placed",
          "Not Placed",
          "Placed",
          "Placed",
          "Placed",
          "Placed",
          "Not Placed",
          "Placed",
          "Not Placed",
          "Placed",
          "Placed",
          "Placed",
          "Placed",
          "Placed",
          "Not Placed"
         ],
         "x0": " ",
         "xaxis": "x",
         "y": [
          91,
          78.33,
          68,
          52,
          73.6,
          49.8,
          49.2,
          64,
          79,
          70,
          61,
          68.4,
          55,
          87,
          47,
          75,
          66.2,
          67,
          66,
          67,
          65,
          76,
          60.8,
          60,
          97.7,
          54.6,
          79,
          67,
          76.5,
          67,
          73.5,
          53,
          81,
          65,
          51,
          78,
          44,
          76,
          58,
          68,
          77,
          63.16,
          39,
          87,
          73,
          64,
          71.98,
          60,
          62,
          37,
          73.2,
          61.12,
          45.83,
          70,
          60,
          66.6,
          71.4,
          76,
          62,
          65.58,
          70,
          73.4,
          64.2,
          70,
          73,
          47,
          74,
          78.5,
          47,
          73,
          61,
          70.29,
          67,
          83.83,
          64.8,
          62,
          70.4,
          80,
          90.9,
          62,
          62,
          63,
          67,
          79,
          63,
          89.83,
          63,
          51,
          62,
          75,
          90,
          57,
          69,
          62,
          62,
          78,
          70,
          62.5,
          73,
          82,
          57,
          72,
          61,
          78,
          63,
          64,
          50,
          90,
          82,
          63,
          70,
          54,
          61,
          79,
          68,
          63,
          72.8,
          75,
          80,
          68.4,
          40,
          67,
          66.8,
          59,
          71,
          73,
          61,
          60,
          73.4,
          89.7,
          65,
          57,
          68,
          64,
          92,
          56,
          59,
          63,
          64,
          70,
          64.8,
          64,
          60,
          64.89,
          50,
          65.66,
          63,
          74,
          86,
          58,
          58.66,
          65,
          60.5,
          59,
          63,
          74.66,
          69.4,
          62.5,
          63,
          49,
          74,
          51,
          87.6,
          67,
          72.5,
          78.33,
          62,
          62,
          51,
          42.16,
          67.2,
          80,
          58,
          52,
          50.83,
          62,
          60,
          97,
          56,
          64,
          71.5,
          60.33,
          65,
          77,
          62.83,
          72,
          64,
          65.5,
          47,
          77.6,
          70.2,
          61,
          61.4,
          63,
          55,
          76,
          63,
          53,
          70,
          65,
          60,
          63,
          63,
          61.33,
          73,
          62,
          42,
          78,
          60,
          72,
          82,
          60,
          67,
          66,
          58
         ],
         "y0": " ",
         "yaxis": "y"
        }
       ],
       "layout": {
        "boxmode": "group",
        "legend": {
         "tracegroupgap": 0
        },
        "template": {
         "data": {
          "bar": [
           {
            "error_x": {
             "color": "#2a3f5f"
            },
            "error_y": {
             "color": "#2a3f5f"
            },
            "marker": {
             "line": {
              "color": "#E5ECF6",
              "width": 0.5
             },
             "pattern": {
              "fillmode": "overlay",
              "size": 10,
              "solidity": 0.2
             }
            },
            "type": "bar"
           }
          ],
          "barpolar": [
           {
            "marker": {
             "line": {
              "color": "#E5ECF6",
              "width": 0.5
             },
             "pattern": {
              "fillmode": "overlay",
              "size": 10,
              "solidity": 0.2
             }
            },
            "type": "barpolar"
           }
          ],
          "carpet": [
           {
            "aaxis": {
             "endlinecolor": "#2a3f5f",
             "gridcolor": "white",
             "linecolor": "white",
             "minorgridcolor": "white",
             "startlinecolor": "#2a3f5f"
            },
            "baxis": {
             "endlinecolor": "#2a3f5f",
             "gridcolor": "white",
             "linecolor": "white",
             "minorgridcolor": "white",
             "startlinecolor": "#2a3f5f"
            },
            "type": "carpet"
           }
          ],
          "choropleth": [
           {
            "colorbar": {
             "outlinewidth": 0,
             "ticks": ""
            },
            "type": "choropleth"
           }
          ],
          "contour": [
           {
            "colorbar": {
             "outlinewidth": 0,
             "ticks": ""
            },
            "colorscale": [
             [
              0,
              "#0d0887"
             ],
             [
              0.1111111111111111,
              "#46039f"
             ],
             [
              0.2222222222222222,
              "#7201a8"
             ],
             [
              0.3333333333333333,
              "#9c179e"
             ],
             [
              0.4444444444444444,
              "#bd3786"
             ],
             [
              0.5555555555555556,
              "#d8576b"
             ],
             [
              0.6666666666666666,
              "#ed7953"
             ],
             [
              0.7777777777777778,
              "#fb9f3a"
             ],
             [
              0.8888888888888888,
              "#fdca26"
             ],
             [
              1,
              "#f0f921"
             ]
            ],
            "type": "contour"
           }
          ],
          "contourcarpet": [
           {
            "colorbar": {
             "outlinewidth": 0,
             "ticks": ""
            },
            "type": "contourcarpet"
           }
          ],
          "heatmap": [
           {
            "colorbar": {
             "outlinewidth": 0,
             "ticks": ""
            },
            "colorscale": [
             [
              0,
              "#0d0887"
             ],
             [
              0.1111111111111111,
              "#46039f"
             ],
             [
              0.2222222222222222,
              "#7201a8"
             ],
             [
              0.3333333333333333,
              "#9c179e"
             ],
             [
              0.4444444444444444,
              "#bd3786"
             ],
             [
              0.5555555555555556,
              "#d8576b"
             ],
             [
              0.6666666666666666,
              "#ed7953"
             ],
             [
              0.7777777777777778,
              "#fb9f3a"
             ],
             [
              0.8888888888888888,
              "#fdca26"
             ],
             [
              1,
              "#f0f921"
             ]
            ],
            "type": "heatmap"
           }
          ],
          "heatmapgl": [
           {
            "colorbar": {
             "outlinewidth": 0,
             "ticks": ""
            },
            "colorscale": [
             [
              0,
              "#0d0887"
             ],
             [
              0.1111111111111111,
              "#46039f"
             ],
             [
              0.2222222222222222,
              "#7201a8"
             ],
             [
              0.3333333333333333,
              "#9c179e"
             ],
             [
              0.4444444444444444,
              "#bd3786"
             ],
             [
              0.5555555555555556,
              "#d8576b"
             ],
             [
              0.6666666666666666,
              "#ed7953"
             ],
             [
              0.7777777777777778,
              "#fb9f3a"
             ],
             [
              0.8888888888888888,
              "#fdca26"
             ],
             [
              1,
              "#f0f921"
             ]
            ],
            "type": "heatmapgl"
           }
          ],
          "histogram": [
           {
            "marker": {
             "pattern": {
              "fillmode": "overlay",
              "size": 10,
              "solidity": 0.2
             }
            },
            "type": "histogram"
           }
          ],
          "histogram2d": [
           {
            "colorbar": {
             "outlinewidth": 0,
             "ticks": ""
            },
            "colorscale": [
             [
              0,
              "#0d0887"
             ],
             [
              0.1111111111111111,
              "#46039f"
             ],
             [
              0.2222222222222222,
              "#7201a8"
             ],
             [
              0.3333333333333333,
              "#9c179e"
             ],
             [
              0.4444444444444444,
              "#bd3786"
             ],
             [
              0.5555555555555556,
              "#d8576b"
             ],
             [
              0.6666666666666666,
              "#ed7953"
             ],
             [
              0.7777777777777778,
              "#fb9f3a"
             ],
             [
              0.8888888888888888,
              "#fdca26"
             ],
             [
              1,
              "#f0f921"
             ]
            ],
            "type": "histogram2d"
           }
          ],
          "histogram2dcontour": [
           {
            "colorbar": {
             "outlinewidth": 0,
             "ticks": ""
            },
            "colorscale": [
             [
              0,
              "#0d0887"
             ],
             [
              0.1111111111111111,
              "#46039f"
             ],
             [
              0.2222222222222222,
              "#7201a8"
             ],
             [
              0.3333333333333333,
              "#9c179e"
             ],
             [
              0.4444444444444444,
              "#bd3786"
             ],
             [
              0.5555555555555556,
              "#d8576b"
             ],
             [
              0.6666666666666666,
              "#ed7953"
             ],
             [
              0.7777777777777778,
              "#fb9f3a"
             ],
             [
              0.8888888888888888,
              "#fdca26"
             ],
             [
              1,
              "#f0f921"
             ]
            ],
            "type": "histogram2dcontour"
           }
          ],
          "mesh3d": [
           {
            "colorbar": {
             "outlinewidth": 0,
             "ticks": ""
            },
            "type": "mesh3d"
           }
          ],
          "parcoords": [
           {
            "line": {
             "colorbar": {
              "outlinewidth": 0,
              "ticks": ""
             }
            },
            "type": "parcoords"
           }
          ],
          "pie": [
           {
            "automargin": true,
            "type": "pie"
           }
          ],
          "scatter": [
           {
            "fillpattern": {
             "fillmode": "overlay",
             "size": 10,
             "solidity": 0.2
            },
            "type": "scatter"
           }
          ],
          "scatter3d": [
           {
            "line": {
             "colorbar": {
              "outlinewidth": 0,
              "ticks": ""
             }
            },
            "marker": {
             "colorbar": {
              "outlinewidth": 0,
              "ticks": ""
             }
            },
            "type": "scatter3d"
           }
          ],
          "scattercarpet": [
           {
            "marker": {
             "colorbar": {
              "outlinewidth": 0,
              "ticks": ""
             }
            },
            "type": "scattercarpet"
           }
          ],
          "scattergeo": [
           {
            "marker": {
             "colorbar": {
              "outlinewidth": 0,
              "ticks": ""
             }
            },
            "type": "scattergeo"
           }
          ],
          "scattergl": [
           {
            "marker": {
             "colorbar": {
              "outlinewidth": 0,
              "ticks": ""
             }
            },
            "type": "scattergl"
           }
          ],
          "scattermapbox": [
           {
            "marker": {
             "colorbar": {
              "outlinewidth": 0,
              "ticks": ""
             }
            },
            "type": "scattermapbox"
           }
          ],
          "scatterpolar": [
           {
            "marker": {
             "colorbar": {
              "outlinewidth": 0,
              "ticks": ""
             }
            },
            "type": "scatterpolar"
           }
          ],
          "scatterpolargl": [
           {
            "marker": {
             "colorbar": {
              "outlinewidth": 0,
              "ticks": ""
             }
            },
            "type": "scatterpolargl"
           }
          ],
          "scatterternary": [
           {
            "marker": {
             "colorbar": {
              "outlinewidth": 0,
              "ticks": ""
             }
            },
            "type": "scatterternary"
           }
          ],
          "surface": [
           {
            "colorbar": {
             "outlinewidth": 0,
             "ticks": ""
            },
            "colorscale": [
             [
              0,
              "#0d0887"
             ],
             [
              0.1111111111111111,
              "#46039f"
             ],
             [
              0.2222222222222222,
              "#7201a8"
             ],
             [
              0.3333333333333333,
              "#9c179e"
             ],
             [
              0.4444444444444444,
              "#bd3786"
             ],
             [
              0.5555555555555556,
              "#d8576b"
             ],
             [
              0.6666666666666666,
              "#ed7953"
             ],
             [
              0.7777777777777778,
              "#fb9f3a"
             ],
             [
              0.8888888888888888,
              "#fdca26"
             ],
             [
              1,
              "#f0f921"
             ]
            ],
            "type": "surface"
           }
          ],
          "table": [
           {
            "cells": {
             "fill": {
              "color": "#EBF0F8"
             },
             "line": {
              "color": "white"
             }
            },
            "header": {
             "fill": {
              "color": "#C8D4E3"
             },
             "line": {
              "color": "white"
             }
            },
            "type": "table"
           }
          ]
         },
         "layout": {
          "annotationdefaults": {
           "arrowcolor": "#2a3f5f",
           "arrowhead": 0,
           "arrowwidth": 1
          },
          "autotypenumbers": "strict",
          "coloraxis": {
           "colorbar": {
            "outlinewidth": 0,
            "ticks": ""
           }
          },
          "colorscale": {
           "diverging": [
            [
             0,
             "#8e0152"
            ],
            [
             0.1,
             "#c51b7d"
            ],
            [
             0.2,
             "#de77ae"
            ],
            [
             0.3,
             "#f1b6da"
            ],
            [
             0.4,
             "#fde0ef"
            ],
            [
             0.5,
             "#f7f7f7"
            ],
            [
             0.6,
             "#e6f5d0"
            ],
            [
             0.7,
             "#b8e186"
            ],
            [
             0.8,
             "#7fbc41"
            ],
            [
             0.9,
             "#4d9221"
            ],
            [
             1,
             "#276419"
            ]
           ],
           "sequential": [
            [
             0,
             "#0d0887"
            ],
            [
             0.1111111111111111,
             "#46039f"
            ],
            [
             0.2222222222222222,
             "#7201a8"
            ],
            [
             0.3333333333333333,
             "#9c179e"
            ],
            [
             0.4444444444444444,
             "#bd3786"
            ],
            [
             0.5555555555555556,
             "#d8576b"
            ],
            [
             0.6666666666666666,
             "#ed7953"
            ],
            [
             0.7777777777777778,
             "#fb9f3a"
            ],
            [
             0.8888888888888888,
             "#fdca26"
            ],
            [
             1,
             "#f0f921"
            ]
           ],
           "sequentialminus": [
            [
             0,
             "#0d0887"
            ],
            [
             0.1111111111111111,
             "#46039f"
            ],
            [
             0.2222222222222222,
             "#7201a8"
            ],
            [
             0.3333333333333333,
             "#9c179e"
            ],
            [
             0.4444444444444444,
             "#bd3786"
            ],
            [
             0.5555555555555556,
             "#d8576b"
            ],
            [
             0.6666666666666666,
             "#ed7953"
            ],
            [
             0.7777777777777778,
             "#fb9f3a"
            ],
            [
             0.8888888888888888,
             "#fdca26"
            ],
            [
             1,
             "#f0f921"
            ]
           ]
          },
          "colorway": [
           "#636efa",
           "#EF553B",
           "#00cc96",
           "#ab63fa",
           "#FFA15A",
           "#19d3f3",
           "#FF6692",
           "#B6E880",
           "#FF97FF",
           "#FECB52"
          ],
          "font": {
           "color": "#2a3f5f"
          },
          "geo": {
           "bgcolor": "white",
           "lakecolor": "white",
           "landcolor": "#E5ECF6",
           "showlakes": true,
           "showland": true,
           "subunitcolor": "white"
          },
          "hoverlabel": {
           "align": "left"
          },
          "hovermode": "closest",
          "mapbox": {
           "style": "light"
          },
          "paper_bgcolor": "white",
          "plot_bgcolor": "#E5ECF6",
          "polar": {
           "angularaxis": {
            "gridcolor": "white",
            "linecolor": "white",
            "ticks": ""
           },
           "bgcolor": "#E5ECF6",
           "radialaxis": {
            "gridcolor": "white",
            "linecolor": "white",
            "ticks": ""
           }
          },
          "scene": {
           "xaxis": {
            "backgroundcolor": "#E5ECF6",
            "gridcolor": "white",
            "gridwidth": 2,
            "linecolor": "white",
            "showbackground": true,
            "ticks": "",
            "zerolinecolor": "white"
           },
           "yaxis": {
            "backgroundcolor": "#E5ECF6",
            "gridcolor": "white",
            "gridwidth": 2,
            "linecolor": "white",
            "showbackground": true,
            "ticks": "",
            "zerolinecolor": "white"
           },
           "zaxis": {
            "backgroundcolor": "#E5ECF6",
            "gridcolor": "white",
            "gridwidth": 2,
            "linecolor": "white",
            "showbackground": true,
            "ticks": "",
            "zerolinecolor": "white"
           }
          },
          "shapedefaults": {
           "line": {
            "color": "#2a3f5f"
           }
          },
          "ternary": {
           "aaxis": {
            "gridcolor": "white",
            "linecolor": "white",
            "ticks": ""
           },
           "baxis": {
            "gridcolor": "white",
            "linecolor": "white",
            "ticks": ""
           },
           "bgcolor": "#E5ECF6",
           "caxis": {
            "gridcolor": "white",
            "linecolor": "white",
            "ticks": ""
           }
          },
          "title": {
           "x": 0.05
          },
          "xaxis": {
           "automargin": true,
           "gridcolor": "white",
           "linecolor": "white",
           "ticks": "",
           "title": {
            "standoff": 15
           },
           "zerolinecolor": "white",
           "zerolinewidth": 2
          },
          "yaxis": {
           "automargin": true,
           "gridcolor": "white",
           "linecolor": "white",
           "ticks": "",
           "title": {
            "standoff": 15
           },
           "zerolinecolor": "white",
           "zerolinewidth": 2
          }
         }
        },
        "title": {
         "text": "HSC Percentage Comparison"
        },
        "xaxis": {
         "anchor": "y",
         "domain": [
          0,
          1
         ],
         "title": {
          "text": "Placement Status"
         }
        },
        "yaxis": {
         "anchor": "x",
         "domain": [
          0,
          1
         ],
         "title": {
          "text": "HSC Percentage"
         }
        }
       }
      }
     },
     "metadata": {},
     "output_type": "display_data"
    },
    {
     "name": "stdout",
     "output_type": "stream",
     "text": [
      "LRT p-value: 2.2508006047868448e-15\n"
     ]
    }
   ],
   "source": [
    "# boxplot factored by status\n",
    "px.box(x = data['status'], \n",
    "       y = data['hsc_percentage'],\n",
    "       labels = {\n",
    "            'x': 'Placement Status',\n",
    "            'y': 'HSC Percentage'\n",
    "       },\n",
    "       title = 'HSC Percentage Comparison').show()\n",
    "\n",
    "# fit logistic regression model on single predictor\n",
    "logFit = LogisticRegression().fit(np.array(data['hsc_percentage']).reshape(-1, 1), \n",
    "                                  data['status'])\n",
    "\n",
    "# perform likelihood ratio test for independence\n",
    "lrtPval = likelihood_ratio_test(np.array(data['hsc_percentage']).reshape(-1, 1), \n",
    "                                (data['status'] == 'Placed').astype(int), \n",
    "                                logFit)\n",
    "print(f\"LRT p-value: {lrtPval}\")"
   ]
  },
  {
   "cell_type": "code",
   "execution_count": 792,
   "metadata": {},
   "outputs": [
    {
     "data": {
      "application/vnd.plotly.v1+json": {
       "config": {
        "plotlyServerURL": "https://plot.ly"
       },
       "data": [
        {
         "alignmentgroup": "True",
         "hovertemplate": "Placement Status=%{x}<br>Degree Percentage=%{y}<extra></extra>",
         "legendgroup": "",
         "marker": {
          "color": "#636efa"
         },
         "name": "",
         "notched": false,
         "offsetgroup": "",
         "orientation": "v",
         "showlegend": false,
         "type": "box",
         "x": [
          "Placed",
          "Placed",
          "Placed",
          "Not Placed",
          "Placed",
          "Not Placed",
          "Not Placed",
          "Placed",
          "Placed",
          "Not Placed",
          "Placed",
          "Placed",
          "Not Placed",
          "Placed",
          "Not Placed",
          "Placed",
          "Placed",
          "Not Placed",
          "Not Placed",
          "Placed",
          "Placed",
          "Placed",
          "Placed",
          "Placed",
          "Placed",
          "Not Placed",
          "Placed",
          "Placed",
          "Placed",
          "Not Placed",
          "Placed",
          "Not Placed",
          "Placed",
          "Placed",
          "Not Placed",
          "Placed",
          "Not Placed",
          "Placed",
          "Placed",
          "Placed",
          "Placed",
          "Not Placed",
          "Not Placed",
          "Placed",
          "Placed",
          "Not Placed",
          "Not Placed",
          "Placed",
          "Placed",
          "Not Placed",
          "Placed",
          "Not Placed",
          "Not Placed",
          "Placed",
          "Placed",
          "Placed",
          "Placed",
          "Placed",
          "Placed",
          "Placed",
          "Placed",
          "Placed",
          "Placed",
          "Not Placed",
          "Placed",
          "Not Placed",
          "Placed",
          "Placed",
          "Not Placed",
          "Placed",
          "Placed",
          "Placed",
          "Placed",
          "Placed",
          "Placed",
          "Not Placed",
          "Placed",
          "Placed",
          "Placed",
          "Not Placed",
          "Placed",
          "Placed",
          "Not Placed",
          "Placed",
          "Placed",
          "Placed",
          "Placed",
          "Not Placed",
          "Placed",
          "Placed",
          "Placed",
          "Not Placed",
          "Placed",
          "Not Placed",
          "Placed",
          "Placed",
          "Placed",
          "Not Placed",
          "Placed",
          "Not Placed",
          "Not Placed",
          "Placed",
          "Placed",
          "Placed",
          "Placed",
          "Not Placed",
          "Not Placed",
          "Placed",
          "Placed",
          "Not Placed",
          "Placed",
          "Not Placed",
          "Placed",
          "Placed",
          "Placed",
          "Placed",
          "Placed",
          "Placed",
          "Placed",
          "Placed",
          "Not Placed",
          "Placed",
          "Placed",
          "Placed",
          "Placed",
          "Placed",
          "Placed",
          "Placed",
          "Placed",
          "Placed",
          "Not Placed",
          "Placed",
          "Placed",
          "Placed",
          "Placed",
          "Placed",
          "Not Placed",
          "Placed",
          "Placed",
          "Placed",
          "Placed",
          "Not Placed",
          "Placed",
          "Placed",
          "Not Placed",
          "Placed",
          "Placed",
          "Placed",
          "Placed",
          "Not Placed",
          "Placed",
          "Placed",
          "Placed",
          "Placed",
          "Placed",
          "Not Placed",
          "Placed",
          "Placed",
          "Not Placed",
          "Not Placed",
          "Placed",
          "Not Placed",
          "Placed",
          "Placed",
          "Placed",
          "Not Placed",
          "Placed",
          "Not Placed",
          "Not Placed",
          "Not Placed",
          "Not Placed",
          "Placed",
          "Placed",
          "Not Placed",
          "Placed",
          "Not Placed",
          "Placed",
          "Placed",
          "Placed",
          "Not Placed",
          "Placed",
          "Not Placed",
          "Not Placed",
          "Placed",
          "Not Placed",
          "Placed",
          "Not Placed",
          "Placed",
          "Not Placed",
          "Not Placed",
          "Not Placed",
          "Placed",
          "Placed",
          "Placed",
          "Not Placed",
          "Placed",
          "Placed",
          "Placed",
          "Not Placed",
          "Placed",
          "Placed",
          "Not Placed",
          "Placed",
          "Placed",
          "Placed",
          "Placed",
          "Not Placed",
          "Placed",
          "Not Placed",
          "Placed",
          "Placed",
          "Placed",
          "Placed",
          "Placed",
          "Not Placed"
         ],
         "x0": " ",
         "xaxis": "x",
         "y": [
          58,
          77.48,
          64,
          52,
          73.3,
          67.25,
          79,
          66,
          72,
          61,
          60,
          78.3,
          65,
          59,
          50,
          69,
          65.6,
          64,
          64,
          70,
          66,
          85,
          72.23,
          64.74,
          78.86,
          50.2,
          66,
          66,
          67.5,
          58,
          73,
          65,
          66.4,
          81,
          52,
          72,
          57,
          65.6,
          66,
          64,
          80,
          65,
          65,
          68,
          81,
          72,
          65.6,
          57,
          68,
          52,
          68.4,
          56.2,
          53,
          72,
          69,
          65,
          61.4,
          74,
          68,
          72.11,
          72,
          66.89,
          67.4,
          64,
          75,
          57,
          66,
          67,
          72.7,
          66,
          62,
          71,
          78,
          71.72,
          70.2,
          77.5,
          71.93,
          65,
          64.5,
          66,
          69,
          67,
          74,
          68,
          70,
          77.2,
          64,
          60,
          73,
          69,
          82,
          50.8,
          66,
          54,
          64,
          65,
          76,
          61,
          65,
          63,
          58,
          68,
          68,
          73,
          65,
          58,
          54,
          83,
          69,
          65,
          72,
          61,
          61,
          67,
          69,
          66,
          66.6,
          73,
          78,
          64.6,
          59,
          69.6,
          69.3,
          73,
          64.33,
          73,
          75.5,
          69,
          77.72,
          66,
          60,
          62,
          64,
          77,
          72,
          69,
          64,
          72,
          73,
          59,
          69.5,
          60,
          73.43,
          70.67,
          61,
          71.25,
          66,
          65,
          56,
          55,
          58,
          75,
          84,
          65,
          60,
          59.9,
          65,
          60.9,
          64,
          58,
          65,
          57.5,
          77.25,
          64,
          63.35,
          74,
          60,
          67,
          58,
          61.26,
          60,
          72,
          56,
          55,
          64.27,
          65,
          56,
          79,
          68,
          64.2,
          62.8,
          64.21,
          57,
          69,
          59.79,
          78,
          61,
          67,
          54.38,
          69.2,
          61,
          72,
          64.8,
          56,
          56.3,
          72,
          77.5,
          91,
          65,
          57,
          65,
          58,
          66,
          56.87,
          73,
          65,
          60,
          61,
          65,
          65,
          77.6,
          72,
          73,
          58,
          53
         ],
         "y0": " ",
         "yaxis": "y"
        }
       ],
       "layout": {
        "boxmode": "group",
        "legend": {
         "tracegroupgap": 0
        },
        "template": {
         "data": {
          "bar": [
           {
            "error_x": {
             "color": "#2a3f5f"
            },
            "error_y": {
             "color": "#2a3f5f"
            },
            "marker": {
             "line": {
              "color": "#E5ECF6",
              "width": 0.5
             },
             "pattern": {
              "fillmode": "overlay",
              "size": 10,
              "solidity": 0.2
             }
            },
            "type": "bar"
           }
          ],
          "barpolar": [
           {
            "marker": {
             "line": {
              "color": "#E5ECF6",
              "width": 0.5
             },
             "pattern": {
              "fillmode": "overlay",
              "size": 10,
              "solidity": 0.2
             }
            },
            "type": "barpolar"
           }
          ],
          "carpet": [
           {
            "aaxis": {
             "endlinecolor": "#2a3f5f",
             "gridcolor": "white",
             "linecolor": "white",
             "minorgridcolor": "white",
             "startlinecolor": "#2a3f5f"
            },
            "baxis": {
             "endlinecolor": "#2a3f5f",
             "gridcolor": "white",
             "linecolor": "white",
             "minorgridcolor": "white",
             "startlinecolor": "#2a3f5f"
            },
            "type": "carpet"
           }
          ],
          "choropleth": [
           {
            "colorbar": {
             "outlinewidth": 0,
             "ticks": ""
            },
            "type": "choropleth"
           }
          ],
          "contour": [
           {
            "colorbar": {
             "outlinewidth": 0,
             "ticks": ""
            },
            "colorscale": [
             [
              0,
              "#0d0887"
             ],
             [
              0.1111111111111111,
              "#46039f"
             ],
             [
              0.2222222222222222,
              "#7201a8"
             ],
             [
              0.3333333333333333,
              "#9c179e"
             ],
             [
              0.4444444444444444,
              "#bd3786"
             ],
             [
              0.5555555555555556,
              "#d8576b"
             ],
             [
              0.6666666666666666,
              "#ed7953"
             ],
             [
              0.7777777777777778,
              "#fb9f3a"
             ],
             [
              0.8888888888888888,
              "#fdca26"
             ],
             [
              1,
              "#f0f921"
             ]
            ],
            "type": "contour"
           }
          ],
          "contourcarpet": [
           {
            "colorbar": {
             "outlinewidth": 0,
             "ticks": ""
            },
            "type": "contourcarpet"
           }
          ],
          "heatmap": [
           {
            "colorbar": {
             "outlinewidth": 0,
             "ticks": ""
            },
            "colorscale": [
             [
              0,
              "#0d0887"
             ],
             [
              0.1111111111111111,
              "#46039f"
             ],
             [
              0.2222222222222222,
              "#7201a8"
             ],
             [
              0.3333333333333333,
              "#9c179e"
             ],
             [
              0.4444444444444444,
              "#bd3786"
             ],
             [
              0.5555555555555556,
              "#d8576b"
             ],
             [
              0.6666666666666666,
              "#ed7953"
             ],
             [
              0.7777777777777778,
              "#fb9f3a"
             ],
             [
              0.8888888888888888,
              "#fdca26"
             ],
             [
              1,
              "#f0f921"
             ]
            ],
            "type": "heatmap"
           }
          ],
          "heatmapgl": [
           {
            "colorbar": {
             "outlinewidth": 0,
             "ticks": ""
            },
            "colorscale": [
             [
              0,
              "#0d0887"
             ],
             [
              0.1111111111111111,
              "#46039f"
             ],
             [
              0.2222222222222222,
              "#7201a8"
             ],
             [
              0.3333333333333333,
              "#9c179e"
             ],
             [
              0.4444444444444444,
              "#bd3786"
             ],
             [
              0.5555555555555556,
              "#d8576b"
             ],
             [
              0.6666666666666666,
              "#ed7953"
             ],
             [
              0.7777777777777778,
              "#fb9f3a"
             ],
             [
              0.8888888888888888,
              "#fdca26"
             ],
             [
              1,
              "#f0f921"
             ]
            ],
            "type": "heatmapgl"
           }
          ],
          "histogram": [
           {
            "marker": {
             "pattern": {
              "fillmode": "overlay",
              "size": 10,
              "solidity": 0.2
             }
            },
            "type": "histogram"
           }
          ],
          "histogram2d": [
           {
            "colorbar": {
             "outlinewidth": 0,
             "ticks": ""
            },
            "colorscale": [
             [
              0,
              "#0d0887"
             ],
             [
              0.1111111111111111,
              "#46039f"
             ],
             [
              0.2222222222222222,
              "#7201a8"
             ],
             [
              0.3333333333333333,
              "#9c179e"
             ],
             [
              0.4444444444444444,
              "#bd3786"
             ],
             [
              0.5555555555555556,
              "#d8576b"
             ],
             [
              0.6666666666666666,
              "#ed7953"
             ],
             [
              0.7777777777777778,
              "#fb9f3a"
             ],
             [
              0.8888888888888888,
              "#fdca26"
             ],
             [
              1,
              "#f0f921"
             ]
            ],
            "type": "histogram2d"
           }
          ],
          "histogram2dcontour": [
           {
            "colorbar": {
             "outlinewidth": 0,
             "ticks": ""
            },
            "colorscale": [
             [
              0,
              "#0d0887"
             ],
             [
              0.1111111111111111,
              "#46039f"
             ],
             [
              0.2222222222222222,
              "#7201a8"
             ],
             [
              0.3333333333333333,
              "#9c179e"
             ],
             [
              0.4444444444444444,
              "#bd3786"
             ],
             [
              0.5555555555555556,
              "#d8576b"
             ],
             [
              0.6666666666666666,
              "#ed7953"
             ],
             [
              0.7777777777777778,
              "#fb9f3a"
             ],
             [
              0.8888888888888888,
              "#fdca26"
             ],
             [
              1,
              "#f0f921"
             ]
            ],
            "type": "histogram2dcontour"
           }
          ],
          "mesh3d": [
           {
            "colorbar": {
             "outlinewidth": 0,
             "ticks": ""
            },
            "type": "mesh3d"
           }
          ],
          "parcoords": [
           {
            "line": {
             "colorbar": {
              "outlinewidth": 0,
              "ticks": ""
             }
            },
            "type": "parcoords"
           }
          ],
          "pie": [
           {
            "automargin": true,
            "type": "pie"
           }
          ],
          "scatter": [
           {
            "fillpattern": {
             "fillmode": "overlay",
             "size": 10,
             "solidity": 0.2
            },
            "type": "scatter"
           }
          ],
          "scatter3d": [
           {
            "line": {
             "colorbar": {
              "outlinewidth": 0,
              "ticks": ""
             }
            },
            "marker": {
             "colorbar": {
              "outlinewidth": 0,
              "ticks": ""
             }
            },
            "type": "scatter3d"
           }
          ],
          "scattercarpet": [
           {
            "marker": {
             "colorbar": {
              "outlinewidth": 0,
              "ticks": ""
             }
            },
            "type": "scattercarpet"
           }
          ],
          "scattergeo": [
           {
            "marker": {
             "colorbar": {
              "outlinewidth": 0,
              "ticks": ""
             }
            },
            "type": "scattergeo"
           }
          ],
          "scattergl": [
           {
            "marker": {
             "colorbar": {
              "outlinewidth": 0,
              "ticks": ""
             }
            },
            "type": "scattergl"
           }
          ],
          "scattermapbox": [
           {
            "marker": {
             "colorbar": {
              "outlinewidth": 0,
              "ticks": ""
             }
            },
            "type": "scattermapbox"
           }
          ],
          "scatterpolar": [
           {
            "marker": {
             "colorbar": {
              "outlinewidth": 0,
              "ticks": ""
             }
            },
            "type": "scatterpolar"
           }
          ],
          "scatterpolargl": [
           {
            "marker": {
             "colorbar": {
              "outlinewidth": 0,
              "ticks": ""
             }
            },
            "type": "scatterpolargl"
           }
          ],
          "scatterternary": [
           {
            "marker": {
             "colorbar": {
              "outlinewidth": 0,
              "ticks": ""
             }
            },
            "type": "scatterternary"
           }
          ],
          "surface": [
           {
            "colorbar": {
             "outlinewidth": 0,
             "ticks": ""
            },
            "colorscale": [
             [
              0,
              "#0d0887"
             ],
             [
              0.1111111111111111,
              "#46039f"
             ],
             [
              0.2222222222222222,
              "#7201a8"
             ],
             [
              0.3333333333333333,
              "#9c179e"
             ],
             [
              0.4444444444444444,
              "#bd3786"
             ],
             [
              0.5555555555555556,
              "#d8576b"
             ],
             [
              0.6666666666666666,
              "#ed7953"
             ],
             [
              0.7777777777777778,
              "#fb9f3a"
             ],
             [
              0.8888888888888888,
              "#fdca26"
             ],
             [
              1,
              "#f0f921"
             ]
            ],
            "type": "surface"
           }
          ],
          "table": [
           {
            "cells": {
             "fill": {
              "color": "#EBF0F8"
             },
             "line": {
              "color": "white"
             }
            },
            "header": {
             "fill": {
              "color": "#C8D4E3"
             },
             "line": {
              "color": "white"
             }
            },
            "type": "table"
           }
          ]
         },
         "layout": {
          "annotationdefaults": {
           "arrowcolor": "#2a3f5f",
           "arrowhead": 0,
           "arrowwidth": 1
          },
          "autotypenumbers": "strict",
          "coloraxis": {
           "colorbar": {
            "outlinewidth": 0,
            "ticks": ""
           }
          },
          "colorscale": {
           "diverging": [
            [
             0,
             "#8e0152"
            ],
            [
             0.1,
             "#c51b7d"
            ],
            [
             0.2,
             "#de77ae"
            ],
            [
             0.3,
             "#f1b6da"
            ],
            [
             0.4,
             "#fde0ef"
            ],
            [
             0.5,
             "#f7f7f7"
            ],
            [
             0.6,
             "#e6f5d0"
            ],
            [
             0.7,
             "#b8e186"
            ],
            [
             0.8,
             "#7fbc41"
            ],
            [
             0.9,
             "#4d9221"
            ],
            [
             1,
             "#276419"
            ]
           ],
           "sequential": [
            [
             0,
             "#0d0887"
            ],
            [
             0.1111111111111111,
             "#46039f"
            ],
            [
             0.2222222222222222,
             "#7201a8"
            ],
            [
             0.3333333333333333,
             "#9c179e"
            ],
            [
             0.4444444444444444,
             "#bd3786"
            ],
            [
             0.5555555555555556,
             "#d8576b"
            ],
            [
             0.6666666666666666,
             "#ed7953"
            ],
            [
             0.7777777777777778,
             "#fb9f3a"
            ],
            [
             0.8888888888888888,
             "#fdca26"
            ],
            [
             1,
             "#f0f921"
            ]
           ],
           "sequentialminus": [
            [
             0,
             "#0d0887"
            ],
            [
             0.1111111111111111,
             "#46039f"
            ],
            [
             0.2222222222222222,
             "#7201a8"
            ],
            [
             0.3333333333333333,
             "#9c179e"
            ],
            [
             0.4444444444444444,
             "#bd3786"
            ],
            [
             0.5555555555555556,
             "#d8576b"
            ],
            [
             0.6666666666666666,
             "#ed7953"
            ],
            [
             0.7777777777777778,
             "#fb9f3a"
            ],
            [
             0.8888888888888888,
             "#fdca26"
            ],
            [
             1,
             "#f0f921"
            ]
           ]
          },
          "colorway": [
           "#636efa",
           "#EF553B",
           "#00cc96",
           "#ab63fa",
           "#FFA15A",
           "#19d3f3",
           "#FF6692",
           "#B6E880",
           "#FF97FF",
           "#FECB52"
          ],
          "font": {
           "color": "#2a3f5f"
          },
          "geo": {
           "bgcolor": "white",
           "lakecolor": "white",
           "landcolor": "#E5ECF6",
           "showlakes": true,
           "showland": true,
           "subunitcolor": "white"
          },
          "hoverlabel": {
           "align": "left"
          },
          "hovermode": "closest",
          "mapbox": {
           "style": "light"
          },
          "paper_bgcolor": "white",
          "plot_bgcolor": "#E5ECF6",
          "polar": {
           "angularaxis": {
            "gridcolor": "white",
            "linecolor": "white",
            "ticks": ""
           },
           "bgcolor": "#E5ECF6",
           "radialaxis": {
            "gridcolor": "white",
            "linecolor": "white",
            "ticks": ""
           }
          },
          "scene": {
           "xaxis": {
            "backgroundcolor": "#E5ECF6",
            "gridcolor": "white",
            "gridwidth": 2,
            "linecolor": "white",
            "showbackground": true,
            "ticks": "",
            "zerolinecolor": "white"
           },
           "yaxis": {
            "backgroundcolor": "#E5ECF6",
            "gridcolor": "white",
            "gridwidth": 2,
            "linecolor": "white",
            "showbackground": true,
            "ticks": "",
            "zerolinecolor": "white"
           },
           "zaxis": {
            "backgroundcolor": "#E5ECF6",
            "gridcolor": "white",
            "gridwidth": 2,
            "linecolor": "white",
            "showbackground": true,
            "ticks": "",
            "zerolinecolor": "white"
           }
          },
          "shapedefaults": {
           "line": {
            "color": "#2a3f5f"
           }
          },
          "ternary": {
           "aaxis": {
            "gridcolor": "white",
            "linecolor": "white",
            "ticks": ""
           },
           "baxis": {
            "gridcolor": "white",
            "linecolor": "white",
            "ticks": ""
           },
           "bgcolor": "#E5ECF6",
           "caxis": {
            "gridcolor": "white",
            "linecolor": "white",
            "ticks": ""
           }
          },
          "title": {
           "x": 0.05
          },
          "xaxis": {
           "automargin": true,
           "gridcolor": "white",
           "linecolor": "white",
           "ticks": "",
           "title": {
            "standoff": 15
           },
           "zerolinecolor": "white",
           "zerolinewidth": 2
          },
          "yaxis": {
           "automargin": true,
           "gridcolor": "white",
           "linecolor": "white",
           "ticks": "",
           "title": {
            "standoff": 15
           },
           "zerolinecolor": "white",
           "zerolinewidth": 2
          }
         }
        },
        "title": {
         "text": "Degree Percentage Comparison"
        },
        "xaxis": {
         "anchor": "y",
         "domain": [
          0,
          1
         ],
         "title": {
          "text": "Placement Status"
         }
        },
        "yaxis": {
         "anchor": "x",
         "domain": [
          0,
          1
         ],
         "title": {
          "text": "Degree Percentage"
         }
        }
       }
      }
     },
     "metadata": {},
     "output_type": "display_data"
    },
    {
     "name": "stdout",
     "output_type": "stream",
     "text": [
      "LRT p-value: 2.044428524054884e-14\n"
     ]
    }
   ],
   "source": [
    "# boxplot factored by status\n",
    "px.box(x = data['status'], \n",
    "       y = data['degree_percentage'],\n",
    "       labels = {\n",
    "            'x': 'Placement Status',\n",
    "            'y': 'Degree Percentage'\n",
    "       },\n",
    "       title = 'Degree Percentage Comparison').show()\n",
    "\n",
    "# fit logistic regression model on single predictor\n",
    "logFit = LogisticRegression().fit(np.array(data['degree_percentage']).reshape(-1, 1), \n",
    "                                  data['status'])\n",
    "\n",
    "# perform likelihood ratio test for independence\n",
    "lrtPval = likelihood_ratio_test(np.array(data['degree_percentage']).reshape(-1, 1), \n",
    "                                (data['status'] == 'Placed').astype(int), \n",
    "                                logFit)\n",
    "print(f\"LRT p-value: {lrtPval}\")"
   ]
  },
  {
   "cell_type": "code",
   "execution_count": 793,
   "metadata": {},
   "outputs": [
    {
     "data": {
      "application/vnd.plotly.v1+json": {
       "config": {
        "plotlyServerURL": "https://plot.ly"
       },
       "data": [
        {
         "alignmentgroup": "True",
         "hovertemplate": "Placement Status=%{x}<br>EMP Test Percentage=%{y}<extra></extra>",
         "legendgroup": "",
         "marker": {
          "color": "#636efa"
         },
         "name": "",
         "notched": false,
         "offsetgroup": "",
         "orientation": "v",
         "showlegend": false,
         "type": "box",
         "x": [
          "Placed",
          "Placed",
          "Placed",
          "Not Placed",
          "Placed",
          "Not Placed",
          "Not Placed",
          "Placed",
          "Placed",
          "Not Placed",
          "Placed",
          "Placed",
          "Not Placed",
          "Placed",
          "Not Placed",
          "Placed",
          "Placed",
          "Not Placed",
          "Not Placed",
          "Placed",
          "Placed",
          "Placed",
          "Placed",
          "Placed",
          "Placed",
          "Not Placed",
          "Placed",
          "Placed",
          "Placed",
          "Not Placed",
          "Placed",
          "Not Placed",
          "Placed",
          "Placed",
          "Not Placed",
          "Placed",
          "Not Placed",
          "Placed",
          "Placed",
          "Placed",
          "Placed",
          "Not Placed",
          "Not Placed",
          "Placed",
          "Placed",
          "Not Placed",
          "Not Placed",
          "Placed",
          "Placed",
          "Not Placed",
          "Placed",
          "Not Placed",
          "Not Placed",
          "Placed",
          "Placed",
          "Placed",
          "Placed",
          "Placed",
          "Placed",
          "Placed",
          "Placed",
          "Placed",
          "Placed",
          "Not Placed",
          "Placed",
          "Not Placed",
          "Placed",
          "Placed",
          "Not Placed",
          "Placed",
          "Placed",
          "Placed",
          "Placed",
          "Placed",
          "Placed",
          "Not Placed",
          "Placed",
          "Placed",
          "Placed",
          "Not Placed",
          "Placed",
          "Placed",
          "Not Placed",
          "Placed",
          "Placed",
          "Placed",
          "Placed",
          "Not Placed",
          "Placed",
          "Placed",
          "Placed",
          "Not Placed",
          "Placed",
          "Not Placed",
          "Placed",
          "Placed",
          "Placed",
          "Not Placed",
          "Placed",
          "Not Placed",
          "Not Placed",
          "Placed",
          "Placed",
          "Placed",
          "Placed",
          "Not Placed",
          "Not Placed",
          "Placed",
          "Placed",
          "Not Placed",
          "Placed",
          "Not Placed",
          "Placed",
          "Placed",
          "Placed",
          "Placed",
          "Placed",
          "Placed",
          "Placed",
          "Placed",
          "Not Placed",
          "Placed",
          "Placed",
          "Placed",
          "Placed",
          "Placed",
          "Placed",
          "Placed",
          "Placed",
          "Placed",
          "Not Placed",
          "Placed",
          "Placed",
          "Placed",
          "Placed",
          "Placed",
          "Not Placed",
          "Placed",
          "Placed",
          "Placed",
          "Placed",
          "Not Placed",
          "Placed",
          "Placed",
          "Not Placed",
          "Placed",
          "Placed",
          "Placed",
          "Placed",
          "Not Placed",
          "Placed",
          "Placed",
          "Placed",
          "Placed",
          "Placed",
          "Not Placed",
          "Placed",
          "Placed",
          "Not Placed",
          "Not Placed",
          "Placed",
          "Not Placed",
          "Placed",
          "Placed",
          "Placed",
          "Not Placed",
          "Placed",
          "Not Placed",
          "Not Placed",
          "Not Placed",
          "Not Placed",
          "Placed",
          "Placed",
          "Not Placed",
          "Placed",
          "Not Placed",
          "Placed",
          "Placed",
          "Placed",
          "Not Placed",
          "Placed",
          "Not Placed",
          "Not Placed",
          "Placed",
          "Not Placed",
          "Placed",
          "Not Placed",
          "Placed",
          "Not Placed",
          "Not Placed",
          "Not Placed",
          "Placed",
          "Placed",
          "Placed",
          "Not Placed",
          "Placed",
          "Placed",
          "Placed",
          "Not Placed",
          "Placed",
          "Placed",
          "Not Placed",
          "Placed",
          "Placed",
          "Placed",
          "Placed",
          "Not Placed",
          "Placed",
          "Not Placed",
          "Placed",
          "Placed",
          "Placed",
          "Placed",
          "Placed",
          "Not Placed"
         ],
         "x0": " ",
         "xaxis": "x",
         "y": [
          55,
          86.5,
          75,
          66,
          96.8,
          55,
          74.28,
          67,
          91.34,
          54,
          62,
          60,
          62,
          68,
          76,
          72,
          60,
          60,
          68,
          50.48,
          50,
          95,
          55.53,
          92,
          97.4,
          76,
          94,
          68,
          73.35,
          77,
          52,
          64,
          50.89,
          88,
          68.44,
          71,
          64,
          58,
          53.7,
          93,
          60,
          65,
          63,
          95,
          89,
          58,
          68,
          78,
          64,
          65,
          65,
          67,
          71.2,
          87,
          78,
          71,
          68,
          80,
          74,
          57.6,
          60,
          61.6,
          59,
          68.5,
          61,
          89.69,
          68.92,
          68.71,
          79,
          70,
          89,
          95,
          95.5,
          86,
          84.27,
          74,
          61,
          69,
          86.04,
          75,
          67,
          86,
          82,
          84,
          55,
          78.74,
          67,
          75,
          58,
          62,
          92,
          67,
          72,
          72,
          53.88,
          95.46,
          66,
          93.91,
          70,
          50,
          56.39,
          78,
          57.5,
          85,
          55,
          85,
          71,
          80,
          84,
          86,
          57.2,
          60,
          58,
          72.15,
          53.7,
          89,
          96,
          80,
          97,
          82.66,
          73,
          55.67,
          80.4,
          60,
          64,
          75,
          70,
          55.5,
          81.2,
          90,
          84,
          80,
          74.4,
          65,
          94,
          55.6,
          78,
          56,
          96,
          58,
          56,
          60,
          60,
          89,
          60,
          72,
          85,
          83,
          57,
          64.25,
          56,
          83,
          98,
          86,
          70,
          56.15,
          80,
          93.4,
          60,
          62,
          75,
          57.63,
          75.2,
          75,
          53.04,
          80,
          63,
          58.1,
          60,
          54.48,
          58.06,
          63.79,
          84,
          67,
          64,
          87.5,
          55,
          89,
          73,
          75.5,
          57,
          63,
          75,
          60,
          60,
          82,
          55,
          95,
          57,
          95.65,
          50,
          72,
          93.4,
          80,
          59,
          84,
          78,
          59.32,
          88,
          73,
          87.55,
          79,
          61.28,
          66,
          80,
          62,
          97,
          88.56,
          92.66,
          67,
          91,
          74,
          59,
          70,
          89
         ],
         "y0": " ",
         "yaxis": "y"
        }
       ],
       "layout": {
        "boxmode": "group",
        "legend": {
         "tracegroupgap": 0
        },
        "template": {
         "data": {
          "bar": [
           {
            "error_x": {
             "color": "#2a3f5f"
            },
            "error_y": {
             "color": "#2a3f5f"
            },
            "marker": {
             "line": {
              "color": "#E5ECF6",
              "width": 0.5
             },
             "pattern": {
              "fillmode": "overlay",
              "size": 10,
              "solidity": 0.2
             }
            },
            "type": "bar"
           }
          ],
          "barpolar": [
           {
            "marker": {
             "line": {
              "color": "#E5ECF6",
              "width": 0.5
             },
             "pattern": {
              "fillmode": "overlay",
              "size": 10,
              "solidity": 0.2
             }
            },
            "type": "barpolar"
           }
          ],
          "carpet": [
           {
            "aaxis": {
             "endlinecolor": "#2a3f5f",
             "gridcolor": "white",
             "linecolor": "white",
             "minorgridcolor": "white",
             "startlinecolor": "#2a3f5f"
            },
            "baxis": {
             "endlinecolor": "#2a3f5f",
             "gridcolor": "white",
             "linecolor": "white",
             "minorgridcolor": "white",
             "startlinecolor": "#2a3f5f"
            },
            "type": "carpet"
           }
          ],
          "choropleth": [
           {
            "colorbar": {
             "outlinewidth": 0,
             "ticks": ""
            },
            "type": "choropleth"
           }
          ],
          "contour": [
           {
            "colorbar": {
             "outlinewidth": 0,
             "ticks": ""
            },
            "colorscale": [
             [
              0,
              "#0d0887"
             ],
             [
              0.1111111111111111,
              "#46039f"
             ],
             [
              0.2222222222222222,
              "#7201a8"
             ],
             [
              0.3333333333333333,
              "#9c179e"
             ],
             [
              0.4444444444444444,
              "#bd3786"
             ],
             [
              0.5555555555555556,
              "#d8576b"
             ],
             [
              0.6666666666666666,
              "#ed7953"
             ],
             [
              0.7777777777777778,
              "#fb9f3a"
             ],
             [
              0.8888888888888888,
              "#fdca26"
             ],
             [
              1,
              "#f0f921"
             ]
            ],
            "type": "contour"
           }
          ],
          "contourcarpet": [
           {
            "colorbar": {
             "outlinewidth": 0,
             "ticks": ""
            },
            "type": "contourcarpet"
           }
          ],
          "heatmap": [
           {
            "colorbar": {
             "outlinewidth": 0,
             "ticks": ""
            },
            "colorscale": [
             [
              0,
              "#0d0887"
             ],
             [
              0.1111111111111111,
              "#46039f"
             ],
             [
              0.2222222222222222,
              "#7201a8"
             ],
             [
              0.3333333333333333,
              "#9c179e"
             ],
             [
              0.4444444444444444,
              "#bd3786"
             ],
             [
              0.5555555555555556,
              "#d8576b"
             ],
             [
              0.6666666666666666,
              "#ed7953"
             ],
             [
              0.7777777777777778,
              "#fb9f3a"
             ],
             [
              0.8888888888888888,
              "#fdca26"
             ],
             [
              1,
              "#f0f921"
             ]
            ],
            "type": "heatmap"
           }
          ],
          "heatmapgl": [
           {
            "colorbar": {
             "outlinewidth": 0,
             "ticks": ""
            },
            "colorscale": [
             [
              0,
              "#0d0887"
             ],
             [
              0.1111111111111111,
              "#46039f"
             ],
             [
              0.2222222222222222,
              "#7201a8"
             ],
             [
              0.3333333333333333,
              "#9c179e"
             ],
             [
              0.4444444444444444,
              "#bd3786"
             ],
             [
              0.5555555555555556,
              "#d8576b"
             ],
             [
              0.6666666666666666,
              "#ed7953"
             ],
             [
              0.7777777777777778,
              "#fb9f3a"
             ],
             [
              0.8888888888888888,
              "#fdca26"
             ],
             [
              1,
              "#f0f921"
             ]
            ],
            "type": "heatmapgl"
           }
          ],
          "histogram": [
           {
            "marker": {
             "pattern": {
              "fillmode": "overlay",
              "size": 10,
              "solidity": 0.2
             }
            },
            "type": "histogram"
           }
          ],
          "histogram2d": [
           {
            "colorbar": {
             "outlinewidth": 0,
             "ticks": ""
            },
            "colorscale": [
             [
              0,
              "#0d0887"
             ],
             [
              0.1111111111111111,
              "#46039f"
             ],
             [
              0.2222222222222222,
              "#7201a8"
             ],
             [
              0.3333333333333333,
              "#9c179e"
             ],
             [
              0.4444444444444444,
              "#bd3786"
             ],
             [
              0.5555555555555556,
              "#d8576b"
             ],
             [
              0.6666666666666666,
              "#ed7953"
             ],
             [
              0.7777777777777778,
              "#fb9f3a"
             ],
             [
              0.8888888888888888,
              "#fdca26"
             ],
             [
              1,
              "#f0f921"
             ]
            ],
            "type": "histogram2d"
           }
          ],
          "histogram2dcontour": [
           {
            "colorbar": {
             "outlinewidth": 0,
             "ticks": ""
            },
            "colorscale": [
             [
              0,
              "#0d0887"
             ],
             [
              0.1111111111111111,
              "#46039f"
             ],
             [
              0.2222222222222222,
              "#7201a8"
             ],
             [
              0.3333333333333333,
              "#9c179e"
             ],
             [
              0.4444444444444444,
              "#bd3786"
             ],
             [
              0.5555555555555556,
              "#d8576b"
             ],
             [
              0.6666666666666666,
              "#ed7953"
             ],
             [
              0.7777777777777778,
              "#fb9f3a"
             ],
             [
              0.8888888888888888,
              "#fdca26"
             ],
             [
              1,
              "#f0f921"
             ]
            ],
            "type": "histogram2dcontour"
           }
          ],
          "mesh3d": [
           {
            "colorbar": {
             "outlinewidth": 0,
             "ticks": ""
            },
            "type": "mesh3d"
           }
          ],
          "parcoords": [
           {
            "line": {
             "colorbar": {
              "outlinewidth": 0,
              "ticks": ""
             }
            },
            "type": "parcoords"
           }
          ],
          "pie": [
           {
            "automargin": true,
            "type": "pie"
           }
          ],
          "scatter": [
           {
            "fillpattern": {
             "fillmode": "overlay",
             "size": 10,
             "solidity": 0.2
            },
            "type": "scatter"
           }
          ],
          "scatter3d": [
           {
            "line": {
             "colorbar": {
              "outlinewidth": 0,
              "ticks": ""
             }
            },
            "marker": {
             "colorbar": {
              "outlinewidth": 0,
              "ticks": ""
             }
            },
            "type": "scatter3d"
           }
          ],
          "scattercarpet": [
           {
            "marker": {
             "colorbar": {
              "outlinewidth": 0,
              "ticks": ""
             }
            },
            "type": "scattercarpet"
           }
          ],
          "scattergeo": [
           {
            "marker": {
             "colorbar": {
              "outlinewidth": 0,
              "ticks": ""
             }
            },
            "type": "scattergeo"
           }
          ],
          "scattergl": [
           {
            "marker": {
             "colorbar": {
              "outlinewidth": 0,
              "ticks": ""
             }
            },
            "type": "scattergl"
           }
          ],
          "scattermapbox": [
           {
            "marker": {
             "colorbar": {
              "outlinewidth": 0,
              "ticks": ""
             }
            },
            "type": "scattermapbox"
           }
          ],
          "scatterpolar": [
           {
            "marker": {
             "colorbar": {
              "outlinewidth": 0,
              "ticks": ""
             }
            },
            "type": "scatterpolar"
           }
          ],
          "scatterpolargl": [
           {
            "marker": {
             "colorbar": {
              "outlinewidth": 0,
              "ticks": ""
             }
            },
            "type": "scatterpolargl"
           }
          ],
          "scatterternary": [
           {
            "marker": {
             "colorbar": {
              "outlinewidth": 0,
              "ticks": ""
             }
            },
            "type": "scatterternary"
           }
          ],
          "surface": [
           {
            "colorbar": {
             "outlinewidth": 0,
             "ticks": ""
            },
            "colorscale": [
             [
              0,
              "#0d0887"
             ],
             [
              0.1111111111111111,
              "#46039f"
             ],
             [
              0.2222222222222222,
              "#7201a8"
             ],
             [
              0.3333333333333333,
              "#9c179e"
             ],
             [
              0.4444444444444444,
              "#bd3786"
             ],
             [
              0.5555555555555556,
              "#d8576b"
             ],
             [
              0.6666666666666666,
              "#ed7953"
             ],
             [
              0.7777777777777778,
              "#fb9f3a"
             ],
             [
              0.8888888888888888,
              "#fdca26"
             ],
             [
              1,
              "#f0f921"
             ]
            ],
            "type": "surface"
           }
          ],
          "table": [
           {
            "cells": {
             "fill": {
              "color": "#EBF0F8"
             },
             "line": {
              "color": "white"
             }
            },
            "header": {
             "fill": {
              "color": "#C8D4E3"
             },
             "line": {
              "color": "white"
             }
            },
            "type": "table"
           }
          ]
         },
         "layout": {
          "annotationdefaults": {
           "arrowcolor": "#2a3f5f",
           "arrowhead": 0,
           "arrowwidth": 1
          },
          "autotypenumbers": "strict",
          "coloraxis": {
           "colorbar": {
            "outlinewidth": 0,
            "ticks": ""
           }
          },
          "colorscale": {
           "diverging": [
            [
             0,
             "#8e0152"
            ],
            [
             0.1,
             "#c51b7d"
            ],
            [
             0.2,
             "#de77ae"
            ],
            [
             0.3,
             "#f1b6da"
            ],
            [
             0.4,
             "#fde0ef"
            ],
            [
             0.5,
             "#f7f7f7"
            ],
            [
             0.6,
             "#e6f5d0"
            ],
            [
             0.7,
             "#b8e186"
            ],
            [
             0.8,
             "#7fbc41"
            ],
            [
             0.9,
             "#4d9221"
            ],
            [
             1,
             "#276419"
            ]
           ],
           "sequential": [
            [
             0,
             "#0d0887"
            ],
            [
             0.1111111111111111,
             "#46039f"
            ],
            [
             0.2222222222222222,
             "#7201a8"
            ],
            [
             0.3333333333333333,
             "#9c179e"
            ],
            [
             0.4444444444444444,
             "#bd3786"
            ],
            [
             0.5555555555555556,
             "#d8576b"
            ],
            [
             0.6666666666666666,
             "#ed7953"
            ],
            [
             0.7777777777777778,
             "#fb9f3a"
            ],
            [
             0.8888888888888888,
             "#fdca26"
            ],
            [
             1,
             "#f0f921"
            ]
           ],
           "sequentialminus": [
            [
             0,
             "#0d0887"
            ],
            [
             0.1111111111111111,
             "#46039f"
            ],
            [
             0.2222222222222222,
             "#7201a8"
            ],
            [
             0.3333333333333333,
             "#9c179e"
            ],
            [
             0.4444444444444444,
             "#bd3786"
            ],
            [
             0.5555555555555556,
             "#d8576b"
            ],
            [
             0.6666666666666666,
             "#ed7953"
            ],
            [
             0.7777777777777778,
             "#fb9f3a"
            ],
            [
             0.8888888888888888,
             "#fdca26"
            ],
            [
             1,
             "#f0f921"
            ]
           ]
          },
          "colorway": [
           "#636efa",
           "#EF553B",
           "#00cc96",
           "#ab63fa",
           "#FFA15A",
           "#19d3f3",
           "#FF6692",
           "#B6E880",
           "#FF97FF",
           "#FECB52"
          ],
          "font": {
           "color": "#2a3f5f"
          },
          "geo": {
           "bgcolor": "white",
           "lakecolor": "white",
           "landcolor": "#E5ECF6",
           "showlakes": true,
           "showland": true,
           "subunitcolor": "white"
          },
          "hoverlabel": {
           "align": "left"
          },
          "hovermode": "closest",
          "mapbox": {
           "style": "light"
          },
          "paper_bgcolor": "white",
          "plot_bgcolor": "#E5ECF6",
          "polar": {
           "angularaxis": {
            "gridcolor": "white",
            "linecolor": "white",
            "ticks": ""
           },
           "bgcolor": "#E5ECF6",
           "radialaxis": {
            "gridcolor": "white",
            "linecolor": "white",
            "ticks": ""
           }
          },
          "scene": {
           "xaxis": {
            "backgroundcolor": "#E5ECF6",
            "gridcolor": "white",
            "gridwidth": 2,
            "linecolor": "white",
            "showbackground": true,
            "ticks": "",
            "zerolinecolor": "white"
           },
           "yaxis": {
            "backgroundcolor": "#E5ECF6",
            "gridcolor": "white",
            "gridwidth": 2,
            "linecolor": "white",
            "showbackground": true,
            "ticks": "",
            "zerolinecolor": "white"
           },
           "zaxis": {
            "backgroundcolor": "#E5ECF6",
            "gridcolor": "white",
            "gridwidth": 2,
            "linecolor": "white",
            "showbackground": true,
            "ticks": "",
            "zerolinecolor": "white"
           }
          },
          "shapedefaults": {
           "line": {
            "color": "#2a3f5f"
           }
          },
          "ternary": {
           "aaxis": {
            "gridcolor": "white",
            "linecolor": "white",
            "ticks": ""
           },
           "baxis": {
            "gridcolor": "white",
            "linecolor": "white",
            "ticks": ""
           },
           "bgcolor": "#E5ECF6",
           "caxis": {
            "gridcolor": "white",
            "linecolor": "white",
            "ticks": ""
           }
          },
          "title": {
           "x": 0.05
          },
          "xaxis": {
           "automargin": true,
           "gridcolor": "white",
           "linecolor": "white",
           "ticks": "",
           "title": {
            "standoff": 15
           },
           "zerolinecolor": "white",
           "zerolinewidth": 2
          },
          "yaxis": {
           "automargin": true,
           "gridcolor": "white",
           "linecolor": "white",
           "ticks": "",
           "title": {
            "standoff": 15
           },
           "zerolinecolor": "white",
           "zerolinewidth": 2
          }
         }
        },
        "title": {
         "text": "EMP Test Percentage Comparison"
        },
        "xaxis": {
         "anchor": "y",
         "domain": [
          0,
          1
         ],
         "title": {
          "text": "Placement Status"
         }
        },
        "yaxis": {
         "anchor": "x",
         "domain": [
          0,
          1
         ],
         "title": {
          "text": "EMP Test Percentage"
         }
        }
       }
      }
     },
     "metadata": {},
     "output_type": "display_data"
    },
    {
     "name": "stdout",
     "output_type": "stream",
     "text": [
      "LRT p-value: 0.05918182852278074\n"
     ]
    }
   ],
   "source": [
    "# boxplot factored by status\n",
    "px.box(x = data['status'], \n",
    "       y = data['emp_test_percentage'],\n",
    "       labels = {\n",
    "            'x': 'Placement Status',\n",
    "            'y': 'EMP Test Percentage'\n",
    "       },\n",
    "       title = 'EMP Test Percentage Comparison').show()\n",
    "\n",
    "# fit logistic regression model on single predictor\n",
    "logFit = LogisticRegression().fit(np.array(data['emp_test_percentage']).reshape(-1, 1), \n",
    "                                  data['status'])\n",
    "\n",
    "# perform likelihood ratio test for independence\n",
    "lrtPval = likelihood_ratio_test(np.array(data['emp_test_percentage']).reshape(-1, 1), \n",
    "                                (data['status'] == 'Placed').astype(int), \n",
    "                                logFit)\n",
    "print(f\"LRT p-value: {lrtPval}\")"
   ]
  },
  {
   "cell_type": "code",
   "execution_count": 794,
   "metadata": {},
   "outputs": [
    {
     "data": {
      "application/vnd.plotly.v1+json": {
       "config": {
        "plotlyServerURL": "https://plot.ly"
       },
       "data": [
        {
         "alignmentgroup": "True",
         "hovertemplate": "Placement Status=%{x}<br>MBA Percentage=%{y}<extra></extra>",
         "legendgroup": "",
         "marker": {
          "color": "#636efa"
         },
         "name": "",
         "notched": false,
         "offsetgroup": "",
         "orientation": "v",
         "showlegend": false,
         "type": "box",
         "x": [
          "Placed",
          "Placed",
          "Placed",
          "Not Placed",
          "Placed",
          "Not Placed",
          "Not Placed",
          "Placed",
          "Placed",
          "Not Placed",
          "Placed",
          "Placed",
          "Not Placed",
          "Placed",
          "Not Placed",
          "Placed",
          "Placed",
          "Not Placed",
          "Not Placed",
          "Placed",
          "Placed",
          "Placed",
          "Placed",
          "Placed",
          "Placed",
          "Not Placed",
          "Placed",
          "Placed",
          "Placed",
          "Not Placed",
          "Placed",
          "Not Placed",
          "Placed",
          "Placed",
          "Not Placed",
          "Placed",
          "Not Placed",
          "Placed",
          "Placed",
          "Placed",
          "Placed",
          "Not Placed",
          "Not Placed",
          "Placed",
          "Placed",
          "Not Placed",
          "Not Placed",
          "Placed",
          "Placed",
          "Not Placed",
          "Placed",
          "Not Placed",
          "Not Placed",
          "Placed",
          "Placed",
          "Placed",
          "Placed",
          "Placed",
          "Placed",
          "Placed",
          "Placed",
          "Placed",
          "Placed",
          "Not Placed",
          "Placed",
          "Not Placed",
          "Placed",
          "Placed",
          "Not Placed",
          "Placed",
          "Placed",
          "Placed",
          "Placed",
          "Placed",
          "Placed",
          "Not Placed",
          "Placed",
          "Placed",
          "Placed",
          "Not Placed",
          "Placed",
          "Placed",
          "Not Placed",
          "Placed",
          "Placed",
          "Placed",
          "Placed",
          "Not Placed",
          "Placed",
          "Placed",
          "Placed",
          "Not Placed",
          "Placed",
          "Not Placed",
          "Placed",
          "Placed",
          "Placed",
          "Not Placed",
          "Placed",
          "Not Placed",
          "Not Placed",
          "Placed",
          "Placed",
          "Placed",
          "Placed",
          "Not Placed",
          "Not Placed",
          "Placed",
          "Placed",
          "Not Placed",
          "Placed",
          "Not Placed",
          "Placed",
          "Placed",
          "Placed",
          "Placed",
          "Placed",
          "Placed",
          "Placed",
          "Placed",
          "Not Placed",
          "Placed",
          "Placed",
          "Placed",
          "Placed",
          "Placed",
          "Placed",
          "Placed",
          "Placed",
          "Placed",
          "Not Placed",
          "Placed",
          "Placed",
          "Placed",
          "Placed",
          "Placed",
          "Not Placed",
          "Placed",
          "Placed",
          "Placed",
          "Placed",
          "Not Placed",
          "Placed",
          "Placed",
          "Not Placed",
          "Placed",
          "Placed",
          "Placed",
          "Placed",
          "Not Placed",
          "Placed",
          "Placed",
          "Placed",
          "Placed",
          "Placed",
          "Not Placed",
          "Placed",
          "Placed",
          "Not Placed",
          "Not Placed",
          "Placed",
          "Not Placed",
          "Placed",
          "Placed",
          "Placed",
          "Not Placed",
          "Placed",
          "Not Placed",
          "Not Placed",
          "Not Placed",
          "Not Placed",
          "Placed",
          "Placed",
          "Not Placed",
          "Placed",
          "Not Placed",
          "Placed",
          "Placed",
          "Placed",
          "Not Placed",
          "Placed",
          "Not Placed",
          "Not Placed",
          "Placed",
          "Not Placed",
          "Placed",
          "Not Placed",
          "Placed",
          "Not Placed",
          "Not Placed",
          "Not Placed",
          "Placed",
          "Placed",
          "Placed",
          "Not Placed",
          "Placed",
          "Placed",
          "Placed",
          "Not Placed",
          "Placed",
          "Placed",
          "Not Placed",
          "Placed",
          "Placed",
          "Placed",
          "Placed",
          "Not Placed",
          "Placed",
          "Not Placed",
          "Placed",
          "Placed",
          "Placed",
          "Placed",
          "Placed",
          "Not Placed"
         ],
         "x0": " ",
         "xaxis": "x",
         "y": [
          58.8,
          66.28,
          57.8,
          59.43,
          55.5,
          51.58,
          53.29,
          62.14,
          61.29,
          52.21,
          60.85,
          63.7,
          65.04,
          68.63,
          54.96,
          64.66,
          62.54,
          67.28,
          64.08,
          77.89,
          56.7,
          69.06,
          68.81,
          63.62,
          74.01,
          65.33,
          57.55,
          57.69,
          64.15,
          51.29,
          56.7,
          58.32,
          62.21,
          72.78,
          62.77,
          62.74,
          51.45,
          55.47,
          56.86,
          62.56,
          66.72,
          69.76,
          51.21,
          62.9,
          69.7,
          66.53,
          71.63,
          54.55,
          62.46,
          56.11,
          62.98,
          62.65,
          65.49,
          71.04,
          65.56,
          52.71,
          66.88,
          63.59,
          57.99,
          56.66,
          57.24,
          62.48,
          59.69,
          59.5,
          58.78,
          57.1,
          58.46,
          60.99,
          59.24,
          68.07,
          65.45,
          66.94,
          68.53,
          59.75,
          67.2,
          67,
          64.27,
          57.65,
          59.42,
          67.99,
          62.35,
          70.2,
          60.44,
          66.69,
          62,
          76.18,
          57.03,
          59.08,
          64.36,
          62.36,
          68.03,
          62.79,
          59.47,
          55.41,
          54.97,
          62.16,
          64.44,
          69.03,
          57.31,
          59.47,
          64.95,
          60.44,
          61.31,
          65.83,
          58.23,
          55.3,
          65.69,
          73.52,
          58.31,
          56.09,
          54.8,
          60.64,
          53.94,
          63.08,
          55.01,
          60.5,
          70.85,
          67.05,
          70.48,
          64.34,
          58.81,
          71.49,
          71,
          56.7,
          61.26,
          73.33,
          68.2,
          58.4,
          76.26,
          68.55,
          64.15,
          60.78,
          53.49,
          60.98,
          67.13,
          65.63,
          61.58,
          60.41,
          71.77,
          54.43,
          56.94,
          61.9,
          61.29,
          60.39,
          58.52,
          63.23,
          55.14,
          62.28,
          64.08,
          58.54,
          61.3,
          58.87,
          65.25,
          62.48,
          53.2,
          65.99,
          52.72,
          55.03,
          61.87,
          60.59,
          72.29,
          62.72,
          66.06,
          66.46,
          65.52,
          74.56,
          52.38,
          75.71,
          58.79,
          65.48,
          69.28,
          66.04,
          52.64,
          59.32,
          66.23,
          60.69,
          57.9,
          70.81,
          68.07,
          72.14,
          56.6,
          60.02,
          59.81,
          61.82,
          57.29,
          71.43,
          62.93,
          64.86,
          56.13,
          66.94,
          62.5,
          61.01,
          57.34,
          56.63,
          64.74,
          58.95,
          54.48,
          69.71,
          71.96,
          55.8,
          52.81,
          58.44,
          60.11,
          58.3,
          67.69,
          56.81,
          53.39,
          71.55,
          62.92,
          56.49,
          74.49,
          53.62,
          69.72,
          60.23,
          60.22
         ],
         "y0": " ",
         "yaxis": "y"
        }
       ],
       "layout": {
        "boxmode": "group",
        "legend": {
         "tracegroupgap": 0
        },
        "template": {
         "data": {
          "bar": [
           {
            "error_x": {
             "color": "#2a3f5f"
            },
            "error_y": {
             "color": "#2a3f5f"
            },
            "marker": {
             "line": {
              "color": "#E5ECF6",
              "width": 0.5
             },
             "pattern": {
              "fillmode": "overlay",
              "size": 10,
              "solidity": 0.2
             }
            },
            "type": "bar"
           }
          ],
          "barpolar": [
           {
            "marker": {
             "line": {
              "color": "#E5ECF6",
              "width": 0.5
             },
             "pattern": {
              "fillmode": "overlay",
              "size": 10,
              "solidity": 0.2
             }
            },
            "type": "barpolar"
           }
          ],
          "carpet": [
           {
            "aaxis": {
             "endlinecolor": "#2a3f5f",
             "gridcolor": "white",
             "linecolor": "white",
             "minorgridcolor": "white",
             "startlinecolor": "#2a3f5f"
            },
            "baxis": {
             "endlinecolor": "#2a3f5f",
             "gridcolor": "white",
             "linecolor": "white",
             "minorgridcolor": "white",
             "startlinecolor": "#2a3f5f"
            },
            "type": "carpet"
           }
          ],
          "choropleth": [
           {
            "colorbar": {
             "outlinewidth": 0,
             "ticks": ""
            },
            "type": "choropleth"
           }
          ],
          "contour": [
           {
            "colorbar": {
             "outlinewidth": 0,
             "ticks": ""
            },
            "colorscale": [
             [
              0,
              "#0d0887"
             ],
             [
              0.1111111111111111,
              "#46039f"
             ],
             [
              0.2222222222222222,
              "#7201a8"
             ],
             [
              0.3333333333333333,
              "#9c179e"
             ],
             [
              0.4444444444444444,
              "#bd3786"
             ],
             [
              0.5555555555555556,
              "#d8576b"
             ],
             [
              0.6666666666666666,
              "#ed7953"
             ],
             [
              0.7777777777777778,
              "#fb9f3a"
             ],
             [
              0.8888888888888888,
              "#fdca26"
             ],
             [
              1,
              "#f0f921"
             ]
            ],
            "type": "contour"
           }
          ],
          "contourcarpet": [
           {
            "colorbar": {
             "outlinewidth": 0,
             "ticks": ""
            },
            "type": "contourcarpet"
           }
          ],
          "heatmap": [
           {
            "colorbar": {
             "outlinewidth": 0,
             "ticks": ""
            },
            "colorscale": [
             [
              0,
              "#0d0887"
             ],
             [
              0.1111111111111111,
              "#46039f"
             ],
             [
              0.2222222222222222,
              "#7201a8"
             ],
             [
              0.3333333333333333,
              "#9c179e"
             ],
             [
              0.4444444444444444,
              "#bd3786"
             ],
             [
              0.5555555555555556,
              "#d8576b"
             ],
             [
              0.6666666666666666,
              "#ed7953"
             ],
             [
              0.7777777777777778,
              "#fb9f3a"
             ],
             [
              0.8888888888888888,
              "#fdca26"
             ],
             [
              1,
              "#f0f921"
             ]
            ],
            "type": "heatmap"
           }
          ],
          "heatmapgl": [
           {
            "colorbar": {
             "outlinewidth": 0,
             "ticks": ""
            },
            "colorscale": [
             [
              0,
              "#0d0887"
             ],
             [
              0.1111111111111111,
              "#46039f"
             ],
             [
              0.2222222222222222,
              "#7201a8"
             ],
             [
              0.3333333333333333,
              "#9c179e"
             ],
             [
              0.4444444444444444,
              "#bd3786"
             ],
             [
              0.5555555555555556,
              "#d8576b"
             ],
             [
              0.6666666666666666,
              "#ed7953"
             ],
             [
              0.7777777777777778,
              "#fb9f3a"
             ],
             [
              0.8888888888888888,
              "#fdca26"
             ],
             [
              1,
              "#f0f921"
             ]
            ],
            "type": "heatmapgl"
           }
          ],
          "histogram": [
           {
            "marker": {
             "pattern": {
              "fillmode": "overlay",
              "size": 10,
              "solidity": 0.2
             }
            },
            "type": "histogram"
           }
          ],
          "histogram2d": [
           {
            "colorbar": {
             "outlinewidth": 0,
             "ticks": ""
            },
            "colorscale": [
             [
              0,
              "#0d0887"
             ],
             [
              0.1111111111111111,
              "#46039f"
             ],
             [
              0.2222222222222222,
              "#7201a8"
             ],
             [
              0.3333333333333333,
              "#9c179e"
             ],
             [
              0.4444444444444444,
              "#bd3786"
             ],
             [
              0.5555555555555556,
              "#d8576b"
             ],
             [
              0.6666666666666666,
              "#ed7953"
             ],
             [
              0.7777777777777778,
              "#fb9f3a"
             ],
             [
              0.8888888888888888,
              "#fdca26"
             ],
             [
              1,
              "#f0f921"
             ]
            ],
            "type": "histogram2d"
           }
          ],
          "histogram2dcontour": [
           {
            "colorbar": {
             "outlinewidth": 0,
             "ticks": ""
            },
            "colorscale": [
             [
              0,
              "#0d0887"
             ],
             [
              0.1111111111111111,
              "#46039f"
             ],
             [
              0.2222222222222222,
              "#7201a8"
             ],
             [
              0.3333333333333333,
              "#9c179e"
             ],
             [
              0.4444444444444444,
              "#bd3786"
             ],
             [
              0.5555555555555556,
              "#d8576b"
             ],
             [
              0.6666666666666666,
              "#ed7953"
             ],
             [
              0.7777777777777778,
              "#fb9f3a"
             ],
             [
              0.8888888888888888,
              "#fdca26"
             ],
             [
              1,
              "#f0f921"
             ]
            ],
            "type": "histogram2dcontour"
           }
          ],
          "mesh3d": [
           {
            "colorbar": {
             "outlinewidth": 0,
             "ticks": ""
            },
            "type": "mesh3d"
           }
          ],
          "parcoords": [
           {
            "line": {
             "colorbar": {
              "outlinewidth": 0,
              "ticks": ""
             }
            },
            "type": "parcoords"
           }
          ],
          "pie": [
           {
            "automargin": true,
            "type": "pie"
           }
          ],
          "scatter": [
           {
            "fillpattern": {
             "fillmode": "overlay",
             "size": 10,
             "solidity": 0.2
            },
            "type": "scatter"
           }
          ],
          "scatter3d": [
           {
            "line": {
             "colorbar": {
              "outlinewidth": 0,
              "ticks": ""
             }
            },
            "marker": {
             "colorbar": {
              "outlinewidth": 0,
              "ticks": ""
             }
            },
            "type": "scatter3d"
           }
          ],
          "scattercarpet": [
           {
            "marker": {
             "colorbar": {
              "outlinewidth": 0,
              "ticks": ""
             }
            },
            "type": "scattercarpet"
           }
          ],
          "scattergeo": [
           {
            "marker": {
             "colorbar": {
              "outlinewidth": 0,
              "ticks": ""
             }
            },
            "type": "scattergeo"
           }
          ],
          "scattergl": [
           {
            "marker": {
             "colorbar": {
              "outlinewidth": 0,
              "ticks": ""
             }
            },
            "type": "scattergl"
           }
          ],
          "scattermapbox": [
           {
            "marker": {
             "colorbar": {
              "outlinewidth": 0,
              "ticks": ""
             }
            },
            "type": "scattermapbox"
           }
          ],
          "scatterpolar": [
           {
            "marker": {
             "colorbar": {
              "outlinewidth": 0,
              "ticks": ""
             }
            },
            "type": "scatterpolar"
           }
          ],
          "scatterpolargl": [
           {
            "marker": {
             "colorbar": {
              "outlinewidth": 0,
              "ticks": ""
             }
            },
            "type": "scatterpolargl"
           }
          ],
          "scatterternary": [
           {
            "marker": {
             "colorbar": {
              "outlinewidth": 0,
              "ticks": ""
             }
            },
            "type": "scatterternary"
           }
          ],
          "surface": [
           {
            "colorbar": {
             "outlinewidth": 0,
             "ticks": ""
            },
            "colorscale": [
             [
              0,
              "#0d0887"
             ],
             [
              0.1111111111111111,
              "#46039f"
             ],
             [
              0.2222222222222222,
              "#7201a8"
             ],
             [
              0.3333333333333333,
              "#9c179e"
             ],
             [
              0.4444444444444444,
              "#bd3786"
             ],
             [
              0.5555555555555556,
              "#d8576b"
             ],
             [
              0.6666666666666666,
              "#ed7953"
             ],
             [
              0.7777777777777778,
              "#fb9f3a"
             ],
             [
              0.8888888888888888,
              "#fdca26"
             ],
             [
              1,
              "#f0f921"
             ]
            ],
            "type": "surface"
           }
          ],
          "table": [
           {
            "cells": {
             "fill": {
              "color": "#EBF0F8"
             },
             "line": {
              "color": "white"
             }
            },
            "header": {
             "fill": {
              "color": "#C8D4E3"
             },
             "line": {
              "color": "white"
             }
            },
            "type": "table"
           }
          ]
         },
         "layout": {
          "annotationdefaults": {
           "arrowcolor": "#2a3f5f",
           "arrowhead": 0,
           "arrowwidth": 1
          },
          "autotypenumbers": "strict",
          "coloraxis": {
           "colorbar": {
            "outlinewidth": 0,
            "ticks": ""
           }
          },
          "colorscale": {
           "diverging": [
            [
             0,
             "#8e0152"
            ],
            [
             0.1,
             "#c51b7d"
            ],
            [
             0.2,
             "#de77ae"
            ],
            [
             0.3,
             "#f1b6da"
            ],
            [
             0.4,
             "#fde0ef"
            ],
            [
             0.5,
             "#f7f7f7"
            ],
            [
             0.6,
             "#e6f5d0"
            ],
            [
             0.7,
             "#b8e186"
            ],
            [
             0.8,
             "#7fbc41"
            ],
            [
             0.9,
             "#4d9221"
            ],
            [
             1,
             "#276419"
            ]
           ],
           "sequential": [
            [
             0,
             "#0d0887"
            ],
            [
             0.1111111111111111,
             "#46039f"
            ],
            [
             0.2222222222222222,
             "#7201a8"
            ],
            [
             0.3333333333333333,
             "#9c179e"
            ],
            [
             0.4444444444444444,
             "#bd3786"
            ],
            [
             0.5555555555555556,
             "#d8576b"
            ],
            [
             0.6666666666666666,
             "#ed7953"
            ],
            [
             0.7777777777777778,
             "#fb9f3a"
            ],
            [
             0.8888888888888888,
             "#fdca26"
            ],
            [
             1,
             "#f0f921"
            ]
           ],
           "sequentialminus": [
            [
             0,
             "#0d0887"
            ],
            [
             0.1111111111111111,
             "#46039f"
            ],
            [
             0.2222222222222222,
             "#7201a8"
            ],
            [
             0.3333333333333333,
             "#9c179e"
            ],
            [
             0.4444444444444444,
             "#bd3786"
            ],
            [
             0.5555555555555556,
             "#d8576b"
            ],
            [
             0.6666666666666666,
             "#ed7953"
            ],
            [
             0.7777777777777778,
             "#fb9f3a"
            ],
            [
             0.8888888888888888,
             "#fdca26"
            ],
            [
             1,
             "#f0f921"
            ]
           ]
          },
          "colorway": [
           "#636efa",
           "#EF553B",
           "#00cc96",
           "#ab63fa",
           "#FFA15A",
           "#19d3f3",
           "#FF6692",
           "#B6E880",
           "#FF97FF",
           "#FECB52"
          ],
          "font": {
           "color": "#2a3f5f"
          },
          "geo": {
           "bgcolor": "white",
           "lakecolor": "white",
           "landcolor": "#E5ECF6",
           "showlakes": true,
           "showland": true,
           "subunitcolor": "white"
          },
          "hoverlabel": {
           "align": "left"
          },
          "hovermode": "closest",
          "mapbox": {
           "style": "light"
          },
          "paper_bgcolor": "white",
          "plot_bgcolor": "#E5ECF6",
          "polar": {
           "angularaxis": {
            "gridcolor": "white",
            "linecolor": "white",
            "ticks": ""
           },
           "bgcolor": "#E5ECF6",
           "radialaxis": {
            "gridcolor": "white",
            "linecolor": "white",
            "ticks": ""
           }
          },
          "scene": {
           "xaxis": {
            "backgroundcolor": "#E5ECF6",
            "gridcolor": "white",
            "gridwidth": 2,
            "linecolor": "white",
            "showbackground": true,
            "ticks": "",
            "zerolinecolor": "white"
           },
           "yaxis": {
            "backgroundcolor": "#E5ECF6",
            "gridcolor": "white",
            "gridwidth": 2,
            "linecolor": "white",
            "showbackground": true,
            "ticks": "",
            "zerolinecolor": "white"
           },
           "zaxis": {
            "backgroundcolor": "#E5ECF6",
            "gridcolor": "white",
            "gridwidth": 2,
            "linecolor": "white",
            "showbackground": true,
            "ticks": "",
            "zerolinecolor": "white"
           }
          },
          "shapedefaults": {
           "line": {
            "color": "#2a3f5f"
           }
          },
          "ternary": {
           "aaxis": {
            "gridcolor": "white",
            "linecolor": "white",
            "ticks": ""
           },
           "baxis": {
            "gridcolor": "white",
            "linecolor": "white",
            "ticks": ""
           },
           "bgcolor": "#E5ECF6",
           "caxis": {
            "gridcolor": "white",
            "linecolor": "white",
            "ticks": ""
           }
          },
          "title": {
           "x": 0.05
          },
          "xaxis": {
           "automargin": true,
           "gridcolor": "white",
           "linecolor": "white",
           "ticks": "",
           "title": {
            "standoff": 15
           },
           "zerolinecolor": "white",
           "zerolinewidth": 2
          },
          "yaxis": {
           "automargin": true,
           "gridcolor": "white",
           "linecolor": "white",
           "ticks": "",
           "title": {
            "standoff": 15
           },
           "zerolinecolor": "white",
           "zerolinewidth": 2
          }
         }
        },
        "title": {
         "text": "MBA Percentage Comparison"
        },
        "xaxis": {
         "anchor": "y",
         "domain": [
          0,
          1
         ],
         "title": {
          "text": "Placement Status"
         }
        },
        "yaxis": {
         "anchor": "x",
         "domain": [
          0,
          1
         ],
         "title": {
          "text": "MBA Percentage"
         }
        }
       }
      }
     },
     "metadata": {},
     "output_type": "display_data"
    },
    {
     "name": "stdout",
     "output_type": "stream",
     "text": [
      "LRT p-value: 0.257167121513069\n"
     ]
    }
   ],
   "source": [
    "# boxplot factored by status\n",
    "px.box(x = data['status'], \n",
    "       y = data['mba_percent'],\n",
    "       labels = {\n",
    "            'x': 'Placement Status',\n",
    "            'y': 'MBA Percentage'\n",
    "       },\n",
    "       title = 'MBA Percentage Comparison').show()\n",
    "\n",
    "# fit logistic regression model on single predictor\n",
    "logFit = LogisticRegression().fit(np.array(data['mba_percent']).reshape(-1, 1), \n",
    "                                  data['status'])\n",
    "\n",
    "# perform likelihood ratio test for independence\n",
    "lrtPval = likelihood_ratio_test(np.array(data['mba_percent']).reshape(-1, 1), \n",
    "                                (data['status'] == 'Placed').astype(int), \n",
    "                                logFit)\n",
    "print(f\"LRT p-value: {lrtPval}\")"
   ]
  },
  {
   "attachments": {},
   "cell_type": "markdown",
   "metadata": {},
   "source": [
    "### Categorical Predictors\n",
    "\n",
    "A brief analysis of the categorical predictors in the dataset using contingency tables and chi-squared independence tests concluded that *work_experience* and *specialisation* should likely be included in the final model. Additionally, there was some evidence to suggest that *gender* is associated with placement status so it will be included in future models as well since gender discrimination in hiring practices is a known and studied phenomenon. "
   ]
  },
  {
   "cell_type": "code",
   "execution_count": 795,
   "metadata": {},
   "outputs": [
    {
     "data": {
      "text/html": [
       "<div>\n",
       "<style scoped>\n",
       "    .dataframe tbody tr th:only-of-type {\n",
       "        vertical-align: middle;\n",
       "    }\n",
       "\n",
       "    .dataframe tbody tr th {\n",
       "        vertical-align: top;\n",
       "    }\n",
       "\n",
       "    .dataframe thead th {\n",
       "        text-align: right;\n",
       "    }\n",
       "</style>\n",
       "<table border=\"1\" class=\"dataframe\">\n",
       "  <thead>\n",
       "    <tr style=\"text-align: right;\">\n",
       "      <th></th>\n",
       "      <th>Variable</th>\n",
       "      <th>Outcome</th>\n",
       "      <th>Count</th>\n",
       "      <th>Percent</th>\n",
       "    </tr>\n",
       "  </thead>\n",
       "  <tbody>\n",
       "    <tr>\n",
       "      <th>0</th>\n",
       "      <td>gender</td>\n",
       "      <td>M</td>\n",
       "      <td>139</td>\n",
       "      <td>64.65</td>\n",
       "    </tr>\n",
       "    <tr>\n",
       "      <th>1</th>\n",
       "      <td></td>\n",
       "      <td>F</td>\n",
       "      <td>76</td>\n",
       "      <td>35.35</td>\n",
       "    </tr>\n",
       "    <tr>\n",
       "      <th>2</th>\n",
       "      <td>ssc_board</td>\n",
       "      <td>Central</td>\n",
       "      <td>116</td>\n",
       "      <td>53.95</td>\n",
       "    </tr>\n",
       "    <tr>\n",
       "      <th>3</th>\n",
       "      <td></td>\n",
       "      <td>Others</td>\n",
       "      <td>99</td>\n",
       "      <td>46.05</td>\n",
       "    </tr>\n",
       "    <tr>\n",
       "      <th>4</th>\n",
       "      <td>hsc_board</td>\n",
       "      <td>Others</td>\n",
       "      <td>131</td>\n",
       "      <td>60.93</td>\n",
       "    </tr>\n",
       "    <tr>\n",
       "      <th>5</th>\n",
       "      <td></td>\n",
       "      <td>Central</td>\n",
       "      <td>84</td>\n",
       "      <td>39.07</td>\n",
       "    </tr>\n",
       "    <tr>\n",
       "      <th>6</th>\n",
       "      <td>hsc_subject</td>\n",
       "      <td>Commerce</td>\n",
       "      <td>113</td>\n",
       "      <td>52.56</td>\n",
       "    </tr>\n",
       "    <tr>\n",
       "      <th>7</th>\n",
       "      <td></td>\n",
       "      <td>Science</td>\n",
       "      <td>91</td>\n",
       "      <td>42.33</td>\n",
       "    </tr>\n",
       "    <tr>\n",
       "      <th>8</th>\n",
       "      <td></td>\n",
       "      <td>Arts</td>\n",
       "      <td>11</td>\n",
       "      <td>5.12</td>\n",
       "    </tr>\n",
       "    <tr>\n",
       "      <th>9</th>\n",
       "      <td>undergrad_degree</td>\n",
       "      <td>Comm&amp;Mgmt</td>\n",
       "      <td>145</td>\n",
       "      <td>67.44</td>\n",
       "    </tr>\n",
       "    <tr>\n",
       "      <th>10</th>\n",
       "      <td></td>\n",
       "      <td>Sci&amp;Tech</td>\n",
       "      <td>59</td>\n",
       "      <td>27.44</td>\n",
       "    </tr>\n",
       "    <tr>\n",
       "      <th>11</th>\n",
       "      <td></td>\n",
       "      <td>Others</td>\n",
       "      <td>11</td>\n",
       "      <td>5.12</td>\n",
       "    </tr>\n",
       "    <tr>\n",
       "      <th>12</th>\n",
       "      <td>work_experience</td>\n",
       "      <td>No</td>\n",
       "      <td>141</td>\n",
       "      <td>65.58</td>\n",
       "    </tr>\n",
       "    <tr>\n",
       "      <th>13</th>\n",
       "      <td></td>\n",
       "      <td>Yes</td>\n",
       "      <td>74</td>\n",
       "      <td>34.42</td>\n",
       "    </tr>\n",
       "    <tr>\n",
       "      <th>14</th>\n",
       "      <td>specialisation</td>\n",
       "      <td>Mkt&amp;Fin</td>\n",
       "      <td>120</td>\n",
       "      <td>55.81</td>\n",
       "    </tr>\n",
       "    <tr>\n",
       "      <th>15</th>\n",
       "      <td></td>\n",
       "      <td>Mkt&amp;HR</td>\n",
       "      <td>95</td>\n",
       "      <td>44.19</td>\n",
       "    </tr>\n",
       "  </tbody>\n",
       "</table>\n",
       "</div>"
      ],
      "text/plain": [
       "            Variable    Outcome  Count  Percent\n",
       "0             gender          M    139    64.65\n",
       "1                             F     76    35.35\n",
       "2          ssc_board    Central    116    53.95\n",
       "3                        Others     99    46.05\n",
       "4          hsc_board     Others    131    60.93\n",
       "5                       Central     84    39.07\n",
       "6        hsc_subject   Commerce    113    52.56\n",
       "7                       Science     91    42.33\n",
       "8                          Arts     11     5.12\n",
       "9   undergrad_degree  Comm&Mgmt    145    67.44\n",
       "10                     Sci&Tech     59    27.44\n",
       "11                       Others     11     5.12\n",
       "12   work_experience         No    141    65.58\n",
       "13                          Yes     74    34.42\n",
       "14    specialisation    Mkt&Fin    120    55.81\n",
       "15                       Mkt&HR     95    44.19"
      ]
     },
     "execution_count": 795,
     "metadata": {},
     "output_type": "execute_result"
    }
   ],
   "source": [
    "# sumamrize categorical predictors\n",
    "findCatPredictors = make_column_selector(dtype_include = object)\n",
    "rp.summary_cat(data[findCatPredictors(data)[0:(len(findCatPredictors(data)) - 1)]])"
   ]
  },
  {
   "cell_type": "code",
   "execution_count": 796,
   "metadata": {},
   "outputs": [
    {
     "data": {
      "text/html": [
       "<div>\n",
       "<style scoped>\n",
       "    .dataframe tbody tr th:only-of-type {\n",
       "        vertical-align: middle;\n",
       "    }\n",
       "\n",
       "    .dataframe tbody tr th {\n",
       "        vertical-align: top;\n",
       "    }\n",
       "\n",
       "    .dataframe thead th {\n",
       "        text-align: right;\n",
       "    }\n",
       "</style>\n",
       "<table border=\"1\" class=\"dataframe\">\n",
       "  <thead>\n",
       "    <tr style=\"text-align: right;\">\n",
       "      <th>gender</th>\n",
       "      <th>F</th>\n",
       "      <th>M</th>\n",
       "    </tr>\n",
       "    <tr>\n",
       "      <th>status</th>\n",
       "      <th></th>\n",
       "      <th></th>\n",
       "    </tr>\n",
       "  </thead>\n",
       "  <tbody>\n",
       "    <tr>\n",
       "      <th>Not Placed</th>\n",
       "      <td>28</td>\n",
       "      <td>39</td>\n",
       "    </tr>\n",
       "    <tr>\n",
       "      <th>Placed</th>\n",
       "      <td>48</td>\n",
       "      <td>100</td>\n",
       "    </tr>\n",
       "  </tbody>\n",
       "</table>\n",
       "</div>"
      ],
      "text/plain": [
       "gender       F    M\n",
       "status             \n",
       "Not Placed  28   39\n",
       "Placed      48  100"
      ]
     },
     "metadata": {},
     "output_type": "display_data"
    },
    {
     "name": "stdout",
     "output_type": "stream",
     "text": [
      "Chi-squared test p-value: 0.23980260881037568\n"
     ]
    }
   ],
   "source": [
    "# construct contingency table\n",
    "contingency = pd.crosstab(data['status'], data['gender'])\n",
    "display(contingency)\n",
    "\n",
    "# perform chi-squared test for independence\n",
    "print(f\"Chi-squared test p-value: {stats.chi2_contingency(contingency)[1]}\")"
   ]
  },
  {
   "cell_type": "code",
   "execution_count": 797,
   "metadata": {},
   "outputs": [
    {
     "data": {
      "text/html": [
       "<div>\n",
       "<style scoped>\n",
       "    .dataframe tbody tr th:only-of-type {\n",
       "        vertical-align: middle;\n",
       "    }\n",
       "\n",
       "    .dataframe tbody tr th {\n",
       "        vertical-align: top;\n",
       "    }\n",
       "\n",
       "    .dataframe thead th {\n",
       "        text-align: right;\n",
       "    }\n",
       "</style>\n",
       "<table border=\"1\" class=\"dataframe\">\n",
       "  <thead>\n",
       "    <tr style=\"text-align: right;\">\n",
       "      <th>ssc_board</th>\n",
       "      <th>Central</th>\n",
       "      <th>Others</th>\n",
       "    </tr>\n",
       "    <tr>\n",
       "      <th>status</th>\n",
       "      <th></th>\n",
       "      <th></th>\n",
       "    </tr>\n",
       "  </thead>\n",
       "  <tbody>\n",
       "    <tr>\n",
       "      <th>Not Placed</th>\n",
       "      <td>38</td>\n",
       "      <td>29</td>\n",
       "    </tr>\n",
       "    <tr>\n",
       "      <th>Placed</th>\n",
       "      <td>78</td>\n",
       "      <td>70</td>\n",
       "    </tr>\n",
       "  </tbody>\n",
       "</table>\n",
       "</div>"
      ],
      "text/plain": [
       "ssc_board   Central  Others\n",
       "status                     \n",
       "Not Placed       38      29\n",
       "Placed           78      70"
      ]
     },
     "metadata": {},
     "output_type": "display_data"
    },
    {
     "name": "stdout",
     "output_type": "stream",
     "text": [
      "Chi-squared test p-value: 0.6897729431530739\n"
     ]
    }
   ],
   "source": [
    "# construct contingency table\n",
    "contingency = pd.crosstab(data['status'], data['ssc_board'])\n",
    "display(contingency)\n",
    "\n",
    "# perform chi-squared test for independence``\n",
    "print(f\"Chi-squared test p-value: {stats.chi2_contingency(contingency)[1]}\")"
   ]
  },
  {
   "cell_type": "code",
   "execution_count": 798,
   "metadata": {},
   "outputs": [
    {
     "data": {
      "text/html": [
       "<div>\n",
       "<style scoped>\n",
       "    .dataframe tbody tr th:only-of-type {\n",
       "        vertical-align: middle;\n",
       "    }\n",
       "\n",
       "    .dataframe tbody tr th {\n",
       "        vertical-align: top;\n",
       "    }\n",
       "\n",
       "    .dataframe thead th {\n",
       "        text-align: right;\n",
       "    }\n",
       "</style>\n",
       "<table border=\"1\" class=\"dataframe\">\n",
       "  <thead>\n",
       "    <tr style=\"text-align: right;\">\n",
       "      <th>hsc_board</th>\n",
       "      <th>Central</th>\n",
       "      <th>Others</th>\n",
       "    </tr>\n",
       "    <tr>\n",
       "      <th>status</th>\n",
       "      <th></th>\n",
       "      <th></th>\n",
       "    </tr>\n",
       "  </thead>\n",
       "  <tbody>\n",
       "    <tr>\n",
       "      <th>Not Placed</th>\n",
       "      <td>27</td>\n",
       "      <td>40</td>\n",
       "    </tr>\n",
       "    <tr>\n",
       "      <th>Placed</th>\n",
       "      <td>57</td>\n",
       "      <td>91</td>\n",
       "    </tr>\n",
       "  </tbody>\n",
       "</table>\n",
       "</div>"
      ],
      "text/plain": [
       "hsc_board   Central  Others\n",
       "status                     \n",
       "Not Placed       27      40\n",
       "Placed           57      91"
      ]
     },
     "metadata": {},
     "output_type": "display_data"
    },
    {
     "name": "stdout",
     "output_type": "stream",
     "text": [
      "Chi-squared test p-value: 0.9222837052885\n"
     ]
    }
   ],
   "source": [
    "# construct contingency table\n",
    "contingency = pd.crosstab(data['status'], data['hsc_board'])\n",
    "display(contingency)\n",
    "\n",
    "# perform chi-squared test for independence\n",
    "print(f\"Chi-squared test p-value: {stats.chi2_contingency(contingency)[1]}\")"
   ]
  },
  {
   "cell_type": "code",
   "execution_count": 799,
   "metadata": {},
   "outputs": [
    {
     "data": {
      "text/html": [
       "<div>\n",
       "<style scoped>\n",
       "    .dataframe tbody tr th:only-of-type {\n",
       "        vertical-align: middle;\n",
       "    }\n",
       "\n",
       "    .dataframe tbody tr th {\n",
       "        vertical-align: top;\n",
       "    }\n",
       "\n",
       "    .dataframe thead th {\n",
       "        text-align: right;\n",
       "    }\n",
       "</style>\n",
       "<table border=\"1\" class=\"dataframe\">\n",
       "  <thead>\n",
       "    <tr style=\"text-align: right;\">\n",
       "      <th>hsc_subject</th>\n",
       "      <th>Arts</th>\n",
       "      <th>Commerce</th>\n",
       "      <th>Science</th>\n",
       "    </tr>\n",
       "    <tr>\n",
       "      <th>status</th>\n",
       "      <th></th>\n",
       "      <th></th>\n",
       "      <th></th>\n",
       "    </tr>\n",
       "  </thead>\n",
       "  <tbody>\n",
       "    <tr>\n",
       "      <th>Not Placed</th>\n",
       "      <td>5</td>\n",
       "      <td>34</td>\n",
       "      <td>28</td>\n",
       "    </tr>\n",
       "    <tr>\n",
       "      <th>Placed</th>\n",
       "      <td>6</td>\n",
       "      <td>79</td>\n",
       "      <td>63</td>\n",
       "    </tr>\n",
       "  </tbody>\n",
       "</table>\n",
       "</div>"
      ],
      "text/plain": [
       "hsc_subject  Arts  Commerce  Science\n",
       "status                              \n",
       "Not Placed      5        34       28\n",
       "Placed          6        79       63"
      ]
     },
     "metadata": {},
     "output_type": "display_data"
    },
    {
     "name": "stdout",
     "output_type": "stream",
     "text": [
      "Chi-squared test p-value: 0.5727118511343621\n"
     ]
    }
   ],
   "source": [
    "# construct contingency table\n",
    "contingency = pd.crosstab(data['status'], data['hsc_subject'])\n",
    "display(contingency)\n",
    "\n",
    "# perform chi-squared test for independence\n",
    "print(f\"Chi-squared test p-value: {stats.chi2_contingency(contingency)[1]}\")"
   ]
  },
  {
   "cell_type": "code",
   "execution_count": 800,
   "metadata": {},
   "outputs": [
    {
     "data": {
      "text/html": [
       "<div>\n",
       "<style scoped>\n",
       "    .dataframe tbody tr th:only-of-type {\n",
       "        vertical-align: middle;\n",
       "    }\n",
       "\n",
       "    .dataframe tbody tr th {\n",
       "        vertical-align: top;\n",
       "    }\n",
       "\n",
       "    .dataframe thead th {\n",
       "        text-align: right;\n",
       "    }\n",
       "</style>\n",
       "<table border=\"1\" class=\"dataframe\">\n",
       "  <thead>\n",
       "    <tr style=\"text-align: right;\">\n",
       "      <th>undergrad_degree</th>\n",
       "      <th>Comm&amp;Mgmt</th>\n",
       "      <th>Others</th>\n",
       "      <th>Sci&amp;Tech</th>\n",
       "    </tr>\n",
       "    <tr>\n",
       "      <th>status</th>\n",
       "      <th></th>\n",
       "      <th></th>\n",
       "      <th></th>\n",
       "    </tr>\n",
       "  </thead>\n",
       "  <tbody>\n",
       "    <tr>\n",
       "      <th>Not Placed</th>\n",
       "      <td>43</td>\n",
       "      <td>6</td>\n",
       "      <td>18</td>\n",
       "    </tr>\n",
       "    <tr>\n",
       "      <th>Placed</th>\n",
       "      <td>102</td>\n",
       "      <td>5</td>\n",
       "      <td>41</td>\n",
       "    </tr>\n",
       "  </tbody>\n",
       "</table>\n",
       "</div>"
      ],
      "text/plain": [
       "undergrad_degree  Comm&Mgmt  Others  Sci&Tech\n",
       "status                                       \n",
       "Not Placed               43       6        18\n",
       "Placed                  102       5        41"
      ]
     },
     "metadata": {},
     "output_type": "display_data"
    },
    {
     "name": "stdout",
     "output_type": "stream",
     "text": [
      "Chi-squared test p-value: 0.22661076190356658\n"
     ]
    }
   ],
   "source": [
    "# construct contingency table\n",
    "contingency = pd.crosstab(data['status'], data['undergrad_degree'])\n",
    "display(contingency)\n",
    "\n",
    "# perform chi-squared test for independence\n",
    "print(f\"Chi-squared test p-value: {stats.chi2_contingency(contingency)[1]}\")"
   ]
  },
  {
   "cell_type": "code",
   "execution_count": 801,
   "metadata": {},
   "outputs": [
    {
     "data": {
      "text/html": [
       "<div>\n",
       "<style scoped>\n",
       "    .dataframe tbody tr th:only-of-type {\n",
       "        vertical-align: middle;\n",
       "    }\n",
       "\n",
       "    .dataframe tbody tr th {\n",
       "        vertical-align: top;\n",
       "    }\n",
       "\n",
       "    .dataframe thead th {\n",
       "        text-align: right;\n",
       "    }\n",
       "</style>\n",
       "<table border=\"1\" class=\"dataframe\">\n",
       "  <thead>\n",
       "    <tr style=\"text-align: right;\">\n",
       "      <th>work_experience</th>\n",
       "      <th>No</th>\n",
       "      <th>Yes</th>\n",
       "    </tr>\n",
       "    <tr>\n",
       "      <th>status</th>\n",
       "      <th></th>\n",
       "      <th></th>\n",
       "    </tr>\n",
       "  </thead>\n",
       "  <tbody>\n",
       "    <tr>\n",
       "      <th>Not Placed</th>\n",
       "      <td>57</td>\n",
       "      <td>10</td>\n",
       "    </tr>\n",
       "    <tr>\n",
       "      <th>Placed</th>\n",
       "      <td>84</td>\n",
       "      <td>64</td>\n",
       "    </tr>\n",
       "  </tbody>\n",
       "</table>\n",
       "</div>"
      ],
      "text/plain": [
       "work_experience  No  Yes\n",
       "status                  \n",
       "Not Placed       57   10\n",
       "Placed           84   64"
      ]
     },
     "metadata": {},
     "output_type": "display_data"
    },
    {
     "name": "stdout",
     "output_type": "stream",
     "text": [
      "Chi-squared test p-value: 9.906584720516494e-05\n"
     ]
    }
   ],
   "source": [
    "# construct contingency table\n",
    "contingency = pd.crosstab(data['status'], data['work_experience'])\n",
    "display(contingency)\n",
    "\n",
    "# perform chi-squared test for independence\n",
    "print(f\"Chi-squared test p-value: {stats.chi2_contingency(contingency)[1]}\")"
   ]
  },
  {
   "cell_type": "code",
   "execution_count": 802,
   "metadata": {},
   "outputs": [
    {
     "data": {
      "text/html": [
       "<div>\n",
       "<style scoped>\n",
       "    .dataframe tbody tr th:only-of-type {\n",
       "        vertical-align: middle;\n",
       "    }\n",
       "\n",
       "    .dataframe tbody tr th {\n",
       "        vertical-align: top;\n",
       "    }\n",
       "\n",
       "    .dataframe thead th {\n",
       "        text-align: right;\n",
       "    }\n",
       "</style>\n",
       "<table border=\"1\" class=\"dataframe\">\n",
       "  <thead>\n",
       "    <tr style=\"text-align: right;\">\n",
       "      <th>specialisation</th>\n",
       "      <th>Mkt&amp;Fin</th>\n",
       "      <th>Mkt&amp;HR</th>\n",
       "    </tr>\n",
       "    <tr>\n",
       "      <th>status</th>\n",
       "      <th></th>\n",
       "      <th></th>\n",
       "    </tr>\n",
       "  </thead>\n",
       "  <tbody>\n",
       "    <tr>\n",
       "      <th>Not Placed</th>\n",
       "      <td>25</td>\n",
       "      <td>42</td>\n",
       "    </tr>\n",
       "    <tr>\n",
       "      <th>Placed</th>\n",
       "      <td>95</td>\n",
       "      <td>53</td>\n",
       "    </tr>\n",
       "  </tbody>\n",
       "</table>\n",
       "</div>"
      ],
      "text/plain": [
       "specialisation  Mkt&Fin  Mkt&HR\n",
       "status                         \n",
       "Not Placed           25      42\n",
       "Placed               95      53"
      ]
     },
     "metadata": {},
     "output_type": "display_data"
    },
    {
     "name": "stdout",
     "output_type": "stream",
     "text": [
      "Chi-squared test p-value: 0.00042018425858864284\n"
     ]
    }
   ],
   "source": [
    "# construct contingency table\n",
    "contingency = pd.crosstab(data['status'], data['specialisation'])\n",
    "display(contingency)\n",
    "\n",
    "# perform chi-squared test for independence\n",
    "print(f\"Chi-squared test p-value: {stats.chi2_contingency(contingency)[1]}\")"
   ]
  },
  {
   "attachments": {},
   "cell_type": "markdown",
   "metadata": {},
   "source": [
    "## Model Fitting"
   ]
  },
  {
   "cell_type": "code",
   "execution_count": 6,
   "metadata": {},
   "outputs": [],
   "source": [
    "# scale numeric predictors and encode categorical predictors\n",
    "findNumPredictors = make_column_selector(dtype_include = float)\n",
    "findCatPredictors = make_column_selector(dtype_include = object)\n",
    "transform = make_column_transformer((StandardScaler(),\n",
    "                                     findNumPredictors),\n",
    "                                    (OneHotEncoder(drop = 'first'),\n",
    "                                     findCatPredictors))\n",
    "\n",
    "# get new column names\n",
    "colNames = transform.fit(data.drop('status',\n",
    "                                   axis = 1)).get_feature_names_out()\n",
    "\n",
    "# transform data\n",
    "modelDF = pd.DataFrame(transform.fit_transform(data.drop('status', \n",
    "                                                         axis = 1)),\n",
    "                                                         columns = colNames)\n",
    "\n",
    "np.random.seed(3172023) # set random seed\n",
    "\n",
    "# split data into training and test sets\n",
    "X_train, X_test, y_train, y_test = train_test_split(modelDF,\n",
    "                                                    data['status'],\n",
    "                                                    test_size = 0.2)\n",
    "\n",
    "# rename predictor dataframes\n",
    "X_train = pd.DataFrame(X_train,\n",
    "                       columns = colNames)\n",
    "X_test = pd.DataFrame(X_test,\n",
    "                      columns = colNames)\n",
    "\n",
    "# set of selected features\n",
    "features = ['standardscaler__ssc_percentage',\n",
    "            'standardscaler__hsc_percentage',\n",
    "            'standardscaler__degree_percentage',\n",
    "            'standardscaler__emp_test_percentage',\n",
    "            'onehotencoder__gender_M',\n",
    "            'onehotencoder__work_experience_Yes',\n",
    "            'onehotencoder__specialisation_Mkt&HR']"
   ]
  },
  {
   "attachments": {},
   "cell_type": "markdown",
   "metadata": {},
   "source": [
    "A logistic regression model was fit using the selected predictors and achieved a cross-validation accuracy of 89%"
   ]
  },
  {
   "cell_type": "code",
   "execution_count": 804,
   "metadata": {},
   "outputs": [
    {
     "name": "stdout",
     "output_type": "stream",
     "text": [
      "Cross-validation accuracy: 0.8899\n"
     ]
    }
   ],
   "source": [
    "np.random.seed(3172023) # set random seed\n",
    "\n",
    "logFit = LogisticRegression()\n",
    "cvResults = cross_val_score(logFit, \n",
    "                            X_train[features], \n",
    "                            y_train, \n",
    "                            cv = 10)\n",
    "\n",
    "print(f\"Cross-validation accuracy: {np.mean(cvResults).round(4)}\")"
   ]
  },
  {
   "attachments": {},
   "cell_type": "markdown",
   "metadata": {},
   "source": [
    "A linear discriminant analysis model slightly underperformed the logistic regression model with a cross-validation accuracy of 88.4%."
   ]
  },
  {
   "cell_type": "code",
   "execution_count": 805,
   "metadata": {},
   "outputs": [
    {
     "name": "stdout",
     "output_type": "stream",
     "text": [
      "Cross-validation accuracy: 0.884\n"
     ]
    }
   ],
   "source": [
    "np.random.seed(3172023) # set random seed\n",
    "\n",
    "ldaFit = LinearDiscriminantAnalysis()\n",
    "cvResults = cross_val_score(ldaFit, \n",
    "                            X_train[features], \n",
    "                            y_train, \n",
    "                            cv = 10)\n",
    "\n",
    "print(f\"Cross-validation accuracy: {np.mean(cvResults).round(4)}\")"
   ]
  },
  {
   "attachments": {},
   "cell_type": "markdown",
   "metadata": {},
   "source": [
    "A K-Nearest Neighbors model performed still worse with a cross-validation accuracy of 86%."
   ]
  },
  {
   "cell_type": "code",
   "execution_count": 806,
   "metadata": {},
   "outputs": [
    {
     "name": "stdout",
     "output_type": "stream",
     "text": [
      "Cross-validation accuracy: 0.8598\n"
     ]
    }
   ],
   "source": [
    "np.random.seed(3172023) # set random seed\n",
    "\n",
    "# tune KNN model\n",
    "Kvalues = range(1, 20)\n",
    "knnFit = KNeighborsClassifier()\n",
    "knnTune = GridSearchCV(knnFit,\n",
    "                       param_grid = {'n_neighbors': Kvalues},\n",
    "                       cv = 10)\n",
    "knnTune.fit(X_train[features],\n",
    "            y_train)\n",
    "cvResults = knnTune.cv_results_['mean_test_score']\n",
    "K = knnTune.best_params_['n_neighbors']\n",
    "\n",
    "np.random.seed(3172023) # set random seed\n",
    "\n",
    "# fit KNN model\n",
    "knnFit = KNeighborsClassifier(n_neighbors = K)\n",
    "cvResults = cross_val_score(knnFit,\n",
    "                            X_train[features],\n",
    "                            y_train,\n",
    "                            cv = 10)\n",
    "\n",
    "print(f\"Cross-validation accuracy: {np.mean(cvResults).round(4)}\")"
   ]
  },
  {
   "attachments": {},
   "cell_type": "markdown",
   "metadata": {},
   "source": [
    "A random forest model was also found to be competitive with a cross-validation accuracy of 87.8%."
   ]
  },
  {
   "cell_type": "code",
   "execution_count": 807,
   "metadata": {},
   "outputs": [
    {
     "name": "stdout",
     "output_type": "stream",
     "text": [
      "Cross-validation accuracy: 0.8778\n"
     ]
    }
   ],
   "source": [
    "np.random.seed(3182023) # set random seed\n",
    "\n",
    "# tune random forest model\n",
    "Mvalues = range(1, len(X_train.columns))\n",
    "rfFit = RandomForestClassifier()\n",
    "rfTune = GridSearchCV(rfFit,\n",
    "                      param_grid = {'max_features': Mvalues},\n",
    "                      cv = 10)\n",
    "rfTune.fit(X_train,\n",
    "           y_train)\n",
    "M = rfTune.best_params_['max_features']\n",
    "\n",
    "np.random.seed(3182023) # set random seed\n",
    "\n",
    "# fit random forest model\n",
    "rfFit = RandomForestClassifier(max_features = M)\n",
    "cvResults = cross_val_score(rfFit,\n",
    "                            X_train,\n",
    "                            y_train,\n",
    "                            cv = 10)\n",
    "\n",
    "print(f\"Cross-validation accuracy: {np.mean(cvResults).round(4)}\")"
   ]
  },
  {
   "attachments": {},
   "cell_type": "markdown",
   "metadata": {},
   "source": [
    "An AdaBoost model performed comparably to the above random forest model with a cross-validation accuracy of 87.2%."
   ]
  },
  {
   "cell_type": "code",
   "execution_count": 808,
   "metadata": {},
   "outputs": [
    {
     "name": "stdout",
     "output_type": "stream",
     "text": [
      "Cross-validation accuracy: 0.8722\n"
     ]
    }
   ],
   "source": [
    "np.random.seed(3182023) # set random seed\n",
    "\n",
    "# tune adaboost model\n",
    "Bvalues = [10, 25, 50, 75, 100, 500]\n",
    "Lvalues = [.001, .01, .1, .25, .5, 1]\n",
    "adaFit = AdaBoostClassifier()\n",
    "adaTune = GridSearchCV(adaFit,\n",
    "                       param_grid = {'n_estimators': Bvalues,\n",
    "                                     'learning_rate': Lvalues},\n",
    "                       cv = 10)\n",
    "adaTune.fit(X_train,\n",
    "            y_train)\n",
    "B = adaTune.best_params_['n_estimators']\n",
    "L = adaTune.best_params_['learning_rate']\n",
    "\n",
    "np.random.seed(3182023) # set random seed\n",
    "\n",
    "# fit adaboost model\n",
    "adaFit = AdaBoostClassifier(n_estimators = B,\n",
    "                            learning_rate = L)\n",
    "cvResults = cross_val_score(adaFit,\n",
    "                            X_train,\n",
    "                            y_train,\n",
    "                            cv = 10)\n",
    "\n",
    "print(f\"Cross-validation accuracy: {np.mean(cvResults).round(4)}\")"
   ]
  },
  {
   "attachments": {},
   "cell_type": "markdown",
   "metadata": {},
   "source": [
    "A support vector machine model matched the logistic regression with a cross-validation accuracy of 89%. "
   ]
  },
  {
   "cell_type": "code",
   "execution_count": 809,
   "metadata": {},
   "outputs": [
    {
     "name": "stdout",
     "output_type": "stream",
     "text": [
      "Cross-validation accuracy: 0.8895\n"
     ]
    }
   ],
   "source": [
    "np.random.seed(3182023) # set random seed\n",
    "\n",
    "# tune svm model\n",
    "Cvalues = [.1, .25, .5, .75, 1, 2, 5, 10, 25, 50, 100]\n",
    "Kernels = ['linear', 'poly', 'rbf']\n",
    "svmFit = SVC()\n",
    "svmTune = GridSearchCV(svmFit,\n",
    "                       param_grid = {'C': Cvalues,\n",
    "                                     'kernel': Kernels},\n",
    "                       cv = 10)\n",
    "svmTune.fit(X_train[features],\n",
    "            y_train)\n",
    "C = svmTune.best_params_['C']\n",
    "Kernel = svmTune.best_params_['kernel']\n",
    "\n",
    "np.random.seed(3182023) # set random seed\n",
    "\n",
    "# fit svm model\n",
    "svmFit = SVC(C = C,\n",
    "             kernel = Kernel)\n",
    "cvResults = cross_val_score(svmFit,\n",
    "                            X_train[features],\n",
    "                            y_train,\n",
    "                            cv = 10)\n",
    "\n",
    "print(f\"Cross-validation accuracy: {np.mean(cvResults).round(4)}\")"
   ]
  },
  {
   "attachments": {},
   "cell_type": "markdown",
   "metadata": {},
   "source": [
    "Logistic regression, random forest, and support vector machine models were chosen for final testing against a held-out test set. The random forest classifier performed the best with a test accuracy of 88.4%."
   ]
  },
  {
   "cell_type": "code",
   "execution_count": 810,
   "metadata": {},
   "outputs": [
    {
     "name": "stdout",
     "output_type": "stream",
     "text": [
      "Logistic regression test accuracy: 0.8605\n",
      "Random forest test accuracy: 0.8837\n",
      "Support vector machine test accuracy: 0.8605\n"
     ]
    }
   ],
   "source": [
    "# fit logistic regression model\n",
    "logFit = LogisticRegression().fit(X_train[features],\n",
    "                                  y_train)\n",
    "logPred = logFit.predict(X_test[features])\n",
    "print(f\"Logistic regression test accuracy: {accuracy_score(y_test, logPred).round(4)}\")\n",
    "\n",
    "# fit random forest model\n",
    "rfFit = RandomForestClassifier(max_features = M).fit(X_train,\n",
    "                                                     y_train)\n",
    "rfPred = rfFit.predict(X_test)\n",
    "print(f\"Random forest test accuracy: {accuracy_score(y_test, rfPred).round(4)}\")\n",
    "\n",
    "# fit svm model\n",
    "svmFit = SVC(C = C,\n",
    "             kernel = Kernel).fit(X_train,\n",
    "                                  y_train)\n",
    "svmPred = svmFit.predict(X_test)\n",
    "print(f\"Support vector machine test accuracy: {accuracy_score(y_test, svmPred).round(4)}\")"
   ]
  },
  {
   "attachments": {},
   "cell_type": "markdown",
   "metadata": {},
   "source": [
    "A basic perceptron model with three hidden layers was fit using an early stopping and penalized regularization. This model achieved a validation accuracy of 88.57% and a test accuracy of 88.37%."
   ]
  },
  {
   "cell_type": "code",
   "execution_count": 16,
   "metadata": {},
   "outputs": [
    {
     "name": "stdout",
     "output_type": "stream",
     "text": [
      "Epoch 38: early stopping\n"
     ]
    },
    {
     "data": {
      "image/png": "[encoded data removed]",
      "text/plain": [
       "<Figure size 640x480 with 1 Axes>"
      ]
     },
     "metadata": {},
     "output_type": "display_data"
    },
    {
     "data": {
      "image/png": "[encoded data removed]",
      "text/plain": [
       "<Figure size 640x480 with 1 Axes>"
      ]
     },
     "metadata": {},
     "output_type": "display_data"
    },
    {
     "name": "stdout",
     "output_type": "stream",
     "text": [
      "2/2 - 0s - loss: 0.4071 - accuracy: 0.8837 - 91ms/epoch - 45ms/step\n",
      "Normalizing penalty test accuracy: 88.37%\n"
     ]
    }
   ],
   "source": [
    "# set random seeds\n",
    "np.random.seed(462023)\n",
    "tf.random.set_seed(4112023)\n",
    "\n",
    "# penalty hyperparameter\n",
    "PENALTY = 0.001\n",
    "\n",
    "# define model architecture\n",
    "model = models.Sequential([\n",
    "    Dense(72, activation = 'relu', kernel_regularizer = l2(PENALTY), input_shape = (X_train.shape[1], )),\n",
    "    Dense(36, activation = 'relu', kernel_regularizer = l2(PENALTY)),\n",
    "    Dense(18, activation = 'relu', kernel_regularizer = l2(PENALTY)),\n",
    "    Dense(2, activation = 'sigmoid')\n",
    "])\n",
    "\n",
    "# compile model\n",
    "model.compile(optimizer = 'rmsprop',\n",
    "              loss = 'binary_crossentropy',\n",
    "              metrics = ['accuracy'])\n",
    "\n",
    "# prepare response vectors\n",
    "enc = OneHotEncoder()\n",
    "y_trainDL = pd.DataFrame.sparse.from_spmatrix(enc.fit_transform(np.array(y_train).reshape(-1, 1)))\n",
    "y_testDL = pd.DataFrame.sparse.from_spmatrix(enc.fit_transform(np.array(y_test).reshape(-1, 1)))\n",
    "\n",
    "# number of epochs\n",
    "EPOCHS = 50\n",
    "\n",
    "# early stiopping criterion\n",
    "early = EarlyStopping(monitor = 'val_loss', mode = 'min', verbose = 1, patience = 3)\n",
    "\n",
    "# train model\n",
    "trained = model.fit(X_train, \n",
    "                    y_trainDL, \n",
    "                    epochs = EPOCHS, \n",
    "                    batch_size = 128,\n",
    "                    validation_split = 0.2,\n",
    "                    callbacks = early,\n",
    "                    verbose = 0)\n",
    "\n",
    "# prepare model evaluation\n",
    "acc = trained.history['accuracy']\n",
    "val_acc = trained.history['val_accuracy']\n",
    "loss = trained.history['loss']\n",
    "val_loss = trained.history['val_loss']\n",
    "epochs = range(1, len(acc) + 1)\n",
    "\n",
    "# plot training accuracy\n",
    "plt.plot(epochs, acc, 'bo', label='Training acc')\n",
    "plt.plot(epochs, val_acc, 'b', label='Validation acc')\n",
    "plt.xlabel('Epochs')\n",
    "plt.ylabel('Accuracy')\n",
    "plt.title('Training and Validation Accuracy')\n",
    "plt.legend()\n",
    "plt.figure()\n",
    "plt.plot(epochs, loss, 'bo', label='Training loss')\n",
    "plt.plot(epochs, val_loss, 'b', label='Validation loss')\n",
    "plt.xlabel('Epochs')\n",
    "plt.ylabel('Loss')\n",
    "plt.title('Training and Validation Loss')\n",
    "plt.legend()\n",
    "plt.show()\n",
    "\n",
    "# predict on test set\n",
    "test_loss, test_acc = model.evaluate(X_test, y_testDL, verbose = 2)\n",
    "print(f\"Normalizing penalty test accuracy: {round(test_acc * 100, 2)}%\")"
   ]
  },
  {
   "attachments": {},
   "cell_type": "markdown",
   "metadata": {},
   "source": [
    "A basic perceptron model with three hidden layers was fit using an early stopping and dropout regularization. This model achieved a validation accuracy of 85.71% and a test accuracy of 86.05%."
   ]
  },
  {
   "cell_type": "code",
   "execution_count": 19,
   "metadata": {},
   "outputs": [
    {
     "data": {
      "image/png": "[encoded data removed]",
      "text/plain": [
       "<Figure size 640x480 with 1 Axes>"
      ]
     },
     "metadata": {},
     "output_type": "display_data"
    },
    {
     "data": {
      "image/png": "[encoded data removed]",
      "text/plain": [
       "<Figure size 640x480 with 1 Axes>"
      ]
     },
     "metadata": {},
     "output_type": "display_data"
    },
    {
     "name": "stdout",
     "output_type": "stream",
     "text": [
      "2/2 - 0s - loss: 0.3312 - accuracy: 0.8605 - 85ms/epoch - 42ms/step\n",
      "Dropout test accuracy: 86.05%\n"
     ]
    }
   ],
   "source": [
    "# set random seeds\n",
    "np.random.seed(462023)\n",
    "tf.random.set_seed(4112023)\n",
    "\n",
    "# dropout rate hyperparameter\n",
    "RATE = 0.25\n",
    "\n",
    "# define model architecture\n",
    "model = models.Sequential([\n",
    "    Dense(72, activation = 'relu', input_shape = (X_train.shape[1], )),\n",
    "    Dropout(rate = RATE),\n",
    "    Dense(36, activation = 'relu'),\n",
    "    Dropout(rate = RATE),\n",
    "    Dense(18, activation = 'relu'),\n",
    "    Dropout(rate = RATE),\n",
    "    Dense(2, activation = 'sigmoid')\n",
    "])\n",
    "\n",
    "# compile model\n",
    "model.compile(optimizer = 'rmsprop',\n",
    "              loss = 'binary_crossentropy',\n",
    "              metrics = ['accuracy'])\n",
    "\n",
    "# prepare response vectors\n",
    "enc = OneHotEncoder()\n",
    "y_trainDL = pd.DataFrame.sparse.from_spmatrix(enc.fit_transform(np.array(y_train).reshape(-1, 1)))\n",
    "y_testDL = pd.DataFrame.sparse.from_spmatrix(enc.fit_transform(np.array(y_test).reshape(-1, 1)))\n",
    "\n",
    "# number of epochs\n",
    "EPOCHS = 50\n",
    "\n",
    "# early stiopping criterion\n",
    "early = EarlyStopping(monitor = 'val_loss', mode = 'min', verbose = 1, patience = 3)\n",
    "\n",
    "# train model\n",
    "trained = model.fit(X_train, \n",
    "                    y_trainDL, \n",
    "                    epochs = EPOCHS, \n",
    "                    batch_size = 128,\n",
    "                    validation_split = 0.2,\n",
    "                    callbacks = early,\n",
    "                    verbose = 0)\n",
    "\n",
    "# prepare model evaluation\n",
    "acc = trained.history['accuracy']\n",
    "val_acc = trained.history['val_accuracy']\n",
    "loss = trained.history['loss']\n",
    "val_loss = trained.history['val_loss']\n",
    "epochs = range(1, len(acc) + 1)\n",
    "\n",
    "# plot training accuracy\n",
    "plt.plot(epochs, acc, 'bo', label='Training acc')\n",
    "plt.plot(epochs, val_acc, 'b', label='Validation acc')\n",
    "plt.xlabel('Epochs')\n",
    "plt.ylabel('Accuracy')\n",
    "plt.title('Training and Validation Accuracy')\n",
    "plt.legend()\n",
    "plt.figure()\n",
    "plt.plot(epochs, loss, 'bo', label='Training loss')\n",
    "plt.plot(epochs, val_loss, 'b', label='Validation loss')\n",
    "plt.xlabel('Epochs')\n",
    "plt.ylabel('Loss')\n",
    "plt.title('Training and Validation Loss')\n",
    "plt.legend()\n",
    "plt.show()\n",
    "\n",
    "# predict on test set\n",
    "test_loss, test_acc = model.evaluate(X_test, y_testDL, verbose = 2)\n",
    "print(f\"Dropout test accuracy: {round(test_acc * 100, 2)}%\")"
   ]
  }
 ],
 "metadata": {
  "kernelspec": {
   "display_name": "Python 3",
   "language": "python",
   "name": "python3"
  },
  "language_info": {
   "codemirror_mode": {
    "name": "ipython",
    "version": 3
   },
   "file_extension": ".py",
   "mimetype": "text/x-python",
   "name": "python",
   "nbconvert_exporter": "python",
   "pygments_lexer": "ipython3",
   "version": "3.8.15"
  },
  "orig_nbformat": 4,
  "vscode": {
   "interpreter": {
    "hash": "b0fa6594d8f4cbf19f97940f81e996739fb7646882a419484c72d19e05852a7e"
   }
  }
 },
 "nbformat": 4,
 "nbformat_minor": 2
}
