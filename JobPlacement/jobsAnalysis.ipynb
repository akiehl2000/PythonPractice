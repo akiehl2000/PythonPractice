{
 "cells": [
  {
   "attachments": {},
   "cell_type": "markdown",
   "metadata": {},
   "source": [
    "# Job Placement Dataset\n",
    "\n",
    "Source: https://www.kaggle.com/datasets/ahsan81/job-placement-dataset\n",
    "\n",
    "This file contains different attribute of the candidates educational history and work experience. The detailed data dictionary is given below:\n",
    "\n",
    "Data Dictionary\n",
    "gender : Gender of the candidate  \n",
    "ssc_percentage : Senior secondary exams percentage (10th Grade)  \n",
    "ssc_board : Board of education for ssc exams  \n",
    "hsc_percentage : Higher secondary exams percentage (12th Grade)  \n",
    "hsc_borad : Board of education for hsc exams  \n",
    "hsc_subject : Subject of study for hsc  \n",
    "degree_percentage : Percentage of marks in undergrad degree  \n",
    "undergrad_degree : Undergrad degree majors  \n",
    "work_experience : Past work experience  \n",
    "emp_test_percentage : Aptitude test percentage  \n",
    "specialization : Postgrad degree majors - (MBA specialization)  \n",
    "mba_percent : Percentage of marks in MBA degree  \n",
    "status (TARGET) : Status of placement. Placed / Not Placed"
   ]
  },
  {
   "cell_type": "code",
   "execution_count": 567,
   "metadata": {},
   "outputs": [],
   "source": [
    "# import packages\n",
    "import matplotlib as plt\n",
    "import numpy as np\n",
    "import pandas as pd\n",
    "import random\n",
    "import researchpy as rp\n",
    "import scipy.stats as stats\n",
    "import sklearn as sk\n",
    "from sklearn import discriminant_analysis\n",
    "from sklearn import linear_model\n",
    "from sklearn import metrics\n",
    "from sklearn import neighbors"
   ]
  },
  {
   "attachments": {},
   "cell_type": "markdown",
   "metadata": {},
   "source": [
    "## Data Exploration"
   ]
  },
  {
   "cell_type": "code",
   "execution_count": 568,
   "metadata": {},
   "outputs": [
    {
     "data": {
      "text/html": [
       "<div>\n",
       "<style scoped>\n",
       "    .dataframe tbody tr th:only-of-type {\n",
       "        vertical-align: middle;\n",
       "    }\n",
       "\n",
       "    .dataframe tbody tr th {\n",
       "        vertical-align: top;\n",
       "    }\n",
       "\n",
       "    .dataframe thead th {\n",
       "        text-align: right;\n",
       "    }\n",
       "</style>\n",
       "<table border=\"1\" class=\"dataframe\">\n",
       "  <thead>\n",
       "    <tr style=\"text-align: right;\">\n",
       "      <th></th>\n",
       "      <th>gender</th>\n",
       "      <th>ssc_percentage</th>\n",
       "      <th>ssc_board</th>\n",
       "      <th>hsc_percentage</th>\n",
       "      <th>hsc_board</th>\n",
       "      <th>hsc_subject</th>\n",
       "      <th>degree_percentage</th>\n",
       "      <th>undergrad_degree</th>\n",
       "      <th>work_experience</th>\n",
       "      <th>emp_test_percentage</th>\n",
       "      <th>specialisation</th>\n",
       "      <th>mba_percent</th>\n",
       "      <th>status</th>\n",
       "    </tr>\n",
       "  </thead>\n",
       "  <tbody>\n",
       "    <tr>\n",
       "      <th>0</th>\n",
       "      <td>M</td>\n",
       "      <td>67.00</td>\n",
       "      <td>Others</td>\n",
       "      <td>91.00</td>\n",
       "      <td>Others</td>\n",
       "      <td>Commerce</td>\n",
       "      <td>58.00</td>\n",
       "      <td>Sci&amp;Tech</td>\n",
       "      <td>No</td>\n",
       "      <td>55.0</td>\n",
       "      <td>Mkt&amp;HR</td>\n",
       "      <td>58.80</td>\n",
       "      <td>Placed</td>\n",
       "    </tr>\n",
       "    <tr>\n",
       "      <th>1</th>\n",
       "      <td>M</td>\n",
       "      <td>79.33</td>\n",
       "      <td>Central</td>\n",
       "      <td>78.33</td>\n",
       "      <td>Others</td>\n",
       "      <td>Science</td>\n",
       "      <td>77.48</td>\n",
       "      <td>Sci&amp;Tech</td>\n",
       "      <td>Yes</td>\n",
       "      <td>86.5</td>\n",
       "      <td>Mkt&amp;Fin</td>\n",
       "      <td>66.28</td>\n",
       "      <td>Placed</td>\n",
       "    </tr>\n",
       "    <tr>\n",
       "      <th>2</th>\n",
       "      <td>M</td>\n",
       "      <td>65.00</td>\n",
       "      <td>Central</td>\n",
       "      <td>68.00</td>\n",
       "      <td>Central</td>\n",
       "      <td>Arts</td>\n",
       "      <td>64.00</td>\n",
       "      <td>Comm&amp;Mgmt</td>\n",
       "      <td>No</td>\n",
       "      <td>75.0</td>\n",
       "      <td>Mkt&amp;Fin</td>\n",
       "      <td>57.80</td>\n",
       "      <td>Placed</td>\n",
       "    </tr>\n",
       "    <tr>\n",
       "      <th>3</th>\n",
       "      <td>M</td>\n",
       "      <td>56.00</td>\n",
       "      <td>Central</td>\n",
       "      <td>52.00</td>\n",
       "      <td>Central</td>\n",
       "      <td>Science</td>\n",
       "      <td>52.00</td>\n",
       "      <td>Sci&amp;Tech</td>\n",
       "      <td>No</td>\n",
       "      <td>66.0</td>\n",
       "      <td>Mkt&amp;HR</td>\n",
       "      <td>59.43</td>\n",
       "      <td>Not Placed</td>\n",
       "    </tr>\n",
       "    <tr>\n",
       "      <th>4</th>\n",
       "      <td>M</td>\n",
       "      <td>85.80</td>\n",
       "      <td>Central</td>\n",
       "      <td>73.60</td>\n",
       "      <td>Central</td>\n",
       "      <td>Commerce</td>\n",
       "      <td>73.30</td>\n",
       "      <td>Comm&amp;Mgmt</td>\n",
       "      <td>No</td>\n",
       "      <td>96.8</td>\n",
       "      <td>Mkt&amp;Fin</td>\n",
       "      <td>55.50</td>\n",
       "      <td>Placed</td>\n",
       "    </tr>\n",
       "  </tbody>\n",
       "</table>\n",
       "</div>"
      ],
      "text/plain": [
       "  gender  ssc_percentage ssc_board  hsc_percentage hsc_board hsc_subject  \\\n",
       "0      M           67.00    Others           91.00    Others    Commerce   \n",
       "1      M           79.33   Central           78.33    Others     Science   \n",
       "2      M           65.00   Central           68.00   Central        Arts   \n",
       "3      M           56.00   Central           52.00   Central     Science   \n",
       "4      M           85.80   Central           73.60   Central    Commerce   \n",
       "\n",
       "   degree_percentage undergrad_degree work_experience  emp_test_percentage  \\\n",
       "0              58.00         Sci&Tech              No                 55.0   \n",
       "1              77.48         Sci&Tech             Yes                 86.5   \n",
       "2              64.00        Comm&Mgmt              No                 75.0   \n",
       "3              52.00         Sci&Tech              No                 66.0   \n",
       "4              73.30        Comm&Mgmt              No                 96.8   \n",
       "\n",
       "  specialisation  mba_percent      status  \n",
       "0         Mkt&HR        58.80      Placed  \n",
       "1        Mkt&Fin        66.28      Placed  \n",
       "2        Mkt&Fin        57.80      Placed  \n",
       "3         Mkt&HR        59.43  Not Placed  \n",
       "4        Mkt&Fin        55.50      Placed  "
      ]
     },
     "execution_count": 568,
     "metadata": {},
     "output_type": "execute_result"
    }
   ],
   "source": [
    "# read data from .csv file\n",
    "data = pd.read_csv('Job_Placement_Data.csv')\n",
    "\n",
    "# peek at data\n",
    "data.head()"
   ]
  },
  {
   "cell_type": "code",
   "execution_count": 569,
   "metadata": {},
   "outputs": [
    {
     "data": {
      "text/plain": [
       "(215, 13)"
      ]
     },
     "metadata": {},
     "output_type": "display_data"
    },
    {
     "name": "stdout",
     "output_type": "stream",
     "text": [
      "<class 'pandas.core.frame.DataFrame'>\n",
      "RangeIndex: 215 entries, 0 to 214\n",
      "Data columns (total 13 columns):\n",
      " #   Column               Non-Null Count  Dtype  \n",
      "---  ------               --------------  -----  \n",
      " 0   gender               215 non-null    object \n",
      " 1   ssc_percentage       215 non-null    float64\n",
      " 2   ssc_board            215 non-null    object \n",
      " 3   hsc_percentage       215 non-null    float64\n",
      " 4   hsc_board            215 non-null    object \n",
      " 5   hsc_subject          215 non-null    object \n",
      " 6   degree_percentage    215 non-null    float64\n",
      " 7   undergrad_degree     215 non-null    object \n",
      " 8   work_experience      215 non-null    object \n",
      " 9   emp_test_percentage  215 non-null    float64\n",
      " 10  specialisation       215 non-null    object \n",
      " 11  mba_percent          215 non-null    float64\n",
      " 12  status               215 non-null    object \n",
      "dtypes: float64(5), object(8)\n",
      "memory usage: 22.0+ KB\n"
     ]
    },
    {
     "data": {
      "text/plain": [
       "None"
      ]
     },
     "metadata": {},
     "output_type": "display_data"
    },
    {
     "data": {
      "text/plain": [
       "gender                 0\n",
       "ssc_percentage         0\n",
       "ssc_board              0\n",
       "hsc_percentage         0\n",
       "hsc_board              0\n",
       "hsc_subject            0\n",
       "degree_percentage      0\n",
       "undergrad_degree       0\n",
       "work_experience        0\n",
       "emp_test_percentage    0\n",
       "specialisation         0\n",
       "mba_percent            0\n",
       "status                 0\n",
       "dtype: int64"
      ]
     },
     "metadata": {},
     "output_type": "display_data"
    }
   ],
   "source": [
    "# check dimensions of data frame\n",
    "display(data.shape)\n",
    "\n",
    "# check data types\n",
    "display(data.info())\n",
    "\n",
    "# check for missing values\n",
    "display(data.isna().sum())"
   ]
  },
  {
   "cell_type": "code",
   "execution_count": 570,
   "metadata": {},
   "outputs": [
    {
     "data": {
      "text/plain": [
       "Placed        148\n",
       "Not Placed     67\n",
       "Name: status, dtype: int64"
      ]
     },
     "metadata": {},
     "output_type": "display_data"
    },
    {
     "data": {
      "text/plain": [
       "0.6883720930232559"
      ]
     },
     "execution_count": 570,
     "metadata": {},
     "output_type": "execute_result"
    }
   ],
   "source": [
    "# calculate job placement rate\n",
    "display(data['status'].value_counts())\n",
    "np.mean(data['status'] == 'Placed')"
   ]
  },
  {
   "attachments": {},
   "cell_type": "markdown",
   "metadata": {},
   "source": [
    "### Numeric Predictors"
   ]
  },
  {
   "cell_type": "code",
   "execution_count": 571,
   "metadata": {},
   "outputs": [
    {
     "data": {
      "text/html": [
       "<div>\n",
       "<style scoped>\n",
       "    .dataframe tbody tr th:only-of-type {\n",
       "        vertical-align: middle;\n",
       "    }\n",
       "\n",
       "    .dataframe tbody tr th {\n",
       "        vertical-align: top;\n",
       "    }\n",
       "\n",
       "    .dataframe thead th {\n",
       "        text-align: right;\n",
       "    }\n",
       "</style>\n",
       "<table border=\"1\" class=\"dataframe\">\n",
       "  <thead>\n",
       "    <tr style=\"text-align: right;\">\n",
       "      <th></th>\n",
       "      <th>ssc_percentage</th>\n",
       "      <th>hsc_percentage</th>\n",
       "      <th>degree_percentage</th>\n",
       "      <th>emp_test_percentage</th>\n",
       "      <th>mba_percent</th>\n",
       "    </tr>\n",
       "  </thead>\n",
       "  <tbody>\n",
       "    <tr>\n",
       "      <th>count</th>\n",
       "      <td>215.000000</td>\n",
       "      <td>215.000000</td>\n",
       "      <td>215.000000</td>\n",
       "      <td>215.000000</td>\n",
       "      <td>215.000000</td>\n",
       "    </tr>\n",
       "    <tr>\n",
       "      <th>mean</th>\n",
       "      <td>67.303395</td>\n",
       "      <td>66.333163</td>\n",
       "      <td>66.370186</td>\n",
       "      <td>72.100558</td>\n",
       "      <td>62.278186</td>\n",
       "    </tr>\n",
       "    <tr>\n",
       "      <th>std</th>\n",
       "      <td>10.827205</td>\n",
       "      <td>10.897509</td>\n",
       "      <td>7.358743</td>\n",
       "      <td>13.275956</td>\n",
       "      <td>5.833385</td>\n",
       "    </tr>\n",
       "    <tr>\n",
       "      <th>min</th>\n",
       "      <td>40.890000</td>\n",
       "      <td>37.000000</td>\n",
       "      <td>50.000000</td>\n",
       "      <td>50.000000</td>\n",
       "      <td>51.210000</td>\n",
       "    </tr>\n",
       "    <tr>\n",
       "      <th>25%</th>\n",
       "      <td>60.600000</td>\n",
       "      <td>60.900000</td>\n",
       "      <td>61.000000</td>\n",
       "      <td>60.000000</td>\n",
       "      <td>57.945000</td>\n",
       "    </tr>\n",
       "    <tr>\n",
       "      <th>50%</th>\n",
       "      <td>67.000000</td>\n",
       "      <td>65.000000</td>\n",
       "      <td>66.000000</td>\n",
       "      <td>71.000000</td>\n",
       "      <td>62.000000</td>\n",
       "    </tr>\n",
       "    <tr>\n",
       "      <th>75%</th>\n",
       "      <td>75.700000</td>\n",
       "      <td>73.000000</td>\n",
       "      <td>72.000000</td>\n",
       "      <td>83.500000</td>\n",
       "      <td>66.255000</td>\n",
       "    </tr>\n",
       "    <tr>\n",
       "      <th>max</th>\n",
       "      <td>89.400000</td>\n",
       "      <td>97.700000</td>\n",
       "      <td>91.000000</td>\n",
       "      <td>98.000000</td>\n",
       "      <td>77.890000</td>\n",
       "    </tr>\n",
       "  </tbody>\n",
       "</table>\n",
       "</div>"
      ],
      "text/plain": [
       "       ssc_percentage  hsc_percentage  degree_percentage  emp_test_percentage  \\\n",
       "count      215.000000      215.000000         215.000000           215.000000   \n",
       "mean        67.303395       66.333163          66.370186            72.100558   \n",
       "std         10.827205       10.897509           7.358743            13.275956   \n",
       "min         40.890000       37.000000          50.000000            50.000000   \n",
       "25%         60.600000       60.900000          61.000000            60.000000   \n",
       "50%         67.000000       65.000000          66.000000            71.000000   \n",
       "75%         75.700000       73.000000          72.000000            83.500000   \n",
       "max         89.400000       97.700000          91.000000            98.000000   \n",
       "\n",
       "       mba_percent  \n",
       "count   215.000000  \n",
       "mean     62.278186  \n",
       "std       5.833385  \n",
       "min      51.210000  \n",
       "25%      57.945000  \n",
       "50%      62.000000  \n",
       "75%      66.255000  \n",
       "max      77.890000  "
      ]
     },
     "execution_count": 571,
     "metadata": {},
     "output_type": "execute_result"
    }
   ],
   "source": [
    "# summarize numeric predictors\n",
    "data.describe()"
   ]
  },
  {
   "cell_type": "code",
   "execution_count": 572,
   "metadata": {},
   "outputs": [],
   "source": [
    "# likelihood ratio test function from http://rnowling.github.io/machine/learning/2017/10/07/likelihood-ratio-test.html\n",
    "def likelihood_ratio_test(features_alternate, labels, lr_model, features_null=None):\n",
    "    \"\"\"\n",
    "    Compute the likelihood ratio test for a model trained on the set of features in\n",
    "    `features_alternate` vs a null model.  If `features_null` is not defined, then\n",
    "    the null model simply uses the intercept (class probabilities).  Note that\n",
    "    `features_null` must be a subset of `features_alternative` -- it can not contain\n",
    "    features that are not in `features_alternate`.\n",
    "    Returns the p-value, which can be used to accept or reject the null hypothesis.\n",
    "    \"\"\"\n",
    "    labels = np.array(labels)\n",
    "    features_alternate = np.array(features_alternate)\n",
    "    \n",
    "    if features_null:\n",
    "        features_null = np.array(features_null)\n",
    "        \n",
    "        if features_null.shape[1] >= features_alternate.shape[1]:\n",
    "            raise (ValueError, \"Alternate features must have more features than null features\")\n",
    "        \n",
    "        lr_model.fit(features_null, labels)\n",
    "        null_prob = lr_model.predict_proba(features_null)[:, 1]\n",
    "        df = features_alternate.shape[1] - features_null.shape[1]\n",
    "    else:\n",
    "        null_prob = sum(labels) / float(labels.shape[0]) * \\\n",
    "                    np.ones(labels.shape)\n",
    "        df = features_alternate.shape[1]\n",
    "    \n",
    "    lr_model.fit(features_alternate, labels)\n",
    "    alt_prob = lr_model.predict_proba(features_alternate)\n",
    "\n",
    "    alt_log_likelihood = -sk.metrics.log_loss(labels,\n",
    "                                   alt_prob,\n",
    "                                   normalize=False)\n",
    "    null_log_likelihood = -sk.metrics.log_loss(labels,\n",
    "                                    null_prob,\n",
    "                                    normalize=False)\n",
    "\n",
    "    G = 2 * (alt_log_likelihood - null_log_likelihood)\n",
    "    p_value = stats.chi2.sf(G, df)\n",
    "\n",
    "    return p_value"
   ]
  },
  {
   "cell_type": "code",
   "execution_count": 573,
   "metadata": {},
   "outputs": [
    {
     "data": {
      "text/plain": [
       "8.939383353715161e-23"
      ]
     },
     "execution_count": 573,
     "metadata": {},
     "output_type": "execute_result"
    },
    {
     "data": {
      "image/png": "[encoded data removed]",
      "text/plain": [
       "<Figure size 432x288 with 1 Axes>"
      ]
     },
     "metadata": {
      "needs_background": "light"
     },
     "output_type": "display_data"
    }
   ],
   "source": [
    "# boxplot factored by status\n",
    "data.boxplot('ssc_percentage', by = 'status')\n",
    "\n",
    "# fit logistic regression model on single predictor\n",
    "logFit = sk.linear_model.LogisticRegression().fit(np.array(data['ssc_percentage']).reshape(-1, 1), data['status'])\n",
    "\n",
    "# perform likelihood ratio test for independence\n",
    "likelihood_ratio_test(np.array(data['ssc_percentage']).reshape(-1, 1), (data['status'] == 'Placed').astype(int), logFit)"
   ]
  },
  {
   "cell_type": "code",
   "execution_count": 574,
   "metadata": {},
   "outputs": [
    {
     "data": {
      "text/plain": [
       "2.2508006047868448e-15"
      ]
     },
     "execution_count": 574,
     "metadata": {},
     "output_type": "execute_result"
    },
    {
     "data": {
      "image/png": "[encoded data removed]",
      "text/plain": [
       "<Figure size 432x288 with 1 Axes>"
      ]
     },
     "metadata": {
      "needs_background": "light"
     },
     "output_type": "display_data"
    }
   ],
   "source": [
    "# boxplot factored by status\n",
    "data.boxplot('hsc_percentage', by = 'status')\n",
    "\n",
    "# fit logistic regression model on single predictor\n",
    "logFit = sk.linear_model.LogisticRegression().fit(np.array(data['hsc_percentage']).reshape(-1, 1), data['status'])\n",
    "\n",
    "# perform likelihood ratio test for independence\n",
    "likelihood_ratio_test(np.array(data['hsc_percentage']).reshape(-1, 1), (data['status'] == 'Placed').astype(int), logFit)"
   ]
  },
  {
   "cell_type": "code",
   "execution_count": 575,
   "metadata": {},
   "outputs": [
    {
     "data": {
      "text/plain": [
       "2.044428524054884e-14"
      ]
     },
     "execution_count": 575,
     "metadata": {},
     "output_type": "execute_result"
    },
    {
     "data": {
      "image/png": "[encoded data removed]",
      "text/plain": [
       "<Figure size 432x288 with 1 Axes>"
      ]
     },
     "metadata": {
      "needs_background": "light"
     },
     "output_type": "display_data"
    }
   ],
   "source": [
    "# boxplot factored by status\n",
    "data.boxplot('degree_percentage', by = 'status')\n",
    "\n",
    "# fit logistic regression model on single predictor\n",
    "logFit = sk.linear_model.LogisticRegression().fit(np.array(data['degree_percentage']).reshape(-1, 1), data['status'])\n",
    "\n",
    "# perform likelihood ratio test for independence\n",
    "likelihood_ratio_test(np.array(data['degree_percentage']).reshape(-1, 1), (data['status'] == 'Placed').astype(int), logFit)"
   ]
  },
  {
   "attachments": {},
   "cell_type": "markdown",
   "metadata": {},
   "source": [
    "### Categorical Predictors"
   ]
  },
  {
   "cell_type": "code",
   "execution_count": 576,
   "metadata": {},
   "outputs": [
    {
     "data": {
      "text/html": [
       "<div>\n",
       "<style scoped>\n",
       "    .dataframe tbody tr th:only-of-type {\n",
       "        vertical-align: middle;\n",
       "    }\n",
       "\n",
       "    .dataframe tbody tr th {\n",
       "        vertical-align: top;\n",
       "    }\n",
       "\n",
       "    .dataframe thead th {\n",
       "        text-align: right;\n",
       "    }\n",
       "</style>\n",
       "<table border=\"1\" class=\"dataframe\">\n",
       "  <thead>\n",
       "    <tr style=\"text-align: right;\">\n",
       "      <th></th>\n",
       "      <th>Variable</th>\n",
       "      <th>Outcome</th>\n",
       "      <th>Count</th>\n",
       "      <th>Percent</th>\n",
       "    </tr>\n",
       "  </thead>\n",
       "  <tbody>\n",
       "    <tr>\n",
       "      <th>0</th>\n",
       "      <td>gender</td>\n",
       "      <td>M</td>\n",
       "      <td>139</td>\n",
       "      <td>64.65</td>\n",
       "    </tr>\n",
       "    <tr>\n",
       "      <th>1</th>\n",
       "      <td></td>\n",
       "      <td>F</td>\n",
       "      <td>76</td>\n",
       "      <td>35.35</td>\n",
       "    </tr>\n",
       "    <tr>\n",
       "      <th>2</th>\n",
       "      <td>ssc_board</td>\n",
       "      <td>Central</td>\n",
       "      <td>116</td>\n",
       "      <td>53.95</td>\n",
       "    </tr>\n",
       "    <tr>\n",
       "      <th>3</th>\n",
       "      <td></td>\n",
       "      <td>Others</td>\n",
       "      <td>99</td>\n",
       "      <td>46.05</td>\n",
       "    </tr>\n",
       "    <tr>\n",
       "      <th>4</th>\n",
       "      <td>hsc_board</td>\n",
       "      <td>Others</td>\n",
       "      <td>131</td>\n",
       "      <td>60.93</td>\n",
       "    </tr>\n",
       "    <tr>\n",
       "      <th>5</th>\n",
       "      <td></td>\n",
       "      <td>Central</td>\n",
       "      <td>84</td>\n",
       "      <td>39.07</td>\n",
       "    </tr>\n",
       "    <tr>\n",
       "      <th>6</th>\n",
       "      <td>hsc_subject</td>\n",
       "      <td>Commerce</td>\n",
       "      <td>113</td>\n",
       "      <td>52.56</td>\n",
       "    </tr>\n",
       "    <tr>\n",
       "      <th>7</th>\n",
       "      <td></td>\n",
       "      <td>Science</td>\n",
       "      <td>91</td>\n",
       "      <td>42.33</td>\n",
       "    </tr>\n",
       "    <tr>\n",
       "      <th>8</th>\n",
       "      <td></td>\n",
       "      <td>Arts</td>\n",
       "      <td>11</td>\n",
       "      <td>5.12</td>\n",
       "    </tr>\n",
       "    <tr>\n",
       "      <th>9</th>\n",
       "      <td>undergrad_degree</td>\n",
       "      <td>Comm&amp;Mgmt</td>\n",
       "      <td>145</td>\n",
       "      <td>67.44</td>\n",
       "    </tr>\n",
       "    <tr>\n",
       "      <th>10</th>\n",
       "      <td></td>\n",
       "      <td>Sci&amp;Tech</td>\n",
       "      <td>59</td>\n",
       "      <td>27.44</td>\n",
       "    </tr>\n",
       "    <tr>\n",
       "      <th>11</th>\n",
       "      <td></td>\n",
       "      <td>Others</td>\n",
       "      <td>11</td>\n",
       "      <td>5.12</td>\n",
       "    </tr>\n",
       "    <tr>\n",
       "      <th>12</th>\n",
       "      <td>work_experience</td>\n",
       "      <td>No</td>\n",
       "      <td>141</td>\n",
       "      <td>65.58</td>\n",
       "    </tr>\n",
       "    <tr>\n",
       "      <th>13</th>\n",
       "      <td></td>\n",
       "      <td>Yes</td>\n",
       "      <td>74</td>\n",
       "      <td>34.42</td>\n",
       "    </tr>\n",
       "    <tr>\n",
       "      <th>14</th>\n",
       "      <td>specialisation</td>\n",
       "      <td>Mkt&amp;Fin</td>\n",
       "      <td>120</td>\n",
       "      <td>55.81</td>\n",
       "    </tr>\n",
       "    <tr>\n",
       "      <th>15</th>\n",
       "      <td></td>\n",
       "      <td>Mkt&amp;HR</td>\n",
       "      <td>95</td>\n",
       "      <td>44.19</td>\n",
       "    </tr>\n",
       "    <tr>\n",
       "      <th>16</th>\n",
       "      <td>status</td>\n",
       "      <td>Placed</td>\n",
       "      <td>148</td>\n",
       "      <td>68.84</td>\n",
       "    </tr>\n",
       "    <tr>\n",
       "      <th>17</th>\n",
       "      <td></td>\n",
       "      <td>Not Placed</td>\n",
       "      <td>67</td>\n",
       "      <td>31.16</td>\n",
       "    </tr>\n",
       "  </tbody>\n",
       "</table>\n",
       "</div>"
      ],
      "text/plain": [
       "            Variable     Outcome  Count  Percent\n",
       "0             gender           M    139    64.65\n",
       "1                              F     76    35.35\n",
       "2          ssc_board     Central    116    53.95\n",
       "3                         Others     99    46.05\n",
       "4          hsc_board      Others    131    60.93\n",
       "5                        Central     84    39.07\n",
       "6        hsc_subject    Commerce    113    52.56\n",
       "7                        Science     91    42.33\n",
       "8                           Arts     11     5.12\n",
       "9   undergrad_degree   Comm&Mgmt    145    67.44\n",
       "10                      Sci&Tech     59    27.44\n",
       "11                        Others     11     5.12\n",
       "12   work_experience          No    141    65.58\n",
       "13                           Yes     74    34.42\n",
       "14    specialisation     Mkt&Fin    120    55.81\n",
       "15                        Mkt&HR     95    44.19\n",
       "16            status      Placed    148    68.84\n",
       "17                    Not Placed     67    31.16"
      ]
     },
     "execution_count": 576,
     "metadata": {},
     "output_type": "execute_result"
    }
   ],
   "source": [
    "# sumamrize categorical predictors\n",
    "rp.summary_cat(data[['gender', 'ssc_board', 'hsc_board', 'hsc_subject', 'undergrad_degree', 'work_experience', 'specialisation', 'status']])"
   ]
  },
  {
   "cell_type": "code",
   "execution_count": 577,
   "metadata": {},
   "outputs": [
    {
     "data": {
      "text/html": [
       "<div>\n",
       "<style scoped>\n",
       "    .dataframe tbody tr th:only-of-type {\n",
       "        vertical-align: middle;\n",
       "    }\n",
       "\n",
       "    .dataframe tbody tr th {\n",
       "        vertical-align: top;\n",
       "    }\n",
       "\n",
       "    .dataframe thead th {\n",
       "        text-align: right;\n",
       "    }\n",
       "</style>\n",
       "<table border=\"1\" class=\"dataframe\">\n",
       "  <thead>\n",
       "    <tr style=\"text-align: right;\">\n",
       "      <th>work_experience</th>\n",
       "      <th>No</th>\n",
       "      <th>Yes</th>\n",
       "    </tr>\n",
       "    <tr>\n",
       "      <th>status</th>\n",
       "      <th></th>\n",
       "      <th></th>\n",
       "    </tr>\n",
       "  </thead>\n",
       "  <tbody>\n",
       "    <tr>\n",
       "      <th>Not Placed</th>\n",
       "      <td>57</td>\n",
       "      <td>10</td>\n",
       "    </tr>\n",
       "    <tr>\n",
       "      <th>Placed</th>\n",
       "      <td>84</td>\n",
       "      <td>64</td>\n",
       "    </tr>\n",
       "  </tbody>\n",
       "</table>\n",
       "</div>"
      ],
      "text/plain": [
       "work_experience  No  Yes\n",
       "status                  \n",
       "Not Placed       57   10\n",
       "Placed           84   64"
      ]
     },
     "metadata": {},
     "output_type": "display_data"
    },
    {
     "data": {
      "text/plain": [
       "(15.154425347637423,\n",
       " 9.906584720516494e-05,\n",
       " 1,\n",
       " array([[43.93953488, 23.06046512],\n",
       "        [97.06046512, 50.93953488]]))"
      ]
     },
     "execution_count": 577,
     "metadata": {},
     "output_type": "execute_result"
    }
   ],
   "source": [
    "# construct contingency table\n",
    "contingency = pd.crosstab(data['status'], data['work_experience'])\n",
    "display(contingency)\n",
    "\n",
    "# perform chi-squared test for independence\n",
    "stats.chi2_contingency(contingency)"
   ]
  },
  {
   "cell_type": "code",
   "execution_count": 578,
   "metadata": {},
   "outputs": [
    {
     "data": {
      "text/html": [
       "<div>\n",
       "<style scoped>\n",
       "    .dataframe tbody tr th:only-of-type {\n",
       "        vertical-align: middle;\n",
       "    }\n",
       "\n",
       "    .dataframe tbody tr th {\n",
       "        vertical-align: top;\n",
       "    }\n",
       "\n",
       "    .dataframe thead th {\n",
       "        text-align: right;\n",
       "    }\n",
       "</style>\n",
       "<table border=\"1\" class=\"dataframe\">\n",
       "  <thead>\n",
       "    <tr style=\"text-align: right;\">\n",
       "      <th>specialisation</th>\n",
       "      <th>Mkt&amp;Fin</th>\n",
       "      <th>Mkt&amp;HR</th>\n",
       "    </tr>\n",
       "    <tr>\n",
       "      <th>status</th>\n",
       "      <th></th>\n",
       "      <th></th>\n",
       "    </tr>\n",
       "  </thead>\n",
       "  <tbody>\n",
       "    <tr>\n",
       "      <th>Not Placed</th>\n",
       "      <td>25</td>\n",
       "      <td>42</td>\n",
       "    </tr>\n",
       "    <tr>\n",
       "      <th>Placed</th>\n",
       "      <td>95</td>\n",
       "      <td>53</td>\n",
       "    </tr>\n",
       "  </tbody>\n",
       "</table>\n",
       "</div>"
      ],
      "text/plain": [
       "specialisation  Mkt&Fin  Mkt&HR\n",
       "status                         \n",
       "Not Placed           25      42\n",
       "Placed               95      53"
      ]
     },
     "metadata": {},
     "output_type": "display_data"
    },
    {
     "data": {
      "text/plain": [
       "(12.440229009203623,\n",
       " 0.00042018425858864284,\n",
       " 1,\n",
       " array([[37.39534884, 29.60465116],\n",
       "        [82.60465116, 65.39534884]]))"
      ]
     },
     "execution_count": 578,
     "metadata": {},
     "output_type": "execute_result"
    }
   ],
   "source": [
    "# construct contingency table\n",
    "contingency = pd.crosstab(data['status'], data['specialisation'])\n",
    "display(contingency)\n",
    "\n",
    "# perform chi-squared test for independence\n",
    "stats.chi2_contingency(contingency)"
   ]
  },
  {
   "attachments": {},
   "cell_type": "markdown",
   "metadata": {},
   "source": [
    "## Model Fitting"
   ]
  },
  {
   "cell_type": "code",
   "execution_count": 579,
   "metadata": {},
   "outputs": [],
   "source": [
    "# cast binary categorical predictor as numeric\n",
    "data['work_experience'] = (data['work_experience'] == 'Yes').astype(int)"
   ]
  },
  {
   "cell_type": "code",
   "execution_count": 580,
   "metadata": {},
   "outputs": [
    {
     "data": {
      "text/plain": [
       "0.7395703686092703"
      ]
     },
     "execution_count": 580,
     "metadata": {},
     "output_type": "execute_result"
    }
   ],
   "source": [
    "# set random seed\n",
    "np.random.seed(2082023)\n",
    "\n",
    "# number of folds for cross-validation\n",
    "K = 10\n",
    "\n",
    "# randomly select folds\n",
    "folds = np.random.choice(range(K), data.shape[0], replace=True)\n",
    "\n",
    "# initialize empty array\n",
    "accuracy = np.zeros([K, 1])\n",
    "\n",
    "# loop through folds\n",
    "for fold in range(K - 1):\n",
    "    # identify training and held-out data\n",
    "    train_data = data.iloc[np.where(folds != fold)]\n",
    "    valid_data = data.iloc[np.where(folds == fold)]\n",
    "\n",
    "    # define training sets\n",
    "    train_X = train_data[['ssc_percentage', 'hsc_percentage', 'degree_percentage', 'work_experience']]\n",
    "    train_y = train_data['status']\n",
    "\n",
    "    # define validation sets\n",
    "    valid_X = valid_data[['ssc_percentage', 'hsc_percentage', 'degree_percentage', 'work_experience']]\n",
    "    valid_y = valid_data['status']\n",
    "\n",
    "    # fit logistic regression model\n",
    "    logFit = sk.linear_model.LogisticRegression().fit(train_X, train_y)\n",
    "\n",
    "    # generate predictions on held-out data\n",
    "    logPred = logFit.predict(valid_X)\n",
    "\n",
    "    # calculate predictive accuracy\n",
    "    accuracy[fold] = np.mean(logPred == valid_y)\n",
    "\n",
    "# calculate cross-validation predictive accuracy\n",
    "np.mean(accuracy)\n"
   ]
  },
  {
   "cell_type": "code",
   "execution_count": 581,
   "metadata": {},
   "outputs": [
    {
     "data": {
      "text/plain": [
       "0.7395703686092703"
      ]
     },
     "execution_count": 581,
     "metadata": {},
     "output_type": "execute_result"
    }
   ],
   "source": [
    "# set random seed\n",
    "np.random.seed(2082023)\n",
    "\n",
    "# number of folds for cross-validation\n",
    "K = 10\n",
    "\n",
    "# randomly select folds\n",
    "folds = np.random.choice(range(K), data.shape[0], replace=True)\n",
    "\n",
    "# initialize empty array\n",
    "accuracy = np.zeros([K, 1])\n",
    "\n",
    "# loop through folds\n",
    "for fold in range(K - 1):\n",
    "    # identify training and held-out data\n",
    "    train_data = data.iloc[np.where(folds != fold)]\n",
    "    valid_data = data.iloc[np.where(folds == fold)]\n",
    "\n",
    "    # define training sets\n",
    "    train_X = train_data[['ssc_percentage', 'hsc_percentage', 'degree_percentage', 'work_experience']]\n",
    "    train_y = train_data['status']\n",
    "\n",
    "    # define validation sets\n",
    "    valid_X = valid_data[['ssc_percentage', 'hsc_percentage', 'degree_percentage', 'work_experience']]\n",
    "    valid_y = valid_data['status']\n",
    "\n",
    "    # fit LDA model\n",
    "    ldaFit = sk.discriminant_analysis.LinearDiscriminantAnalysis().fit(train_X, train_y)\n",
    "\n",
    "    # generate predictions on held-out data\n",
    "    ldaPred = ldaFit.predict(valid_X)\n",
    "\n",
    "    # calculate predictive accuracy\n",
    "    accuracy[fold] = np.mean(ldaPred == valid_y)\n",
    "\n",
    "# calculate cross-validation predictive accuracy\n",
    "np.mean(accuracy)"
   ]
  },
  {
   "cell_type": "code",
   "execution_count": 586,
   "metadata": {},
   "outputs": [
    {
     "data": {
      "text/html": [
       "<div>\n",
       "<style scoped>\n",
       "    .dataframe tbody tr th:only-of-type {\n",
       "        vertical-align: middle;\n",
       "    }\n",
       "\n",
       "    .dataframe tbody tr th {\n",
       "        vertical-align: top;\n",
       "    }\n",
       "\n",
       "    .dataframe thead th {\n",
       "        text-align: right;\n",
       "    }\n",
       "</style>\n",
       "<table border=\"1\" class=\"dataframe\">\n",
       "  <thead>\n",
       "    <tr style=\"text-align: right;\">\n",
       "      <th></th>\n",
       "      <th>K</th>\n",
       "      <th>Accuracy</th>\n",
       "    </tr>\n",
       "  </thead>\n",
       "  <tbody>\n",
       "    <tr>\n",
       "      <th>0</th>\n",
       "      <td>1.0</td>\n",
       "      <td>0.697608</td>\n",
       "    </tr>\n",
       "    <tr>\n",
       "      <th>1</th>\n",
       "      <td>2.0</td>\n",
       "      <td>0.663075</td>\n",
       "    </tr>\n",
       "    <tr>\n",
       "      <th>2</th>\n",
       "      <td>5.0</td>\n",
       "      <td>0.738625</td>\n",
       "    </tr>\n",
       "    <tr>\n",
       "      <th>3</th>\n",
       "      <td>10.0</td>\n",
       "      <td>0.759272</td>\n",
       "    </tr>\n",
       "    <tr>\n",
       "      <th>4</th>\n",
       "      <td>25.0</td>\n",
       "      <td>0.755700</td>\n",
       "    </tr>\n",
       "    <tr>\n",
       "      <th>5</th>\n",
       "      <td>50.0</td>\n",
       "      <td>0.740278</td>\n",
       "    </tr>\n",
       "    <tr>\n",
       "      <th>6</th>\n",
       "      <td>100.0</td>\n",
       "      <td>0.700083</td>\n",
       "    </tr>\n",
       "  </tbody>\n",
       "</table>\n",
       "</div>"
      ],
      "text/plain": [
       "       K  Accuracy\n",
       "0    1.0  0.697608\n",
       "1    2.0  0.663075\n",
       "2    5.0  0.738625\n",
       "3   10.0  0.759272\n",
       "4   25.0  0.755700\n",
       "5   50.0  0.740278\n",
       "6  100.0  0.700083"
      ]
     },
     "execution_count": 586,
     "metadata": {},
     "output_type": "execute_result"
    }
   ],
   "source": [
    "# define function to help tune K\n",
    "def CrossValidate(k):\n",
    "    \"\"\"\n",
    "    Given a value for K, calculate classification accuracy for a KNN model using 10-fold cross-validation. \n",
    "    \"\"\"\n",
    "    # set random seed\n",
    "    np.random.seed(2082023)\n",
    "\n",
    "    # number of folds for cross-validation\n",
    "    K = 10\n",
    "\n",
    "    # randomly select folds\n",
    "    folds = np.random.choice(range(K), data.shape[0], replace=True)\n",
    "\n",
    "    # initialize empty array\n",
    "    accuracy = np.zeros([K, 1])\n",
    "\n",
    "    # loop through folds\n",
    "    for fold in range(K - 1):\n",
    "        # identify training and held-out data\n",
    "        train_data = data.iloc[np.where(folds != fold)]\n",
    "        valid_data = data.iloc[np.where(folds == fold)]\n",
    "\n",
    "        # define training sets\n",
    "        train_X = train_data[['ssc_percentage', 'hsc_percentage', 'degree_percentage', 'work_experience']]\n",
    "        train_y = train_data['status']\n",
    "\n",
    "        # define validation sets\n",
    "        valid_X = valid_data[['ssc_percentage', 'hsc_percentage', 'degree_percentage', 'work_experience']]\n",
    "        valid_y = valid_data['status']\n",
    "\n",
    "        # fit KNN model\n",
    "        knnFit = sk.neighbors.KNeighborsClassifier(n_neighbors=k).fit(train_X, train_y)\n",
    "\n",
    "        # generate predictions on held-out data\n",
    "        knnPred = knnFit.predict(valid_X)\n",
    "\n",
    "        # calculate predictive accuracy\n",
    "        accuracy[fold] = np.mean(knnPred == valid_y)\n",
    "\n",
    "    # calculate cross-validation predictive accuracy\n",
    "    return(np.mean(accuracy))\n",
    "\n",
    "# intialize data frame for tuning\n",
    "Ks = np.array([1, 2, 5, 10, 25, 50, 100]).reshape(7, 1)\n",
    "knnResults = pd.DataFrame(np.concatenate((Ks, np.zeros(7).reshape(7, 1)), axis = 1), columns = ['K', 'Accuracy'])\n",
    "\n",
    "# tune value of K\n",
    "for k in Ks:\n",
    "    # calculate cross-validation accuracy for given K\n",
    "    knnResults['Accuracy'][np.where(knnResults['K'] == k[0])[0]] = CrossValidate(k[0])\n",
    "\n",
    "# tuning results\n",
    "knnResults"
   ]
  }
 ],
 "metadata": {
  "kernelspec": {
   "display_name": "Python 3",
   "language": "python",
   "name": "python3"
  },
  "language_info": {
   "codemirror_mode": {
    "name": "ipython",
    "version": 3
   },
   "file_extension": ".py",
   "mimetype": "text/x-python",
   "name": "python",
   "nbconvert_exporter": "python",
   "pygments_lexer": "ipython3",
   "version": "3.9.10"
  },
  "orig_nbformat": 4,
  "vscode": {
   "interpreter": {
    "hash": "b0fa6594d8f4cbf19f97940f81e996739fb7646882a419484c72d19e05852a7e"
   }
  }
 },
 "nbformat": 4,
 "nbformat_minor": 2
}
